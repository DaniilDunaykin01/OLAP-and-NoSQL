{
 "cells": [
  {
   "cell_type": "code",
   "execution_count": 1,
   "id": "f9c90135-43c4-48b3-bdf2-e8842db7112d",
   "metadata": {},
   "outputs": [],
   "source": [
    "import pymongo as pm"
   ]
  },
  {
   "cell_type": "code",
   "execution_count": 2,
   "id": "0f5b6087-48dc-4d7b-b460-ea88c988ca1e",
   "metadata": {},
   "outputs": [],
   "source": [
    "client = pm.MongoClient('localhost', 27017)\n",
    "\n",
    "db = client['test']\n",
    "\n",
    "collection = db['users']"
   ]
  },
  {
   "cell_type": "code",
   "execution_count": 15,
   "id": "b904b8e4-a781-4cca-a5b3-9639b681ba4a",
   "metadata": {},
   "outputs": [],
   "source": [
    "client = pm.MongoClient('localhost', 40000)\n",
    "\n",
    "db = client['test']\n",
    "\n",
    "collection = db['users']"
   ]
  },
  {
   "cell_type": "code",
   "execution_count": 4,
   "id": "78ba4e47-c5fe-4d51-8f5b-20622547eaee",
   "metadata": {},
   "outputs": [
    {
     "name": "stdout",
     "output_type": "stream",
     "text": [
      "{'_id': ObjectId('626b9059a1cc83918608d7c5'), 'name': 'Tom'}\n",
      "{'_id': ObjectId('6274221da990261424f713fd'), 'name': 'Daniil', 'age': 21.0, 'gender': 'Male', 'vuz': 'Dubna'}\n",
      "{'_id': ObjectId('62742a2bf3667013071132b7'), 'name': 'Tom', 'age': 30}\n",
      "{'_id': ObjectId('62874b41fdbc03b208ab75bf'), 'name': 'Tom', 'age': '28', 'lang': ['eng', 'span']}\n"
     ]
    }
   ],
   "source": [
    "for i in collection.find():\n",
    "    print(i)"
   ]
  },
  {
   "cell_type": "code",
   "execution_count": 2,
   "id": "6824c0b0-74d2-4930-9f69-93f65e64f5af",
   "metadata": {},
   "outputs": [],
   "source": [
    "import pymysql"
   ]
  },
  {
   "cell_type": "code",
   "execution_count": 3,
   "id": "e0581737-55f6-48d0-a5c6-f7ecb99d14e1",
   "metadata": {},
   "outputs": [],
   "source": [
    "conn = pymysql.connect(\n",
    "    host = 'localhost',\n",
    "    user = 'root',\n",
    "    password = 'dan20111965',\n",
    "    charset = 'utf8',\n",
    ")"
   ]
  },
  {
   "cell_type": "code",
   "execution_count": 4,
   "id": "8200def1-74dd-497f-b44e-0a665ead3504",
   "metadata": {},
   "outputs": [
    {
     "data": {
      "text/plain": [
       "<pymysql.connections.Connection at 0x147b1d54640>"
      ]
     },
     "execution_count": 4,
     "metadata": {},
     "output_type": "execute_result"
    }
   ],
   "source": [
    "conn"
   ]
  },
  {
   "cell_type": "code",
   "execution_count": 5,
   "id": "1a8ef9df-81ad-42b9-8702-9fa5302a0d5f",
   "metadata": {},
   "outputs": [
    {
     "data": {
      "text/plain": [
       "0"
      ]
     },
     "execution_count": 5,
     "metadata": {},
     "output_type": "execute_result"
    }
   ],
   "source": [
    "conn.query('use monitor_vuz;')"
   ]
  },
  {
   "cell_type": "code",
   "execution_count": 6,
   "id": "84d733b4-11e9-4c2e-86fb-7dc9246001f9",
   "metadata": {},
   "outputs": [],
   "source": [
    "cur = conn.cursor()"
   ]
  },
  {
   "cell_type": "code",
   "execution_count": 7,
   "id": "871af6b0-4736-4de7-81e3-7d4b6572ad4f",
   "metadata": {},
   "outputs": [
    {
     "data": {
      "text/plain": [
       "83"
      ]
     },
     "execution_count": 7,
     "metadata": {},
     "output_type": "execute_result"
    }
   ],
   "source": [
    "cur.execute('SELECT * FROM region;')"
   ]
  },
  {
   "cell_type": "code",
   "execution_count": 8,
   "id": "9841b41b-b06e-4027-840b-47aa21c0d4f9",
   "metadata": {},
   "outputs": [
    {
     "data": {
      "text/plain": [
       "((1, 'Амурская область', 1),\n",
       " (2, 'Еврейская автономная область', 1),\n",
       " (3, 'Камчатский край', 1),\n",
       " (4, 'Магаданская область', 1),\n",
       " (5, 'Приморский край', 1),\n",
       " (6, 'Республика Саха (Якутия)', 1),\n",
       " (7, 'Сахалинская область', 1),\n",
       " (8, 'Хабаровский край', 1),\n",
       " (9, 'Чукотский автономный округ', 1),\n",
       " (10, 'Кировская область', 2),\n",
       " (11, 'Нижегородская область', 2),\n",
       " (12, 'Оренбургская область', 2),\n",
       " (13, 'Пензенская область', 2),\n",
       " (14, 'Пермский край', 2),\n",
       " (15, 'Республика Башкортостан', 2),\n",
       " (16, 'Республика Марий Эл', 2),\n",
       " (17, 'Республика Мордовия', 2),\n",
       " (18, 'Республика Татарстан', 2),\n",
       " (19, 'Самарская область', 2),\n",
       " (20, 'Саратовская область', 2),\n",
       " (21, 'Удмуртская Республика', 2),\n",
       " (22, 'Ульяновская область', 2),\n",
       " (23, 'Чувашская Республика', 2),\n",
       " (24, 'Архангельская область', 3),\n",
       " (25, 'Вологодская область', 3),\n",
       " (26, 'Калининградская область', 3),\n",
       " (27, 'Ленинградская область', 3),\n",
       " (28, 'Мурманская область', 3),\n",
       " (29, 'Ненецкий автономный округ', 3),\n",
       " (30, 'Новгородская область', 3),\n",
       " (31, 'Псковская область', 3),\n",
       " (32, 'Республика Карелия', 3),\n",
       " (33, 'Республика Коми', 3),\n",
       " (34, 'г.Санкт-Петербург', 3),\n",
       " (35, 'Ингушская Республика', 4),\n",
       " (36, 'Кабардино-Балкарская Республика', 4),\n",
       " (37, 'Карачаево-Черкесская Республика', 4),\n",
       " (38, 'Республика Дагестан', 4),\n",
       " (39, 'Республика Северная Осетия-Алания', 4),\n",
       " (40, 'Ставропольский край', 4),\n",
       " (41, 'Чеченская Республика', 4),\n",
       " (42, 'Алтайский край', 5),\n",
       " (43, 'Забайкальский край', 5),\n",
       " (44, 'Иркутская область', 5),\n",
       " (45, 'Кемеровская область', 5),\n",
       " (46, 'Красноярский край', 5),\n",
       " (47, 'Новосибирская область', 5),\n",
       " (48, 'Омская область', 5),\n",
       " (49, 'Республика Алтай', 5),\n",
       " (50, 'Республика Бурятия', 5),\n",
       " (51, 'Республика Тыва', 5),\n",
       " (52, 'Республика Хакасия', 5),\n",
       " (53, 'Томская область', 5),\n",
       " (54, 'Курганская область', 6),\n",
       " (55, 'Свердловская область', 6),\n",
       " (56, 'Тюменская область', 6),\n",
       " (57, 'Ханты-Мансийский автономный округ', 6),\n",
       " (58, 'Челябинская область', 6),\n",
       " (59, 'Ямало-Ненецкий автономный округ', 6),\n",
       " (60, 'Белгородская область', 7),\n",
       " (61, 'Брянская область', 7),\n",
       " (62, 'Владимирская область', 7),\n",
       " (63, 'Воронежская область', 7),\n",
       " (64, 'Ивановская область', 7),\n",
       " (65, 'Калужская область', 7),\n",
       " (66, 'Костромская область', 7),\n",
       " (67, 'Курская область', 7),\n",
       " (68, 'Липецкая область', 7),\n",
       " (69, 'Московская область', 7),\n",
       " (70, 'Орловская область', 7),\n",
       " (71, 'Рязанская область', 7),\n",
       " (72, 'Смоленская область', 7),\n",
       " (73, 'Тамбовская область', 7),\n",
       " (74, 'Тверская область', 7),\n",
       " (75, 'Тульская область', 7),\n",
       " (76, 'Ярославская область', 7),\n",
       " (77, 'г.Москва', 7),\n",
       " (78, 'Астраханская область', 8),\n",
       " (79, 'Волгоградская область', 8),\n",
       " (80, 'Краснодарский край', 8),\n",
       " (81, 'Республика Адыгея', 8),\n",
       " (82, 'Республика Калмыкия', 8),\n",
       " (83, 'Ростовская область', 8))"
      ]
     },
     "execution_count": 8,
     "metadata": {},
     "output_type": "execute_result"
    }
   ],
   "source": [
    "tab_Reg = cur.fetchall()\n",
    "tab_Reg"
   ]
  },
  {
   "cell_type": "code",
   "execution_count": 9,
   "id": "eefb1e5b-1290-4eb2-b485-5e9c1eb715d1",
   "metadata": {},
   "outputs": [
    {
     "data": {
      "text/plain": [
       "(('id', 'int', 'NO', 'PRI', None, 'auto_increment'),\n",
       " ('name', 'varchar(200)', 'YES', '', None, ''),\n",
       " ('okrug_id', 'int', 'NO', 'MUL', None, ''))"
      ]
     },
     "execution_count": 9,
     "metadata": {},
     "output_type": "execute_result"
    }
   ],
   "source": [
    "cur.execute('describe region;')\n",
    "col = cur.fetchall()\n",
    "col"
   ]
  },
  {
   "cell_type": "code",
   "execution_count": 10,
   "id": "dcebfdbb-7ddc-4296-a18a-5de929b90fa0",
   "metadata": {},
   "outputs": [],
   "source": [
    "new_col = [c[0] for c in col]"
   ]
  },
  {
   "cell_type": "code",
   "execution_count": 11,
   "id": "ea1db448-687e-4b3c-a7e3-c33bda5f3915",
   "metadata": {},
   "outputs": [
    {
     "data": {
      "text/plain": [
       "['id', 'name', 'okrug_id']"
      ]
     },
     "execution_count": 11,
     "metadata": {},
     "output_type": "execute_result"
    }
   ],
   "source": [
    "new_col"
   ]
  },
  {
   "cell_type": "code",
   "execution_count": 16,
   "id": "7cd22741-f660-479a-90cb-dc86824f0c60",
   "metadata": {},
   "outputs": [],
   "source": [
    "collect_name = 'region'\n",
    "collection = db[collect_name]"
   ]
  },
  {
   "cell_type": "code",
   "execution_count": 17,
   "id": "a84397a6-0cb5-493b-8644-4e0ea14fca98",
   "metadata": {},
   "outputs": [],
   "source": [
    "for i in range(len(tab_Reg)):\n",
    "    collection.insert_one({'_' + new_col[0]: tab_Reg[i][0], new_col[1]: tab_Reg[i][1], new_col[2]: tab_Reg[i][2]})"
   ]
  },
  {
   "cell_type": "code",
   "execution_count": null,
   "id": "ad9ef5ad-0bd3-412f-aec6-b97a75252c34",
   "metadata": {},
   "outputs": [],
   "source": []
  }
 ],
 "metadata": {
  "kernelspec": {
   "display_name": "Python 3 (ipykernel)",
   "language": "python",
   "name": "python3"
  },
  "language_info": {
   "codemirror_mode": {
    "name": "ipython",
    "version": 3
   },
   "file_extension": ".py",
   "mimetype": "text/x-python",
   "name": "python",
   "nbconvert_exporter": "python",
   "pygments_lexer": "ipython3",
   "version": "3.10.2"
  }
 },
 "nbformat": 4,
 "nbformat_minor": 5
}
