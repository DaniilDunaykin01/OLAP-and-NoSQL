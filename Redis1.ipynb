{
 "cells": [
  {
   "cell_type": "code",
   "execution_count": 5,
   "id": "a2cbbac5-9956-42ff-825b-8befecee2df9",
   "metadata": {},
   "outputs": [],
   "source": [
    "import redis\n",
    "import uuid\n",
    "import random"
   ]
  },
  {
   "cell_type": "code",
   "execution_count": 6,
   "id": "054282ee-bd7a-4fdf-853b-6e4a41142cd5",
   "metadata": {},
   "outputs": [],
   "source": [
    "r = redis.Redis()\n",
    "\n",
    "r.flushall()\n",
    "for i in range(0, 1000):\n",
    "    ID = uuid.uuid4().hex\n",
    "    num = random.randint(0, 1000)\n",
    "    r.lpush(str(ID), num) "
   ]
  },
  {
   "cell_type": "code",
   "execution_count": 1,
   "id": "c1c61306-6474-4fdf-8262-2e7d1e27aea8",
   "metadata": {},
   "outputs": [],
   "source": [
    "import pymysql"
   ]
  },
  {
   "cell_type": "code",
   "execution_count": null,
   "id": "11f24f1d-f509-41b9-b785-d840f0b89b74",
   "metadata": {},
   "outputs": [],
   "source": []
  }
 ],
 "metadata": {
  "kernelspec": {
   "display_name": "Python 3 (ipykernel)",
   "language": "python",
   "name": "python3"
  },
  "language_info": {
   "codemirror_mode": {
    "name": "ipython",
    "version": 3
   },
   "file_extension": ".py",
   "mimetype": "text/x-python",
   "name": "python",
   "nbconvert_exporter": "python",
   "pygments_lexer": "ipython3",
   "version": "3.10.2"
  }
 },
 "nbformat": 4,
 "nbformat_minor": 5
}
