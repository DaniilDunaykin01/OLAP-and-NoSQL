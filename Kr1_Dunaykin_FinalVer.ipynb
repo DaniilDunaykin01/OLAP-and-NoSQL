{
 "cells": [
  {
   "cell_type": "code",
   "execution_count": 64,
   "id": "702d0e77-a344-47d5-8285-064719e0f1a8",
   "metadata": {},
   "outputs": [],
   "source": [
    "import pymysql\n",
    "connection = pymysql.connect(\n",
    "    host = 'localhost',\n",
    "    user = 'root',\n",
    "    password = 'dan20111965',\n",
    "    db = 'nanoedu2015',\n",
    "    charset = 'utf8'\n",
    ")"
   ]
  },
  {
   "cell_type": "code",
   "execution_count": 65,
   "id": "704822a3-2a0b-450d-8af8-c5bdfac76e95",
   "metadata": {},
   "outputs": [
    {
     "data": {
      "text/plain": [
       "44"
      ]
     },
     "execution_count": 65,
     "metadata": {},
     "output_type": "execute_result"
    }
   ],
   "source": [
    "cursor = connection.cursor()\n",
    "cursor.execute(\"show tables\")"
   ]
  },
  {
   "cell_type": "code",
   "execution_count": 66,
   "id": "9cfb05f2-6091-4038-8397-a59c7e0ca9a2",
   "metadata": {},
   "outputs": [
    {
     "data": {
      "text/plain": [
       "(('sp_city',),\n",
       " ('sp_country',),\n",
       " ('sp_direct_use',),\n",
       " ('sp_finance',),\n",
       " ('sp_fo',),\n",
       " ('sp_grnti',),\n",
       " ('sp_kt',),\n",
       " ('sp_market',),\n",
       " ('sp_nanodirect',),\n",
       " ('sp_okp',),\n",
       " ('sp_op',),\n",
       " ('sp_order',),\n",
       " ('sp_part',),\n",
       " ('sp_patent_class',),\n",
       " ('sp_patent_section',),\n",
       " ('sp_platforms',),\n",
       " ('sp_pn',),\n",
       " ('sp_region',),\n",
       " ('sp_replace',),\n",
       " ('sp_specialization',),\n",
       " ('sp_stage_ois',),\n",
       " ('sp_struct_place',),\n",
       " ('sp_type_ois',),\n",
       " ('sp_type_org',),\n",
       " ('sp_type_service',),\n",
       " ('sp_type_work_place',),\n",
       " ('sp_use_method',),\n",
       " ('sp_view_preparation',),\n",
       " ('sp_view_work',),\n",
       " ('sp_vuz',),\n",
       " ('sp_winner',),\n",
       " ('sp_yes_no',),\n",
       " ('table10_platforms',),\n",
       " ('table11_218',),\n",
       " ('table12_219',),\n",
       " ('table13_school',),\n",
       " ('table2_kadry',),\n",
       " ('table3_kadry_prepare',),\n",
       " ('table4_equipment',),\n",
       " ('table5_science',),\n",
       " ('table6_services',),\n",
       " ('table7_ois',),\n",
       " ('table8_work',),\n",
       " ('table9_production',))"
      ]
     },
     "execution_count": 66,
     "metadata": {},
     "output_type": "execute_result"
    }
   ],
   "source": [
    "cursor.fetchall()"
   ]
  },
  {
   "cell_type": "code",
   "execution_count": 67,
   "id": "9adad769-2915-4dc6-9b91-aa88b45bbcf9",
   "metadata": {},
   "outputs": [],
   "source": [
    "cursor.execute(\"SELECT\" +\n",
    "               \"`sp_region`.`name` as `Регион`,\" + \n",
    "               \"COUNT(`sp_city`.`sp_region_id`) as `Кол-во вузов`\" +\n",
    "               \"FROM `sp_city` INNER JOIN `sp_vuz` ON `sp_city`.`id` = `sp_vuz`.`sp_city_id`\" +\n",
    "               \"INNER JOIN `sp_region` ON `sp_city`.`sp_region_id` = `sp_region`.`id`\" +\n",
    "               \"GROUP BY `sp_region`.`id`\");"
   ]
  },
  {
   "cell_type": "code",
   "execution_count": 68,
   "id": "42dcef00-3ae6-4634-b89f-aa3541af28fd",
   "metadata": {},
   "outputs": [
    {
     "data": {
      "text/plain": [
       "(('Адыгея', 2),\n",
       " ('Алтай', 1),\n",
       " ('Алтайский край', 4),\n",
       " ('Амурская область', 2),\n",
       " ('Архангельская область', 1),\n",
       " ('Астраханская область', 1),\n",
       " ('Башкортостан', 4),\n",
       " ('Белгородская область', 1),\n",
       " ('Брянская область', 3),\n",
       " ('Бурятия', 2),\n",
       " ('Владимирская область', 1),\n",
       " ('Волгоградская область', 4),\n",
       " ('Вологодская область', 3),\n",
       " ('Воронежская область', 7),\n",
       " ('Дагестан', 3),\n",
       " ('Еврейская АО', 1),\n",
       " ('Забайкальский край', 1),\n",
       " ('Ивановская область', 5),\n",
       " ('Ингушетия', 1),\n",
       " ('Иркутская область', 7),\n",
       " ('Кабардино-Балкария', 1),\n",
       " ('Калмыкия', 1),\n",
       " ('Калужская область', 1),\n",
       " ('Камчатский край', 1),\n",
       " ('Карачаево-Черкесия', 2),\n",
       " ('Карелия', 2),\n",
       " ('Кемеровская область', 5),\n",
       " ('Кировская область', 1),\n",
       " ('Коми', 2),\n",
       " ('Костромская область', 2),\n",
       " ('Краснодарский край', 4),\n",
       " ('Красноярский край', 5),\n",
       " ('Курганская область', 2),\n",
       " ('Курская область', 2),\n",
       " ('Липецкая область', 3),\n",
       " ('Магаданская область', 1),\n",
       " ('Марий Эл', 1),\n",
       " ('Мордовия', 2),\n",
       " ('Москва', 35),\n",
       " ('Московская область', 4),\n",
       " ('Мурманская область', 1),\n",
       " ('Нижегородская область', 4),\n",
       " ('Новгородская область', 1),\n",
       " ('Новосибирская область', 5),\n",
       " ('Омская область', 5),\n",
       " ('Оренбургская область', 3),\n",
       " ('Орловская область', 3),\n",
       " ('Пензенская область', 4),\n",
       " ('Пермский край', 2),\n",
       " ('Приморский край', 2),\n",
       " ('Псковская область', 1),\n",
       " ('Ростовская область', 5),\n",
       " ('Рязанская область', 1),\n",
       " ('Самарская область', 7),\n",
       " ('Санкт-Петербург', 15),\n",
       " ('Саратовская область', 2),\n",
       " ('Сахалинская область', 1),\n",
       " ('Свердловская область', 8),\n",
       " ('Северная Осетия - Алания', 2),\n",
       " ('Смоленская область', 1),\n",
       " ('Ставропольский край', 2),\n",
       " ('Тамбовская область', 1),\n",
       " ('Татарстан', 6),\n",
       " ('Тверская область', 2),\n",
       " ('Томская область', 2),\n",
       " ('Тульская область', 2),\n",
       " ('Тыва', 1),\n",
       " ('Тюменская область', 4),\n",
       " ('Удмуртия', 3),\n",
       " ('Ульяновская область', 3),\n",
       " ('Хабаровский край', 5),\n",
       " ('Хакасия', 1),\n",
       " ('Ханты-Мансийский авт. окр.', 1),\n",
       " ('Челябинская область', 3),\n",
       " ('Чечня', 3),\n",
       " ('Чувашия', 2),\n",
       " ('Ярославская область', 4),\n",
       " ('Крым', 1),\n",
       " ('Севастополь', 1))"
      ]
     },
     "execution_count": 68,
     "metadata": {},
     "output_type": "execute_result"
    }
   ],
   "source": [
    "new_arr = cursor.fetchall()\n",
    "new_arr"
   ]
  },
  {
   "cell_type": "code",
   "execution_count": 69,
   "id": "88608dab-6f71-4da2-a33d-674b6f0baee2",
   "metadata": {},
   "outputs": [],
   "source": [
    "new_dict = dict()\n",
    "for row in new_arr:\n",
    "    new_dict[row[0]] = row[1]"
   ]
  },
  {
   "cell_type": "code",
   "execution_count": 70,
   "id": "071bf0cc-c9b1-4482-b354-9aeb2d646a54",
   "metadata": {},
   "outputs": [
    {
     "data": {
      "text/plain": [
       "{'Адыгея': 2,\n",
       " 'Алтай': 1,\n",
       " 'Алтайский край': 4,\n",
       " 'Амурская область': 2,\n",
       " 'Архангельская область': 1,\n",
       " 'Астраханская область': 1,\n",
       " 'Башкортостан': 4,\n",
       " 'Белгородская область': 1,\n",
       " 'Брянская область': 3,\n",
       " 'Бурятия': 2,\n",
       " 'Владимирская область': 1,\n",
       " 'Волгоградская область': 4,\n",
       " 'Вологодская область': 3,\n",
       " 'Воронежская область': 7,\n",
       " 'Дагестан': 3,\n",
       " 'Еврейская АО': 1,\n",
       " 'Забайкальский край': 1,\n",
       " 'Ивановская область': 5,\n",
       " 'Ингушетия': 1,\n",
       " 'Иркутская область': 7,\n",
       " 'Кабардино-Балкария': 1,\n",
       " 'Калмыкия': 1,\n",
       " 'Калужская область': 1,\n",
       " 'Камчатский край': 1,\n",
       " 'Карачаево-Черкесия': 2,\n",
       " 'Карелия': 2,\n",
       " 'Кемеровская область': 5,\n",
       " 'Кировская область': 1,\n",
       " 'Коми': 2,\n",
       " 'Костромская область': 2,\n",
       " 'Краснодарский край': 4,\n",
       " 'Красноярский край': 5,\n",
       " 'Курганская область': 2,\n",
       " 'Курская область': 2,\n",
       " 'Липецкая область': 3,\n",
       " 'Магаданская область': 1,\n",
       " 'Марий Эл': 1,\n",
       " 'Мордовия': 2,\n",
       " 'Москва': 35,\n",
       " 'Московская область': 4,\n",
       " 'Мурманская область': 1,\n",
       " 'Нижегородская область': 4,\n",
       " 'Новгородская область': 1,\n",
       " 'Новосибирская область': 5,\n",
       " 'Омская область': 5,\n",
       " 'Оренбургская область': 3,\n",
       " 'Орловская область': 3,\n",
       " 'Пензенская область': 4,\n",
       " 'Пермский край': 2,\n",
       " 'Приморский край': 2,\n",
       " 'Псковская область': 1,\n",
       " 'Ростовская область': 5,\n",
       " 'Рязанская область': 1,\n",
       " 'Самарская область': 7,\n",
       " 'Санкт-Петербург': 15,\n",
       " 'Саратовская область': 2,\n",
       " 'Сахалинская область': 1,\n",
       " 'Свердловская область': 8,\n",
       " 'Северная Осетия - Алания': 2,\n",
       " 'Смоленская область': 1,\n",
       " 'Ставропольский край': 2,\n",
       " 'Тамбовская область': 1,\n",
       " 'Татарстан': 6,\n",
       " 'Тверская область': 2,\n",
       " 'Томская область': 2,\n",
       " 'Тульская область': 2,\n",
       " 'Тыва': 1,\n",
       " 'Тюменская область': 4,\n",
       " 'Удмуртия': 3,\n",
       " 'Ульяновская область': 3,\n",
       " 'Хабаровский край': 5,\n",
       " 'Хакасия': 1,\n",
       " 'Ханты-Мансийский авт. окр.': 1,\n",
       " 'Челябинская область': 3,\n",
       " 'Чечня': 3,\n",
       " 'Чувашия': 2,\n",
       " 'Ярославская область': 4,\n",
       " 'Крым': 1,\n",
       " 'Севастополь': 1}"
      ]
     },
     "execution_count": 70,
     "metadata": {},
     "output_type": "execute_result"
    }
   ],
   "source": [
    "new_dict"
   ]
  },
  {
   "cell_type": "markdown",
   "id": "c66a7ad9-4c81-44bb-ae48-455d15014106",
   "metadata": {},
   "source": [
    "Задание №2"
   ]
  },
  {
   "cell_type": "code",
   "execution_count": 71,
   "id": "45d000c3-7f34-4b14-8318-a6a09bc5b864",
   "metadata": {},
   "outputs": [],
   "source": [
    "import socket"
   ]
  },
  {
   "cell_type": "code",
   "execution_count": 72,
   "id": "06545419-12c4-44ee-9b59-70afd8398894",
   "metadata": {},
   "outputs": [],
   "source": [
    "class Node:\n",
    "    def __init__(self, data = ''):\n",
    "        self.data = data\n",
    "        self.nref = None\n",
    "        self.pref = None\n",
    "        \n",
    "class twoWayNestedList:\n",
    "    def __init__(self):\n",
    "        self.head = None\n",
    "        self.length = 0\n",
    "\n",
    "    def append(self, line : str):\n",
    "        newNode = Node(line)\n",
    "        if self.head == None:\n",
    "            self.head = newNode\n",
    "        else:\n",
    "            curr = self.head\n",
    "            while curr.nref != None:\n",
    "                curr = curr.nref\n",
    "\n",
    "            curr.nref = newNode\n",
    "            newNode.pref = curr\n",
    "            self.length += 1\n",
    "\n",
    "    def getNodeByInd(self, ind : int):\n",
    "        curr = self.head\n",
    "        for i in range(ind):\n",
    "            if curr.next == None:\n",
    "                print('Узла нет!')\n",
    "                return 0\n",
    "            curr = curr.nref\n",
    "        return curr\n",
    "\n",
    "    def display(self):\n",
    "        curr = self.head\n",
    "        while curr != None:\n",
    "            print(curr.data)\n",
    "            curr = curr.nref\n",
    "\n",
    "    def getData(self):\n",
    "        data = []\n",
    "        curr = self.head\n",
    "        while curr != None:\n",
    "            data.append(curr.data)\n",
    "            curr = curr.nref\n",
    "        return data"
   ]
  },
  {
   "cell_type": "code",
   "execution_count": 73,
   "id": "f318cf7f-067d-4f35-b1fd-a8e476ed9991",
   "metadata": {},
   "outputs": [
    {
     "name": "stdin",
     "output_type": "stream",
     "text": [
      "Введите сообщение hey\n",
      "Введите сообщение man\n",
      "Введите сообщение how are\n",
      "Введите сообщение you!\n",
      "Введите сообщение \n"
     ]
    },
    {
     "name": "stdout",
     "output_type": "stream",
     "text": [
      "hey\n",
      "man\n",
      "how are\n",
      "you!\n"
     ]
    }
   ],
   "source": [
    "serv_sock = socket.socket(socket.AF_INET, socket.SOCK_STREAM) \n",
    "serv_sock.bind(('localhost', 3000)) \n",
    "serv_sock.listen(6)\n",
    "client_sock = socket.socket(socket.AF_INET, socket.SOCK_STREAM)\n",
    "client_sock.connect(('localhost', 3000))\n",
    "conn, addr = serv_sock.accept()\n",
    "\n",
    "two_path_List = twoWayNestedList()\n",
    "while 1:\n",
    "    insert = input(\"Введите сообщение\")\n",
    "    if insert == '': #как только вводим пустую строку, перестаем 'общаться' с сервером\n",
    "        break\n",
    "    client_sock.send(insert.encode(\"utf-8\"))\n",
    "    data = conn.recv(1024).decode(\"utf-8\")\n",
    "    two_path_List.append(data)\n",
    "\n",
    "serv_sock.close()\n",
    "client_sock.close()\n",
    "two_path_List.display()"
   ]
  },
  {
   "cell_type": "code",
   "execution_count": 10,
   "id": "77dbd029-d20a-4fa5-9e6a-40a98f9c436c",
   "metadata": {},
   "outputs": [],
   "source": [
    "#print(\"hello\")"
   ]
  },
  {
   "cell_type": "markdown",
   "id": "3f631787-b6d6-4a68-bde5-2cc7b9ee48b8",
   "metadata": {},
   "source": [
    "Задание №3"
   ]
  },
  {
   "cell_type": "code",
   "execution_count": 162,
   "id": "ce5d0c78-e8fe-405b-a345-0114cf3055b1",
   "metadata": {},
   "outputs": [],
   "source": [
    "import redis\n",
    "import uuid\n",
    "\n",
    "from transliterate import translit #т.к. данные в БД на кириллице, Redis их закодирует, использую метод \"транслита\""
   ]
  },
  {
   "cell_type": "code",
   "execution_count": 163,
   "id": "5a8d911c-e38f-42ab-af44-6363bb4b9f11",
   "metadata": {},
   "outputs": [],
   "source": [
    "POOL = redis.ConnectionPool(host = '127.0.0.1', port = 3500, db = 0)\n",
    "r = redis.Redis(connection_pool = POOL)"
   ]
  },
  {
   "cell_type": "markdown",
   "id": "af78305c-68b8-46b5-8df5-4baf1e0cc819",
   "metadata": {},
   "source": [
    "Пункт 1"
   ]
  },
  {
   "cell_type": "code",
   "execution_count": 164,
   "id": "cb25dd49-348e-450e-8469-73523045db47",
   "metadata": {},
   "outputs": [],
   "source": [
    "r.flushdb()\n",
    "for i in new_dict.items():\n",
    "    ID = i[0] \n",
    "    data = i[1]\n",
    "    r.rpush(str(translit(ID, reversed = True)), str(data))"
   ]
  },
  {
   "cell_type": "code",
   "execution_count": 165,
   "id": "b8f38b57-7060-4e97-ac2b-2967813f05ed",
   "metadata": {},
   "outputs": [
    {
     "data": {
      "text/plain": [
       "[b\"Tul'skaja oblast'\",\n",
       " b\"Saratovskaja oblast'\",\n",
       " b\"Kemerovskaja oblast'\",\n",
       " b'Altajskij kraj',\n",
       " b\"Tambovskaja oblast'\",\n",
       " b\"Arhangel'skaja oblast'\",\n",
       " b\"Novosibirskaja oblast'\",\n",
       " b\"Brjanskaja oblast'\",\n",
       " b'Dagestan',\n",
       " b'Primorskij kraj',\n",
       " b'Kamchatskij kraj',\n",
       " b\"Pskovskaja oblast'\",\n",
       " b\"Sahalinskaja oblast'\",\n",
       " b'Hanty-Mansijskij avt. okr.',\n",
       " b\"Rjazanskaja oblast'\",\n",
       " b\"Vladimirskaja oblast'\",\n",
       " b\"Nizhegorodskaja oblast'\",\n",
       " b\"Orenburgskaja oblast'\",\n",
       " b'Permskij kraj',\n",
       " b\"Murmanskaja oblast'\",\n",
       " b'Severnaja Osetija - Alanija',\n",
       " b\"Kirovskaja oblast'\",\n",
       " b\"Orlovskaja oblast'\",\n",
       " b'Karachaevo-Cherkesija',\n",
       " b\"Tjumenskaja oblast'\",\n",
       " b\"Ul'janovskaja oblast'\",\n",
       " b'Altaj',\n",
       " b'Ingushetija',\n",
       " b'Sankt-Peterburg',\n",
       " b'Chechnja',\n",
       " b\"Astrahanskaja oblast'\",\n",
       " b'Tatarstan',\n",
       " b'Burjatija',\n",
       " b'Mordovija',\n",
       " b\"Sverdlovskaja oblast'\",\n",
       " b\"Novgorodskaja oblast'\",\n",
       " b'Adygeja',\n",
       " b\"Sevastopol'\",\n",
       " b\"Zabajkal'skij kraj\",\n",
       " b'Hakasija',\n",
       " b'Karelija',\n",
       " b'Kabardino-Balkarija',\n",
       " b\"Cheljabinskaja oblast'\",\n",
       " b'Habarovskij kraj',\n",
       " b\"Ivanovskaja oblast'\",\n",
       " b\"Samarskaja oblast'\",\n",
       " b\"Magadanskaja oblast'\",\n",
       " b\"Lipetskaja oblast'\",\n",
       " b\"Tomskaja oblast'\",\n",
       " b'Moskva',\n",
       " b\"Irkutskaja oblast'\",\n",
       " b\"Stavropol'skij kraj\",\n",
       " b'Marij El',\n",
       " b\"Amurskaja oblast'\",\n",
       " b\"Voronezhskaja oblast'\",\n",
       " b\"Smolenskaja oblast'\",\n",
       " b'Udmurtija',\n",
       " b\"Kurskaja oblast'\",\n",
       " b\"Tverskaja oblast'\",\n",
       " b'Kalmykija',\n",
       " b'Evrejskaja AO',\n",
       " b\"Kostromskaja oblast'\",\n",
       " b'Krasnodarskij kraj',\n",
       " b'Krym',\n",
       " b\"Kaluzhskaja oblast'\",\n",
       " b'Bashkortostan',\n",
       " b\"Kurganskaja oblast'\",\n",
       " b\"Volgogradskaja oblast'\",\n",
       " b'Komi',\n",
       " b\"Vologodskaja oblast'\",\n",
       " b\"Jaroslavskaja oblast'\",\n",
       " b'Tyva',\n",
       " b\"Moskovskaja oblast'\",\n",
       " b\"Belgorodskaja oblast'\",\n",
       " b\"Rostovskaja oblast'\",\n",
       " b'Krasnojarskij kraj',\n",
       " b\"Penzenskaja oblast'\",\n",
       " b'Chuvashija',\n",
       " b\"Omskaja oblast'\"]"
      ]
     },
     "execution_count": 165,
     "metadata": {},
     "output_type": "execute_result"
    }
   ],
   "source": [
    "r.keys()"
   ]
  },
  {
   "cell_type": "code",
   "execution_count": 166,
   "id": "83bfdbae-140c-4326-80f6-17ae3bd40482",
   "metadata": {},
   "outputs": [
    {
     "data": {
      "text/plain": [
       "[b'15']"
      ]
     },
     "execution_count": 166,
     "metadata": {},
     "output_type": "execute_result"
    }
   ],
   "source": [
    "r.lrange('Sankt-Peterburg', 0, -1)"
   ]
  },
  {
   "cell_type": "markdown",
   "id": "a8f76e98-7ec3-48a6-981e-324b6fdf04e2",
   "metadata": {},
   "source": [
    "Пункт 2"
   ]
  },
  {
   "cell_type": "code",
   "execution_count": 79,
   "id": "7b1c695d-1d89-49b1-8004-fc4fd96a00c0",
   "metadata": {},
   "outputs": [
    {
     "data": {
      "text/plain": [
       "True"
      ]
     },
     "execution_count": 79,
     "metadata": {},
     "output_type": "execute_result"
    }
   ],
   "source": [
    "POOL = redis.ConnectionPool(host = '127.0.0.1', port = 3500, db = 1)\n",
    "r = redis.Redis(connection_pool = POOL)\n",
    "r.flushdb()"
   ]
  },
  {
   "cell_type": "code",
   "execution_count": 80,
   "id": "f845aec3-17c6-447b-b0d4-d2362eb0a288",
   "metadata": {},
   "outputs": [],
   "source": [
    "keys_list = list()\n",
    "for i in range(20):\n",
    "    ID = uuid.uuid4().hex\n",
    "    keys_list.append(ID)"
   ]
  },
  {
   "cell_type": "code",
   "execution_count": 81,
   "id": "b74c409e-bdd8-4219-86af-272eb04eec6d",
   "metadata": {},
   "outputs": [
    {
     "data": {
      "text/plain": [
       "['8386cd3b41754ee2a1c66a25c3c69dcd',\n",
       " '310783fba9a34dc285eca0a61f035fd1',\n",
       " 'f67174ced5ff48529e9b10864d6bd28d',\n",
       " '756c21cfaf2742499b1f7726c3979ce8',\n",
       " 'b9113f43abeb424abff550618db1fb5f',\n",
       " 'f8735bf9ae404ed78efec5a349c3449f',\n",
       " '68b137f15f8a4d969d7d3b1d95cee679',\n",
       " 'ad77339f2d114ecda62826781ebeb64d',\n",
       " '3f42344852d449b89239caf609efaf3a',\n",
       " 'ac6aea093dc04ef8b82af4ea489af833',\n",
       " '8a05c76c12fb498a80466833751bde8c',\n",
       " 'e2bea9e496a64e80a5415fb2a5de5d66',\n",
       " 'a7c59ded7e3d4210b12c42efc40813f0',\n",
       " '60718a05d61d49a4aea7cbe4f229312e',\n",
       " '8ffc24f4af4349a7bc003b0c8549e006',\n",
       " '15a518bc936b4e1db301bc4a46d9bc9c',\n",
       " '2a064c63ff874450bff98d989529e2db',\n",
       " '2e8c0e294c6d4b11b15a5a2dc43ccb3e',\n",
       " '5d8039cbada54c54b4e64c6b5cc2bd13',\n",
       " '9176f04e7b064b42b238c1934bce3621']"
      ]
     },
     "execution_count": 81,
     "metadata": {},
     "output_type": "execute_result"
    }
   ],
   "source": [
    "keys_list"
   ]
  },
  {
   "cell_type": "code",
   "execution_count": 82,
   "id": "27e1b40d-b953-4393-8b88-5cec91bb6ef8",
   "metadata": {},
   "outputs": [],
   "source": [
    "import random"
   ]
  },
  {
   "cell_type": "code",
   "execution_count": 83,
   "id": "47682cdf-9c6a-488b-a79a-184ee0d854c0",
   "metadata": {},
   "outputs": [],
   "source": [
    "for j in new_dict.items():\n",
    "    reg_name = j[0]\n",
    "    count_vuz = j[1]\n",
    "    r.hset(str(random.choice(keys_list)), translit(reg_name, reversed = True), count_vuz)"
   ]
  },
  {
   "cell_type": "code",
   "execution_count": 84,
   "id": "b4ff0c60-66fb-4d55-975c-5824be0ba42f",
   "metadata": {},
   "outputs": [
    {
     "data": {
      "text/plain": [
       "[b'ac6aea093dc04ef8b82af4ea489af833',\n",
       " b'e2bea9e496a64e80a5415fb2a5de5d66',\n",
       " b'60718a05d61d49a4aea7cbe4f229312e',\n",
       " b'15a518bc936b4e1db301bc4a46d9bc9c',\n",
       " b'3f42344852d449b89239caf609efaf3a',\n",
       " b'68b137f15f8a4d969d7d3b1d95cee679',\n",
       " b'2a064c63ff874450bff98d989529e2db',\n",
       " b'8a05c76c12fb498a80466833751bde8c',\n",
       " b'b9113f43abeb424abff550618db1fb5f',\n",
       " b'310783fba9a34dc285eca0a61f035fd1',\n",
       " b'5d8039cbada54c54b4e64c6b5cc2bd13',\n",
       " b'f67174ced5ff48529e9b10864d6bd28d',\n",
       " b'8386cd3b41754ee2a1c66a25c3c69dcd',\n",
       " b'9176f04e7b064b42b238c1934bce3621',\n",
       " b'8ffc24f4af4349a7bc003b0c8549e006',\n",
       " b'ad77339f2d114ecda62826781ebeb64d',\n",
       " b'2e8c0e294c6d4b11b15a5a2dc43ccb3e',\n",
       " b'f8735bf9ae404ed78efec5a349c3449f',\n",
       " b'a7c59ded7e3d4210b12c42efc40813f0',\n",
       " b'756c21cfaf2742499b1f7726c3979ce8']"
      ]
     },
     "execution_count": 84,
     "metadata": {},
     "output_type": "execute_result"
    }
   ],
   "source": [
    "r.keys()"
   ]
  },
  {
   "cell_type": "code",
   "execution_count": 87,
   "id": "0e0cc1f8-f5b7-4c81-9672-ae16935403e3",
   "metadata": {},
   "outputs": [
    {
     "data": {
      "text/plain": [
       "[b'Altajskij kraj',\n",
       " b\"Zabajkal'skij kraj\",\n",
       " b'Moskva',\n",
       " b\"Rjazanskaja oblast'\",\n",
       " b'Tyva']"
      ]
     },
     "execution_count": 87,
     "metadata": {},
     "output_type": "execute_result"
    }
   ],
   "source": [
    "key = \"5d8039cbada54c54b4e64c6b5cc2bd13\"\n",
    "arr_reg = r.hkeys(key)\n",
    "arr_reg"
   ]
  },
  {
   "cell_type": "code",
   "execution_count": 88,
   "id": "c7037fc2-829e-469e-b3ba-eda9cb15c267",
   "metadata": {},
   "outputs": [
    {
     "data": {
      "text/plain": [
       "b'35'"
      ]
     },
     "execution_count": 88,
     "metadata": {},
     "output_type": "execute_result"
    }
   ],
   "source": [
    "r.hget(key, arr_reg[2])"
   ]
  },
  {
   "cell_type": "markdown",
   "id": "a924f8c1-4969-4736-bbc3-233b98027c21",
   "metadata": {},
   "source": [
    "Пункт 3"
   ]
  },
  {
   "cell_type": "code",
   "execution_count": 89,
   "id": "47ae5f26-e710-46c4-914e-7734c77b0d18",
   "metadata": {},
   "outputs": [],
   "source": [
    "POOL = redis.ConnectionPool(host = '127.0.0.1', port = 3500, db = 2)\n",
    "r = redis.Redis(connection_pool = POOL)\n",
    "r.flushdb()\n",
    "\n",
    "key = uuid.uuid4().hex\n",
    "\n",
    "for z in two_path_List.getData():\n",
    "    r.rpush(key, z)"
   ]
  },
  {
   "cell_type": "code",
   "execution_count": 90,
   "id": "20d9dd26-b477-4387-8777-a0a703af0f25",
   "metadata": {},
   "outputs": [
    {
     "data": {
      "text/plain": [
       "'a13dd2ef01bb46d280ae9e6e7cf97bb3'"
      ]
     },
     "execution_count": 90,
     "metadata": {},
     "output_type": "execute_result"
    }
   ],
   "source": [
    "key"
   ]
  },
  {
   "cell_type": "code",
   "execution_count": 91,
   "id": "957d1ad2-19d1-4195-a438-1ec7c2200e8e",
   "metadata": {},
   "outputs": [
    {
     "data": {
      "text/plain": [
       "[b'hey', b'man', b'how are', b'you!']"
      ]
     },
     "execution_count": 91,
     "metadata": {},
     "output_type": "execute_result"
    }
   ],
   "source": [
    "r.lrange(key, 0, -1)"
   ]
  },
  {
   "cell_type": "markdown",
   "id": "8a4a5c8f-e8dc-4cda-922d-25b156da8438",
   "metadata": {},
   "source": [
    "Задание №4"
   ]
  },
  {
   "cell_type": "code",
   "execution_count": 239,
   "id": "ed6ff6db-73e0-4a4d-884f-87fba1ff819d",
   "metadata": {},
   "outputs": [
    {
     "name": "stdout",
     "output_type": "stream",
     "text": [
      "RedisCluster<localhost:7000>\n"
     ]
    }
   ],
   "source": [
    "import rediscluster\n",
    "redis_cluster = rediscluster.RedisCluster(host = 'localhost', port = 7000)\n",
    "print(redis_cluster)"
   ]
  },
  {
   "cell_type": "code",
   "execution_count": 240,
   "id": "7eb39ce6-46c3-45a4-84e2-717244cb0e16",
   "metadata": {},
   "outputs": [
    {
     "data": {
      "text/plain": [
       "{'127.0.0.1:7002': True, '127.0.0.1:7000': True, '127.0.0.1:7001': True}"
      ]
     },
     "execution_count": 240,
     "metadata": {},
     "output_type": "execute_result"
    }
   ],
   "source": [
    "redis_cluster.flushall() #очистка мастеров"
   ]
  },
  {
   "cell_type": "markdown",
   "id": "ee966ed2-8986-49f1-a289-1b461d0ce4a1",
   "metadata": {},
   "source": [
    "Запись 1-го пункта"
   ]
  },
  {
   "cell_type": "code",
   "execution_count": 241,
   "id": "e2c59d1c-28db-4f37-9b9e-bcd57e4e08ec",
   "metadata": {},
   "outputs": [],
   "source": [
    "POOL = redis.ConnectionPool(host = '127.0.0.1', port = 3500, db = 0)\n",
    "r = redis.Redis(connection_pool = POOL)"
   ]
  },
  {
   "cell_type": "code",
   "execution_count": 242,
   "id": "b5992222-0d0d-42ca-8080-65b8e7a39510",
   "metadata": {},
   "outputs": [],
   "source": [
    "tab_name = 'p1'\n",
    "\n",
    "redis_cluster.delete(tab_name)\n",
    "\n",
    "keys = r.keys()\n",
    "\n",
    "format_keys = list()\n",
    "for i in keys:\n",
    "    name_region = i.decode(\"utf-8\")\n",
    "    format_keys.append(name_region)\n",
    "    \n",
    "values = list()\n",
    "for j in format_keys:\n",
    "    number = r.lrange(j, 0, -1)\n",
    "    number = number[0].decode(\"utf-8\")\n",
    "    values.append(number)\n",
    "\n",
    "very_new_dict = dict(zip(format_keys, values))\n",
    "\n",
    "for i in very_new_dict.items():\n",
    "    name = i[0]\n",
    "    count = i[1]\n",
    "    redis_cluster.hset(tab_name, name, count)"
   ]
  },
  {
   "cell_type": "code",
   "execution_count": 243,
   "id": "602c6d17-d6c7-45b1-a645-cec99a1614e1",
   "metadata": {},
   "outputs": [
    {
     "data": {
      "text/plain": [
       "[b'p1']"
      ]
     },
     "execution_count": 243,
     "metadata": {},
     "output_type": "execute_result"
    }
   ],
   "source": [
    "redis_cluster.keys()"
   ]
  },
  {
   "cell_type": "code",
   "execution_count": 244,
   "id": "5df74770-b4a9-4e77-a755-fa6ba66c51df",
   "metadata": {},
   "outputs": [
    {
     "data": {
      "text/plain": [
       "[b\"Tul'skaja oblast'\",\n",
       " b\"Saratovskaja oblast'\",\n",
       " b\"Kemerovskaja oblast'\",\n",
       " b'Altajskij kraj',\n",
       " b\"Tambovskaja oblast'\",\n",
       " b\"Arhangel'skaja oblast'\",\n",
       " b\"Novosibirskaja oblast'\",\n",
       " b\"Brjanskaja oblast'\",\n",
       " b'Dagestan',\n",
       " b'Primorskij kraj',\n",
       " b'Kamchatskij kraj',\n",
       " b\"Pskovskaja oblast'\",\n",
       " b\"Sahalinskaja oblast'\",\n",
       " b'Hanty-Mansijskij avt. okr.',\n",
       " b\"Rjazanskaja oblast'\",\n",
       " b\"Vladimirskaja oblast'\",\n",
       " b\"Nizhegorodskaja oblast'\",\n",
       " b\"Orenburgskaja oblast'\",\n",
       " b'Permskij kraj',\n",
       " b\"Murmanskaja oblast'\",\n",
       " b'Severnaja Osetija - Alanija',\n",
       " b\"Kirovskaja oblast'\",\n",
       " b\"Orlovskaja oblast'\",\n",
       " b'Karachaevo-Cherkesija',\n",
       " b\"Tjumenskaja oblast'\",\n",
       " b\"Ul'janovskaja oblast'\",\n",
       " b'Altaj',\n",
       " b'Ingushetija',\n",
       " b'Sankt-Peterburg',\n",
       " b'Chechnja',\n",
       " b\"Astrahanskaja oblast'\",\n",
       " b'Tatarstan',\n",
       " b'Burjatija',\n",
       " b'Mordovija',\n",
       " b\"Sverdlovskaja oblast'\",\n",
       " b\"Novgorodskaja oblast'\",\n",
       " b'Adygeja',\n",
       " b\"Sevastopol'\",\n",
       " b\"Zabajkal'skij kraj\",\n",
       " b'Hakasija',\n",
       " b'Karelija',\n",
       " b'Kabardino-Balkarija',\n",
       " b\"Cheljabinskaja oblast'\",\n",
       " b'Habarovskij kraj',\n",
       " b\"Ivanovskaja oblast'\",\n",
       " b\"Samarskaja oblast'\",\n",
       " b\"Magadanskaja oblast'\",\n",
       " b\"Lipetskaja oblast'\",\n",
       " b\"Tomskaja oblast'\",\n",
       " b'Moskva',\n",
       " b\"Irkutskaja oblast'\",\n",
       " b\"Stavropol'skij kraj\",\n",
       " b'Marij El',\n",
       " b\"Amurskaja oblast'\",\n",
       " b\"Voronezhskaja oblast'\",\n",
       " b\"Smolenskaja oblast'\",\n",
       " b'Udmurtija',\n",
       " b\"Kurskaja oblast'\",\n",
       " b\"Tverskaja oblast'\",\n",
       " b'Kalmykija',\n",
       " b'Evrejskaja AO',\n",
       " b\"Kostromskaja oblast'\",\n",
       " b'Krasnodarskij kraj',\n",
       " b'Krym',\n",
       " b\"Kaluzhskaja oblast'\",\n",
       " b'Bashkortostan',\n",
       " b\"Kurganskaja oblast'\",\n",
       " b\"Volgogradskaja oblast'\",\n",
       " b'Komi',\n",
       " b\"Vologodskaja oblast'\",\n",
       " b\"Jaroslavskaja oblast'\",\n",
       " b'Tyva',\n",
       " b\"Moskovskaja oblast'\",\n",
       " b\"Belgorodskaja oblast'\",\n",
       " b\"Rostovskaja oblast'\",\n",
       " b'Krasnojarskij kraj',\n",
       " b\"Penzenskaja oblast'\",\n",
       " b'Chuvashija',\n",
       " b\"Omskaja oblast'\"]"
      ]
     },
     "execution_count": 244,
     "metadata": {},
     "output_type": "execute_result"
    }
   ],
   "source": [
    "redis_cluster.hkeys('p1')"
   ]
  },
  {
   "cell_type": "code",
   "execution_count": 245,
   "id": "e1aeae3a-aa32-4be5-b350-39ac73cf8047",
   "metadata": {},
   "outputs": [
    {
     "data": {
      "text/plain": [
       "{b\"Tul'skaja oblast'\": b'2',\n",
       " b\"Saratovskaja oblast'\": b'2',\n",
       " b\"Kemerovskaja oblast'\": b'5',\n",
       " b'Altajskij kraj': b'4',\n",
       " b\"Tambovskaja oblast'\": b'1',\n",
       " b\"Arhangel'skaja oblast'\": b'1',\n",
       " b\"Novosibirskaja oblast'\": b'5',\n",
       " b\"Brjanskaja oblast'\": b'3',\n",
       " b'Dagestan': b'3',\n",
       " b'Primorskij kraj': b'2',\n",
       " b'Kamchatskij kraj': b'1',\n",
       " b\"Pskovskaja oblast'\": b'1',\n",
       " b\"Sahalinskaja oblast'\": b'1',\n",
       " b'Hanty-Mansijskij avt. okr.': b'1',\n",
       " b\"Rjazanskaja oblast'\": b'1',\n",
       " b\"Vladimirskaja oblast'\": b'1',\n",
       " b\"Nizhegorodskaja oblast'\": b'4',\n",
       " b\"Orenburgskaja oblast'\": b'3',\n",
       " b'Permskij kraj': b'2',\n",
       " b\"Murmanskaja oblast'\": b'1',\n",
       " b'Severnaja Osetija - Alanija': b'2',\n",
       " b\"Kirovskaja oblast'\": b'1',\n",
       " b\"Orlovskaja oblast'\": b'3',\n",
       " b'Karachaevo-Cherkesija': b'2',\n",
       " b\"Tjumenskaja oblast'\": b'4',\n",
       " b\"Ul'janovskaja oblast'\": b'3',\n",
       " b'Altaj': b'1',\n",
       " b'Ingushetija': b'1',\n",
       " b'Sankt-Peterburg': b'15',\n",
       " b'Chechnja': b'3',\n",
       " b\"Astrahanskaja oblast'\": b'1',\n",
       " b'Tatarstan': b'6',\n",
       " b'Burjatija': b'2',\n",
       " b'Mordovija': b'2',\n",
       " b\"Sverdlovskaja oblast'\": b'8',\n",
       " b\"Novgorodskaja oblast'\": b'1',\n",
       " b'Adygeja': b'2',\n",
       " b\"Sevastopol'\": b'1',\n",
       " b\"Zabajkal'skij kraj\": b'1',\n",
       " b'Hakasija': b'1',\n",
       " b'Karelija': b'2',\n",
       " b'Kabardino-Balkarija': b'1',\n",
       " b\"Cheljabinskaja oblast'\": b'3',\n",
       " b'Habarovskij kraj': b'5',\n",
       " b\"Ivanovskaja oblast'\": b'5',\n",
       " b\"Samarskaja oblast'\": b'7',\n",
       " b\"Magadanskaja oblast'\": b'1',\n",
       " b\"Lipetskaja oblast'\": b'3',\n",
       " b\"Tomskaja oblast'\": b'2',\n",
       " b'Moskva': b'35',\n",
       " b\"Irkutskaja oblast'\": b'7',\n",
       " b\"Stavropol'skij kraj\": b'2',\n",
       " b'Marij El': b'1',\n",
       " b\"Amurskaja oblast'\": b'2',\n",
       " b\"Voronezhskaja oblast'\": b'7',\n",
       " b\"Smolenskaja oblast'\": b'1',\n",
       " b'Udmurtija': b'3',\n",
       " b\"Kurskaja oblast'\": b'2',\n",
       " b\"Tverskaja oblast'\": b'2',\n",
       " b'Kalmykija': b'1',\n",
       " b'Evrejskaja AO': b'1',\n",
       " b\"Kostromskaja oblast'\": b'2',\n",
       " b'Krasnodarskij kraj': b'4',\n",
       " b'Krym': b'1',\n",
       " b\"Kaluzhskaja oblast'\": b'1',\n",
       " b'Bashkortostan': b'4',\n",
       " b\"Kurganskaja oblast'\": b'2',\n",
       " b\"Volgogradskaja oblast'\": b'4',\n",
       " b'Komi': b'2',\n",
       " b\"Vologodskaja oblast'\": b'3',\n",
       " b\"Jaroslavskaja oblast'\": b'4',\n",
       " b'Tyva': b'1',\n",
       " b\"Moskovskaja oblast'\": b'4',\n",
       " b\"Belgorodskaja oblast'\": b'1',\n",
       " b\"Rostovskaja oblast'\": b'5',\n",
       " b'Krasnojarskij kraj': b'5',\n",
       " b\"Penzenskaja oblast'\": b'4',\n",
       " b'Chuvashija': b'2',\n",
       " b\"Omskaja oblast'\": b'5'}"
      ]
     },
     "execution_count": 245,
     "metadata": {},
     "output_type": "execute_result"
    }
   ],
   "source": [
    "redis_cluster.hgetall('p1')"
   ]
  },
  {
   "cell_type": "markdown",
   "id": "3b304e45-e47f-4d86-9a18-e94e036918a7",
   "metadata": {},
   "source": [
    "Запись 2-го пункта"
   ]
  },
  {
   "cell_type": "code",
   "execution_count": 246,
   "id": "1f6fab17-a146-4a83-a76c-4525e9bb24a0",
   "metadata": {},
   "outputs": [],
   "source": [
    "POOL = redis.ConnectionPool(host = '127.0.0.1', port = 3500, db = 1)\n",
    "r = redis.Redis(connection_pool = POOL)\n",
    "\n",
    "tab_name = 'p2'\n",
    "\n",
    "redis_cluster.delete(tab_name)\n",
    "\n",
    "htabkeys = r.keys()\n",
    "for tabk in htabkeys:\n",
    "    for hk in r.hkeys(tabk):\n",
    "        k = hk\n",
    "        v = r.hget(tabk,hk)\n",
    "\n",
    "        redis_cluster.hset(tabk, k, v) \n",
    "    redis_cluster.rpush(tab_name, tabk) "
   ]
  },
  {
   "cell_type": "code",
   "execution_count": 247,
   "id": "635c09ad-033b-4044-b300-6287bcff770e",
   "metadata": {},
   "outputs": [
    {
     "data": {
      "text/plain": [
       "[b'310783fba9a34dc285eca0a61f035fd1',\n",
       " b'8386cd3b41754ee2a1c66a25c3c69dcd',\n",
       " b'a7c59ded7e3d4210b12c42efc40813f0',\n",
       " b'ac6aea093dc04ef8b82af4ea489af833',\n",
       " b'f67174ced5ff48529e9b10864d6bd28d',\n",
       " b'p2',\n",
       " b'3f42344852d449b89239caf609efaf3a',\n",
       " b'68b137f15f8a4d969d7d3b1d95cee679',\n",
       " b'e2bea9e496a64e80a5415fb2a5de5d66',\n",
       " b'9176f04e7b064b42b238c1934bce3621',\n",
       " b'b9113f43abeb424abff550618db1fb5f',\n",
       " b'60718a05d61d49a4aea7cbe4f229312e',\n",
       " b'8a05c76c12fb498a80466833751bde8c',\n",
       " b'5d8039cbada54c54b4e64c6b5cc2bd13',\n",
       " b'ad77339f2d114ecda62826781ebeb64d',\n",
       " b'15a518bc936b4e1db301bc4a46d9bc9c',\n",
       " b'p1',\n",
       " b'f8735bf9ae404ed78efec5a349c3449f',\n",
       " b'8ffc24f4af4349a7bc003b0c8549e006',\n",
       " b'2a064c63ff874450bff98d989529e2db',\n",
       " b'756c21cfaf2742499b1f7726c3979ce8',\n",
       " b'2e8c0e294c6d4b11b15a5a2dc43ccb3e']"
      ]
     },
     "execution_count": 247,
     "metadata": {},
     "output_type": "execute_result"
    }
   ],
   "source": [
    "redis_cluster.keys()"
   ]
  },
  {
   "cell_type": "code",
   "execution_count": 248,
   "id": "0eb19df4-cf20-457a-bad7-921c7f5f0215",
   "metadata": {},
   "outputs": [
    {
     "data": {
      "text/plain": [
       "[b\"Lipetskaja oblast'\",\n",
       " b'Primorskij kraj',\n",
       " b\"Pskovskaja oblast'\",\n",
       " b\"Ul'janovskaja oblast'\",\n",
       " b'Habarovskij kraj',\n",
       " b\"Sevastopol'\"]"
      ]
     },
     "execution_count": 248,
     "metadata": {},
     "output_type": "execute_result"
    }
   ],
   "source": [
    "key = 'f8735bf9ae404ed78efec5a349c3449f'\n",
    "arr = redis_cluster.hkeys(key)\n",
    "arr"
   ]
  },
  {
   "cell_type": "code",
   "execution_count": 249,
   "id": "1b441e6f-8d80-4707-ba53-9c45622363eb",
   "metadata": {},
   "outputs": [
    {
     "data": {
      "text/plain": [
       "b'3'"
      ]
     },
     "execution_count": 249,
     "metadata": {},
     "output_type": "execute_result"
    }
   ],
   "source": [
    "redis_cluster.hget(key, arr[3])"
   ]
  },
  {
   "cell_type": "markdown",
   "id": "9e4e03d8-ece0-4e26-b202-a419a0778824",
   "metadata": {},
   "source": [
    "Запись 3-го пункта"
   ]
  },
  {
   "cell_type": "code",
   "execution_count": 250,
   "id": "bdf54478-a4be-405a-ba8a-b38fd08d9bd1",
   "metadata": {},
   "outputs": [],
   "source": [
    "POOL = redis.ConnectionPool(host = '127.0.0.1', port = 3500, db = 2)\n",
    "r = redis.Redis(connection_pool = POOL)"
   ]
  },
  {
   "cell_type": "code",
   "execution_count": 251,
   "id": "1907ca8d-2d68-421f-90dc-af1bce6d5cc2",
   "metadata": {},
   "outputs": [
    {
     "name": "stdout",
     "output_type": "stream",
     "text": [
      "b'a13dd2ef01bb46d280ae9e6e7cf97bb3'\n"
     ]
    }
   ],
   "source": [
    "two_path_list_name = r.keys()[0]\n",
    "print(two_path_list_name)\n",
    "redis_cluster.delete(two_path_list_name)\n",
    "\n",
    "records = r.lrange(two_path_list_name, 0, -1)\n",
    "\n",
    "for q in records:\n",
    "    redis_cluster.rpush(two_path_list_name, q)"
   ]
  },
  {
   "cell_type": "code",
   "execution_count": 252,
   "id": "017ea67e-e713-4b8d-8877-a42a730d988f",
   "metadata": {},
   "outputs": [
    {
     "data": {
      "text/plain": [
       "[b'hey', b'man', b'how are', b'you!']"
      ]
     },
     "execution_count": 252,
     "metadata": {},
     "output_type": "execute_result"
    }
   ],
   "source": [
    "redis_cluster.lrange(two_path_list_name, 0, -1)"
   ]
  },
  {
   "cell_type": "markdown",
   "id": "77bdbad4-f7a4-4be1-a4cb-e6bf0666b5b5",
   "metadata": {},
   "source": [
    "Перенос данных в mySQL"
   ]
  },
  {
   "cell_type": "code",
   "execution_count": 256,
   "id": "81731885-a066-488e-8e72-8697f88205a3",
   "metadata": {},
   "outputs": [
    {
     "name": "stdout",
     "output_type": "stream",
     "text": [
      "RedisCluster<localhost:7005>\n"
     ]
    }
   ],
   "source": [
    "redis_cluster = rediscluster.RedisCluster(host = 'localhost', port = 7005)\n",
    "print(redis_cluster)\n",
    "\n",
    "connection = pymysql.connect(\n",
    "    host = 'localhost',\n",
    "    user = 'root',\n",
    "    password = 'dan20111965',\n",
    "    db = 'redis',\n",
    "    charset = 'utf8'\n",
    ")"
   ]
  },
  {
   "cell_type": "code",
   "execution_count": 257,
   "id": "9d6595f4-9b86-4d0b-8f3a-fedd5bf68ee9",
   "metadata": {},
   "outputs": [
    {
     "data": {
      "text/plain": [
       "3"
      ]
     },
     "execution_count": 257,
     "metadata": {},
     "output_type": "execute_result"
    }
   ],
   "source": [
    "cursor = connection.cursor()\n",
    "cursor.execute(\"show tables\")"
   ]
  },
  {
   "cell_type": "code",
   "execution_count": 258,
   "id": "5872493b-f149-450e-b447-ea011dbef6b0",
   "metadata": {},
   "outputs": [
    {
     "data": {
      "text/plain": [
       "(('p1',), ('p2',), ('p3',))"
      ]
     },
     "execution_count": 258,
     "metadata": {},
     "output_type": "execute_result"
    }
   ],
   "source": [
    "cursor.fetchall()"
   ]
  },
  {
   "cell_type": "markdown",
   "id": "78950e33-fefa-487c-8d58-71851a5084c1",
   "metadata": {},
   "source": [
    "Перенос 1-ой части"
   ]
  },
  {
   "cell_type": "code",
   "execution_count": 343,
   "id": "61958304-a7ac-42ee-b571-1f81c3e8af84",
   "metadata": {},
   "outputs": [
    {
     "data": {
      "text/plain": [
       "0"
      ]
     },
     "execution_count": 343,
     "metadata": {},
     "output_type": "execute_result"
    }
   ],
   "source": [
    "cursor.execute(f'truncate `p1`;') #очистка таблицы от всех записей"
   ]
  },
  {
   "cell_type": "code",
   "execution_count": 344,
   "id": "03113e1b-bda5-4b19-a1ec-670b6f8ddddd",
   "metadata": {},
   "outputs": [
    {
     "data": {
      "text/plain": [
       "(('reg_name', 'varchar(30)', 'NO', '', None, ''),\n",
       " ('count_vuz', 'int', 'NO', '', None, ''))"
      ]
     },
     "execution_count": 344,
     "metadata": {},
     "output_type": "execute_result"
    }
   ],
   "source": [
    "cursor.execute('describe p1')\n",
    "cursor.fetchall()"
   ]
  },
  {
   "cell_type": "code",
   "execution_count": 345,
   "id": "5543c503-6a63-497d-80a6-81cc4c8f66c7",
   "metadata": {},
   "outputs": [],
   "source": [
    "new_keys = redis_cluster.hkeys('p1')\n",
    "new_values = list()\n",
    "for i in new_keys:\n",
    "    new_values.append(redis_cluster.hget('p1', i))"
   ]
  },
  {
   "cell_type": "code",
   "execution_count": 346,
   "id": "d0af699e-14e6-4184-bf19-4497b064edb0",
   "metadata": {},
   "outputs": [],
   "source": [
    "final_dict = dict(zip(new_keys, new_values))\n",
    "for g in final_dict.items():\n",
    "    reg = g[0]\n",
    "    num_vuz = g[1]\n",
    "    query = f'INSERT INTO `p1` (reg_name, count_vuz) values (\"{reg.decode(\"utf-8\")}\", {num_vuz.decode(\"utf-8\")})'\n",
    "    cursor.execute(query)\n",
    "    \n",
    "connection.commit() #без коммита не отображает данные в mysql, пока не начинаются новые манипуляции с БД"
   ]
  },
  {
   "cell_type": "code",
   "execution_count": 347,
   "id": "ad9da257-78e8-4b86-bc5d-aa481a7f21d6",
   "metadata": {},
   "outputs": [
    {
     "data": {
      "text/plain": [
       "((\"Tul'skaja oblast'\", 2),\n",
       " (\"Saratovskaja oblast'\", 2),\n",
       " (\"Kemerovskaja oblast'\", 5),\n",
       " ('Altajskij kraj', 4),\n",
       " (\"Tambovskaja oblast'\", 1),\n",
       " (\"Arhangel'skaja oblast'\", 1),\n",
       " (\"Novosibirskaja oblast'\", 5),\n",
       " (\"Brjanskaja oblast'\", 3),\n",
       " ('Dagestan', 3),\n",
       " ('Primorskij kraj', 2),\n",
       " ('Kamchatskij kraj', 1),\n",
       " (\"Pskovskaja oblast'\", 1),\n",
       " (\"Sahalinskaja oblast'\", 1),\n",
       " ('Hanty-Mansijskij avt. okr.', 1),\n",
       " (\"Rjazanskaja oblast'\", 1),\n",
       " (\"Vladimirskaja oblast'\", 1),\n",
       " (\"Nizhegorodskaja oblast'\", 4),\n",
       " (\"Orenburgskaja oblast'\", 3),\n",
       " ('Permskij kraj', 2),\n",
       " (\"Murmanskaja oblast'\", 1),\n",
       " ('Severnaja Osetija - Alanija', 2),\n",
       " (\"Kirovskaja oblast'\", 1),\n",
       " (\"Orlovskaja oblast'\", 3),\n",
       " ('Karachaevo-Cherkesija', 2),\n",
       " (\"Tjumenskaja oblast'\", 4),\n",
       " (\"Ul'janovskaja oblast'\", 3),\n",
       " ('Altaj', 1),\n",
       " ('Ingushetija', 1),\n",
       " ('Sankt-Peterburg', 15),\n",
       " ('Chechnja', 3),\n",
       " (\"Astrahanskaja oblast'\", 1),\n",
       " ('Tatarstan', 6),\n",
       " ('Burjatija', 2),\n",
       " ('Mordovija', 2),\n",
       " (\"Sverdlovskaja oblast'\", 8),\n",
       " (\"Novgorodskaja oblast'\", 1),\n",
       " ('Adygeja', 2),\n",
       " (\"Sevastopol'\", 1),\n",
       " (\"Zabajkal'skij kraj\", 1),\n",
       " ('Hakasija', 1),\n",
       " ('Karelija', 2),\n",
       " ('Kabardino-Balkarija', 1),\n",
       " (\"Cheljabinskaja oblast'\", 3),\n",
       " ('Habarovskij kraj', 5),\n",
       " (\"Ivanovskaja oblast'\", 5),\n",
       " (\"Samarskaja oblast'\", 7),\n",
       " (\"Magadanskaja oblast'\", 1),\n",
       " (\"Lipetskaja oblast'\", 3),\n",
       " (\"Tomskaja oblast'\", 2),\n",
       " ('Moskva', 35),\n",
       " (\"Irkutskaja oblast'\", 7),\n",
       " (\"Stavropol'skij kraj\", 2),\n",
       " ('Marij El', 1),\n",
       " (\"Amurskaja oblast'\", 2),\n",
       " (\"Voronezhskaja oblast'\", 7),\n",
       " (\"Smolenskaja oblast'\", 1),\n",
       " ('Udmurtija', 3),\n",
       " (\"Kurskaja oblast'\", 2),\n",
       " (\"Tverskaja oblast'\", 2),\n",
       " ('Kalmykija', 1),\n",
       " ('Evrejskaja AO', 1),\n",
       " (\"Kostromskaja oblast'\", 2),\n",
       " ('Krasnodarskij kraj', 4),\n",
       " ('Krym', 1),\n",
       " (\"Kaluzhskaja oblast'\", 1),\n",
       " ('Bashkortostan', 4),\n",
       " (\"Kurganskaja oblast'\", 2),\n",
       " (\"Volgogradskaja oblast'\", 4),\n",
       " ('Komi', 2),\n",
       " (\"Vologodskaja oblast'\", 3),\n",
       " (\"Jaroslavskaja oblast'\", 4),\n",
       " ('Tyva', 1),\n",
       " (\"Moskovskaja oblast'\", 4),\n",
       " (\"Belgorodskaja oblast'\", 1),\n",
       " (\"Rostovskaja oblast'\", 5),\n",
       " ('Krasnojarskij kraj', 5),\n",
       " (\"Penzenskaja oblast'\", 4),\n",
       " ('Chuvashija', 2),\n",
       " (\"Omskaja oblast'\", 5))"
      ]
     },
     "execution_count": 347,
     "metadata": {},
     "output_type": "execute_result"
    }
   ],
   "source": [
    "cursor.execute(\"SELECT * FROM `p1`;\")\n",
    "cursor.fetchall()"
   ]
  },
  {
   "cell_type": "markdown",
   "id": "c7df93ca-5945-47ed-a434-3f03b7328611",
   "metadata": {},
   "source": [
    "Перенос 2-ой части"
   ]
  },
  {
   "cell_type": "code",
   "execution_count": 348,
   "id": "ffe5624f-67e0-4ee4-9cba-9e384c05cc44",
   "metadata": {},
   "outputs": [
    {
     "data": {
      "text/plain": [
       "(('reg_name', 'varchar(30)', 'NO', '', None, ''),\n",
       " ('count_vuz', 'int', 'NO', '', None, ''))"
      ]
     },
     "execution_count": 348,
     "metadata": {},
     "output_type": "execute_result"
    }
   ],
   "source": [
    "cursor.execute(f'truncate `p2`;')\n",
    "cursor.execute('describe p2')\n",
    "cursor.fetchall()"
   ]
  },
  {
   "cell_type": "code",
   "execution_count": 349,
   "id": "5af8cb97-adf3-43fa-bdb2-ba818e0345de",
   "metadata": {},
   "outputs": [],
   "source": [
    "many_keys = redis_cluster.lrange('p2', 0, -1)\n",
    "for key in many_keys:\n",
    "    for zap in redis_cluster.hkeys(key):\n",
    "        reg = zap\n",
    "        vuz = redis_cluster.hget(key, zap)\n",
    "        query = f'INSERT INTO `p2` (reg_name, count_vuz) values (\"{reg.decode(\"utf-8\")}\", {vuz.decode(\"utf-8\")})'\n",
    "        cursor.execute(query)\n",
    "    \n",
    "connection.commit()"
   ]
  },
  {
   "cell_type": "code",
   "execution_count": 350,
   "id": "8df3a2c7-259e-4be7-a6e5-718c1a97ea23",
   "metadata": {},
   "outputs": [
    {
     "data": {
      "text/plain": [
       "((\"Amurskaja oblast'\", 2),\n",
       " ('Kalmykija', 1),\n",
       " (\"Novosibirskaja oblast'\", 5),\n",
       " (\"Cheljabinskaja oblast'\", 3),\n",
       " (\"Orlovskaja oblast'\", 3),\n",
       " ('Permskij kraj', 2),\n",
       " ('Bashkortostan', 4),\n",
       " (\"Brjanskaja oblast'\", 3),\n",
       " (\"Kurskaja oblast'\", 2),\n",
       " (\"Murmanskaja oblast'\", 1),\n",
       " (\"Saratovskaja oblast'\", 2),\n",
       " (\"Tjumenskaja oblast'\", 4),\n",
       " ('Chechnja', 3),\n",
       " (\"Arhangel'skaja oblast'\", 1),\n",
       " (\"Belgorodskaja oblast'\", 1),\n",
       " (\"Kostromskaja oblast'\", 2),\n",
       " ('Krym', 1),\n",
       " ('Burjatija', 2),\n",
       " (\"Voronezhskaja oblast'\", 7),\n",
       " (\"Kaluzhskaja oblast'\", 1),\n",
       " (\"Kemerovskaja oblast'\", 5),\n",
       " (\"Kirovskaja oblast'\", 1),\n",
       " ('Krasnodarskij kraj', 4),\n",
       " (\"Omskaja oblast'\", 5),\n",
       " (\"Tverskaja oblast'\", 2),\n",
       " (\"Nizhegorodskaja oblast'\", 4),\n",
       " ('Sankt-Peterburg', 15),\n",
       " ('Adygeja', 2),\n",
       " ('Evrejskaja AO', 1),\n",
       " (\"Penzenskaja oblast'\", 4),\n",
       " (\"Samarskaja oblast'\", 7),\n",
       " ('Hanty-Mansijskij avt. okr.', 1),\n",
       " (\"Astrahanskaja oblast'\", 1),\n",
       " (\"Vladimirskaja oblast'\", 1),\n",
       " (\"Irkutskaja oblast'\", 7),\n",
       " (\"Rostovskaja oblast'\", 5),\n",
       " (\"Sverdlovskaja oblast'\", 8),\n",
       " (\"Tambovskaja oblast'\", 1),\n",
       " (\"Tomskaja oblast'\", 2),\n",
       " (\"Kurganskaja oblast'\", 2),\n",
       " (\"Smolenskaja oblast'\", 1),\n",
       " ('Tatarstan', 6),\n",
       " ('Altajskij kraj', 4),\n",
       " (\"Zabajkal'skij kraj\", 1),\n",
       " ('Moskva', 35),\n",
       " (\"Rjazanskaja oblast'\", 1),\n",
       " ('Tyva', 1),\n",
       " ('Marij El', 1),\n",
       " (\"Sahalinskaja oblast'\", 1),\n",
       " (\"Volgogradskaja oblast'\", 4),\n",
       " ('Ingushetija', 1),\n",
       " ('Severnaja Osetija - Alanija', 2),\n",
       " (\"Vologodskaja oblast'\", 3),\n",
       " (\"Moskovskaja oblast'\", 4),\n",
       " (\"Orenburgskaja oblast'\", 3),\n",
       " (\"Jaroslavskaja oblast'\", 4),\n",
       " ('Dagestan', 3),\n",
       " ('Kamchatskij kraj', 1),\n",
       " ('Karachaevo-Cherkesija', 2),\n",
       " ('Krasnojarskij kraj', 5),\n",
       " (\"Magadanskaja oblast'\", 1),\n",
       " ('Mordovija', 2),\n",
       " (\"Novgorodskaja oblast'\", 1),\n",
       " (\"Stavropol'skij kraj\", 2),\n",
       " ('Udmurtija', 3),\n",
       " ('Chuvashija', 2),\n",
       " ('Altaj', 1),\n",
       " ('Karelija', 2),\n",
       " ('Komi', 2),\n",
       " ('Hakasija', 1),\n",
       " (\"Lipetskaja oblast'\", 3),\n",
       " ('Primorskij kraj', 2),\n",
       " (\"Pskovskaja oblast'\", 1),\n",
       " (\"Ul'janovskaja oblast'\", 3),\n",
       " ('Habarovskij kraj', 5),\n",
       " (\"Sevastopol'\", 1),\n",
       " ('Kabardino-Balkarija', 1),\n",
       " (\"Tul'skaja oblast'\", 2),\n",
       " (\"Ivanovskaja oblast'\", 5))"
      ]
     },
     "execution_count": 350,
     "metadata": {},
     "output_type": "execute_result"
    }
   ],
   "source": [
    "cursor.execute(\"SELECT * FROM `p2`;\")\n",
    "cursor.fetchall()"
   ]
  },
  {
   "cell_type": "markdown",
   "id": "4bd3fec8-66fb-43e3-bee8-ec1d2605af1b",
   "metadata": {},
   "source": [
    "Перенос 3-ей части"
   ]
  },
  {
   "cell_type": "code",
   "execution_count": 351,
   "id": "e2f115d7-e629-4602-b73a-2ef6daaf6220",
   "metadata": {},
   "outputs": [
    {
     "data": {
      "text/plain": [
       "(('id', 'int', 'NO', 'PRI', None, 'auto_increment'),\n",
       " ('val', 'varchar(15)', 'NO', '', None, ''))"
      ]
     },
     "execution_count": 351,
     "metadata": {},
     "output_type": "execute_result"
    }
   ],
   "source": [
    "cursor.execute(f'truncate `p3`;')\n",
    "cursor.execute('describe p3')\n",
    "cursor.fetchall()"
   ]
  },
  {
   "cell_type": "code",
   "execution_count": 352,
   "id": "9783b8fb-811c-4a7f-ab4d-2f72163400b1",
   "metadata": {},
   "outputs": [],
   "source": [
    "for i in redis_cluster.lrange(two_path_list_name, 0, -1):\n",
    "    query = f\"INSERT INTO `p3` (val) values ('{i.decode('utf-8')}')\"\n",
    "    cursor.execute(query)\n",
    "    \n",
    "connection.commit()"
   ]
  },
  {
   "cell_type": "code",
   "execution_count": 353,
   "id": "574674a8-8834-4b1f-90ea-515c8c0ddfbf",
   "metadata": {},
   "outputs": [
    {
     "data": {
      "text/plain": [
       "((1, 'hey'), (2, 'man'), (3, 'how are'), (4, 'you!'))"
      ]
     },
     "execution_count": 353,
     "metadata": {},
     "output_type": "execute_result"
    }
   ],
   "source": [
    "cursor.execute(\"SELECT * FROM `p3`;\")\n",
    "cursor.fetchall()"
   ]
  },
  {
   "cell_type": "code",
   "execution_count": null,
   "id": "d1e3c174-bb05-4c93-993f-39d234e4d431",
   "metadata": {},
   "outputs": [],
   "source": []
  }
 ],
 "metadata": {
  "kernelspec": {
   "display_name": "Python 3 (ipykernel)",
   "language": "python",
   "name": "python3"
  },
  "language_info": {
   "codemirror_mode": {
    "name": "ipython",
    "version": 3
   },
   "file_extension": ".py",
   "mimetype": "text/x-python",
   "name": "python",
   "nbconvert_exporter": "python",
   "pygments_lexer": "ipython3",
   "version": "3.10.2"
  }
 },
 "nbformat": 4,
 "nbformat_minor": 5
}
