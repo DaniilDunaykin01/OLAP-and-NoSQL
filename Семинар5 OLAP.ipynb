{
 "cells": [
  {
   "cell_type": "markdown",
   "id": "0d82d64b-4ec4-45f6-8e34-fc156de18fd5",
   "metadata": {},
   "source": [
    "Пункт 1"
   ]
  },
  {
   "cell_type": "markdown",
   "id": "0a3cffa1-75c3-4e53-b1f1-18c9f4bb91dc",
   "metadata": {},
   "source": [
    "> mkdir Work \n",
    "\n",
    "> mkdir 'Контрольная работа №1!' ФИО"
   ]
  },
  {
   "cell_type": "markdown",
   "id": "813f342b-3d67-451c-8cec-01256a2f6ec8",
   "metadata": {},
   "source": [
    "Пункт 3"
   ]
  },
  {
   "cell_type": "markdown",
   "id": "14daf9e5-fdd2-4df1-a6e9-005004dd9bd1",
   "metadata": {},
   "source": [
    "> touch 'Text@1' 'Text$2' 'Text#3'"
   ]
  },
  {
   "cell_type": "markdown",
   "id": "a9b30345-dda1-46f9-8162-f133a3b25159",
   "metadata": {},
   "source": [
    "Пункт 4"
   ]
  },
  {
   "cell_type": "markdown",
   "id": "ae14b3c9-5971-4496-9b04-2cfc9a9f9226",
   "metadata": {},
   "source": [
    "> echo 'Птица говорун отличается умом и сообразительностью!' > 'Text @1'\n",
    "\n",
    "> echo 'Отличается умом, отличается сообразительностью...' >> 'Text @1'"
   ]
  },
  {
   "cell_type": "markdown",
   "id": "d76dc808-2120-467a-b221-572a5c1fd76a",
   "metadata": {},
   "source": [
    "Пункт 5"
   ]
  },
  {
   "cell_type": "markdown",
   "id": "9983ff50-de43-4c7b-97ec-b8baf1ff969c",
   "metadata": {},
   "source": [
    "> cat 'Text @1' > 'Text $2'"
   ]
  },
  {
   "cell_type": "markdown",
   "id": "e95bcbf2-5d24-4bd9-87b6-405121879824",
   "metadata": {},
   "source": [
    "Пункт 6"
   ]
  },
  {
   "cell_type": "markdown",
   "id": "5e1b8702-810e-472b-b414-f03eb0bdcc51",
   "metadata": {},
   "source": [
    "> mv 'Text $2' 'Контрольная работа №1!'"
   ]
  },
  {
   "cell_type": "code",
   "execution_count": null,
   "id": "61be26a0-0527-463e-9f70-2d2df1593c4d",
   "metadata": {},
   "outputs": [],
   "source": []
  }
 ],
 "metadata": {
  "kernelspec": {
   "display_name": "Python 3 (ipykernel)",
   "language": "python",
   "name": "python3"
  },
  "language_info": {
   "codemirror_mode": {
    "name": "ipython",
    "version": 3
   },
   "file_extension": ".py",
   "mimetype": "text/x-python",
   "name": "python",
   "nbconvert_exporter": "python",
   "pygments_lexer": "ipython3",
   "version": "3.10.2"
  }
 },
 "nbformat": 4,
 "nbformat_minor": 5
}
