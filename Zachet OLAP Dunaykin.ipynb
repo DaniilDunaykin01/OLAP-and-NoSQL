{
 "cells": [
  {
   "cell_type": "code",
   "execution_count": 140,
   "id": "a7cfaff9-70a6-4686-a80e-84ef69ea7814",
   "metadata": {},
   "outputs": [],
   "source": [
    "import pymysql\n",
    "connection = pymysql.connect(\n",
    "    host = 'localhost',\n",
    "    user = 'root',\n",
    "    password = 'dan20111965',\n",
    "    db = 'dot',\n",
    "    charset = 'utf8'\n",
    ")"
   ]
  },
  {
   "cell_type": "code",
   "execution_count": 141,
   "id": "a824b761-c763-43f9-ba05-8cc729227458",
   "metadata": {},
   "outputs": [
    {
     "data": {
      "text/plain": [
       "1"
      ]
     },
     "execution_count": 141,
     "metadata": {},
     "output_type": "execute_result"
    }
   ],
   "source": [
    "cursor = connection.cursor()\n",
    "cursor.execute(\"show tables\")"
   ]
  },
  {
   "cell_type": "code",
   "execution_count": 142,
   "id": "bed29295-1b84-4e4c-a054-916990f22e3e",
   "metadata": {},
   "outputs": [
    {
     "data": {
      "text/plain": [
       "(('my',),)"
      ]
     },
     "execution_count": 142,
     "metadata": {},
     "output_type": "execute_result"
    }
   ],
   "source": [
    "cursor.fetchall()"
   ]
  },
  {
   "cell_type": "markdown",
   "id": "175938cb-bf4d-41c5-a865-d3ffec0894a5",
   "metadata": {},
   "source": [
    "## Задание №2"
   ]
  },
  {
   "cell_type": "code",
   "execution_count": 143,
   "id": "2dd51588-c10f-4665-9c6e-fb6ea04baee9",
   "metadata": {},
   "outputs": [],
   "source": [
    "import csv"
   ]
  },
  {
   "cell_type": "code",
   "execution_count": 144,
   "id": "7651b582-1f1e-49c9-ae6f-e6037b3b139e",
   "metadata": {},
   "outputs": [],
   "source": [
    "f = lambda words: '\"' + words + '\"'\n",
    "temp = 0\n",
    "with open(\"data.csv\") as File:\n",
    "    for row in File:\n",
    "        words_arr = row.split(',')\n",
    "        words_arr = list(map(f, words_arr[0: min(20, len(words_arr))]))\n",
    "        words_arr[-1] = words_arr[-1].replace(\"\\n\", \"\")\n",
    "        \n",
    "        columns = [\"id_f\"] + [f\"a{j + 1}\" for j in range(len(words_arr))]\n",
    "        \n",
    "        quer = f\"INSERT INTO `my` ({','.join(columns)}) VALUES ({temp}, {','.join(words_arr)});\"\n",
    "        temp += 1\n",
    "        cursor.execute(quer)"
   ]
  },
  {
   "cell_type": "code",
   "execution_count": 145,
   "id": "f023883d-0d81-4a9c-b35a-e9e087543aea",
   "metadata": {},
   "outputs": [],
   "source": [
    "connection.commit()"
   ]
  },
  {
   "cell_type": "markdown",
   "id": "0e2b4f97-5a15-4910-9f38-c1d817ad2249",
   "metadata": {},
   "source": [
    "## Задание №3"
   ]
  },
  {
   "cell_type": "code",
   "execution_count": 146,
   "id": "d9024b39-5b0c-444d-8740-180f58cd3145",
   "metadata": {},
   "outputs": [
    {
     "name": "stdout",
     "output_type": "stream",
     "text": [
      "Welcome to atoti 0.6.5!\n",
      "\n",
      "By using this community edition, you agree with the license available at https://docs.atoti.io/latest/eula.html.\n",
      "Browse the official documentation at https://docs.atoti.io.\n",
      "Join the community at https://www.atoti.io/register.\n",
      "\n",
      "atoti collects telemetry data, which is used to help understand how to improve the product.\n",
      "If you don't wish to send usage data, set the ATOTI_DISABLE_TELEMETRY environment variable to True.\n",
      "\n",
      "You can hide this message by setting the ATOTI_HIDE_EULA_MESSAGE environment variable to True.\n"
     ]
    }
   ],
   "source": [
    "import atoti as tt\n",
    "session = tt.Session()"
   ]
  },
  {
   "cell_type": "code",
   "execution_count": 150,
   "id": "1bacb86c-c9a3-4f64-a48a-575370bf0eda",
   "metadata": {},
   "outputs": [],
   "source": [
    "import atoti_sql"
   ]
  },
  {
   "cell_type": "code",
   "execution_count": 151,
   "id": "f300620f-f5e8-4842-bbd9-5dcf8e8d43a8",
   "metadata": {},
   "outputs": [],
   "source": [
    "my_table = session.read_sql(\n",
    "    query = 'SELECT * FROM my;',\n",
    "    url = \"jdbc:mysql://localhost:3306/dot?user=root&password=dan20111965\",\n",
    "    table_name = 'Таблица из CSV',\n",
    "    keys = ['id_f'],\n",
    "    driver = atoti_sql.drivers.MYSQL\n",
    ")"
   ]
  },
  {
   "cell_type": "code",
   "execution_count": 153,
   "id": "bcf388c5-3897-4f10-9459-b082004712ac",
   "metadata": {},
   "outputs": [
    {
     "data": {
      "text/html": [
       "<div>\n",
       "<style scoped>\n",
       "    .dataframe tbody tr th:only-of-type {\n",
       "        vertical-align: middle;\n",
       "    }\n",
       "\n",
       "    .dataframe tbody tr th {\n",
       "        vertical-align: top;\n",
       "    }\n",
       "\n",
       "    .dataframe thead th {\n",
       "        text-align: right;\n",
       "    }\n",
       "</style>\n",
       "<table border=\"1\" class=\"dataframe\">\n",
       "  <thead>\n",
       "    <tr style=\"text-align: right;\">\n",
       "      <th></th>\n",
       "      <th>a1</th>\n",
       "      <th>a2</th>\n",
       "      <th>a3</th>\n",
       "      <th>a4</th>\n",
       "      <th>a5</th>\n",
       "      <th>a6</th>\n",
       "      <th>a7</th>\n",
       "      <th>a8</th>\n",
       "      <th>a9</th>\n",
       "      <th>a10</th>\n",
       "      <th>a11</th>\n",
       "      <th>a12</th>\n",
       "      <th>a13</th>\n",
       "      <th>a14</th>\n",
       "      <th>a15</th>\n",
       "      <th>a16</th>\n",
       "      <th>a17</th>\n",
       "      <th>a18</th>\n",
       "      <th>a19</th>\n",
       "      <th>a20</th>\n",
       "    </tr>\n",
       "    <tr>\n",
       "      <th>id_f</th>\n",
       "      <th></th>\n",
       "      <th></th>\n",
       "      <th></th>\n",
       "      <th></th>\n",
       "      <th></th>\n",
       "      <th></th>\n",
       "      <th></th>\n",
       "      <th></th>\n",
       "      <th></th>\n",
       "      <th></th>\n",
       "      <th></th>\n",
       "      <th></th>\n",
       "      <th></th>\n",
       "      <th></th>\n",
       "      <th></th>\n",
       "      <th></th>\n",
       "      <th></th>\n",
       "      <th></th>\n",
       "      <th></th>\n",
       "      <th></th>\n",
       "    </tr>\n",
       "  </thead>\n",
       "  <tbody>\n",
       "    <tr>\n",
       "      <th>0</th>\n",
       "      <td>shrimp</td>\n",
       "      <td>almonds</td>\n",
       "      <td>avocado</td>\n",
       "      <td>vegetables mix</td>\n",
       "      <td>green grapes</td>\n",
       "      <td>whole weat flour</td>\n",
       "      <td>yams</td>\n",
       "      <td>cottage cheese</td>\n",
       "      <td>energy drink</td>\n",
       "      <td>tomato juice</td>\n",
       "      <td>low fat yogurt</td>\n",
       "      <td>green tea</td>\n",
       "      <td>honey</td>\n",
       "      <td>salad</td>\n",
       "      <td>mineral water</td>\n",
       "      <td>salmon</td>\n",
       "      <td>antioxydant juice</td>\n",
       "      <td>frozen smoothie</td>\n",
       "      <td>spinach</td>\n",
       "      <td>olive oil</td>\n",
       "    </tr>\n",
       "    <tr>\n",
       "      <th>1</th>\n",
       "      <td>burgers</td>\n",
       "      <td>meatballs</td>\n",
       "      <td>eggs</td>\n",
       "      <td>N/A</td>\n",
       "      <td>N/A</td>\n",
       "      <td>N/A</td>\n",
       "      <td>N/A</td>\n",
       "      <td>N/A</td>\n",
       "      <td>N/A</td>\n",
       "      <td>N/A</td>\n",
       "      <td>N/A</td>\n",
       "      <td>N/A</td>\n",
       "      <td>N/A</td>\n",
       "      <td>N/A</td>\n",
       "      <td>N/A</td>\n",
       "      <td>N/A</td>\n",
       "      <td>N/A</td>\n",
       "      <td>N/A</td>\n",
       "      <td>N/A</td>\n",
       "      <td>N/A</td>\n",
       "    </tr>\n",
       "    <tr>\n",
       "      <th>2</th>\n",
       "      <td>chutney</td>\n",
       "      <td>N/A</td>\n",
       "      <td>N/A</td>\n",
       "      <td>N/A</td>\n",
       "      <td>N/A</td>\n",
       "      <td>N/A</td>\n",
       "      <td>N/A</td>\n",
       "      <td>N/A</td>\n",
       "      <td>N/A</td>\n",
       "      <td>N/A</td>\n",
       "      <td>N/A</td>\n",
       "      <td>N/A</td>\n",
       "      <td>N/A</td>\n",
       "      <td>N/A</td>\n",
       "      <td>N/A</td>\n",
       "      <td>N/A</td>\n",
       "      <td>N/A</td>\n",
       "      <td>N/A</td>\n",
       "      <td>N/A</td>\n",
       "      <td>N/A</td>\n",
       "    </tr>\n",
       "    <tr>\n",
       "      <th>307</th>\n",
       "      <td>frozen vegetables</td>\n",
       "      <td>spaghetti</td>\n",
       "      <td>yams</td>\n",
       "      <td>mineral water</td>\n",
       "      <td>french wine</td>\n",
       "      <td>green grapes</td>\n",
       "      <td>rice</td>\n",
       "      <td>chocolate</td>\n",
       "      <td>N/A</td>\n",
       "      <td>N/A</td>\n",
       "      <td>N/A</td>\n",
       "      <td>N/A</td>\n",
       "      <td>N/A</td>\n",
       "      <td>N/A</td>\n",
       "      <td>N/A</td>\n",
       "      <td>N/A</td>\n",
       "      <td>N/A</td>\n",
       "      <td>N/A</td>\n",
       "      <td>N/A</td>\n",
       "      <td>N/A</td>\n",
       "    </tr>\n",
       "    <tr>\n",
       "      <th>3</th>\n",
       "      <td>turkey</td>\n",
       "      <td>avocado</td>\n",
       "      <td>N/A</td>\n",
       "      <td>N/A</td>\n",
       "      <td>N/A</td>\n",
       "      <td>N/A</td>\n",
       "      <td>N/A</td>\n",
       "      <td>N/A</td>\n",
       "      <td>N/A</td>\n",
       "      <td>N/A</td>\n",
       "      <td>N/A</td>\n",
       "      <td>N/A</td>\n",
       "      <td>N/A</td>\n",
       "      <td>N/A</td>\n",
       "      <td>N/A</td>\n",
       "      <td>N/A</td>\n",
       "      <td>N/A</td>\n",
       "      <td>N/A</td>\n",
       "      <td>N/A</td>\n",
       "      <td>N/A</td>\n",
       "    </tr>\n",
       "  </tbody>\n",
       "</table>\n",
       "</div>"
      ],
      "text/plain": [
       "                     a1         a2       a3              a4            a5  \\\n",
       "id_f                                                                        \n",
       "0                shrimp    almonds  avocado  vegetables mix  green grapes   \n",
       "1               burgers  meatballs     eggs             N/A           N/A   \n",
       "2               chutney        N/A      N/A             N/A           N/A   \n",
       "307   frozen vegetables  spaghetti     yams   mineral water   french wine   \n",
       "3                turkey    avocado      N/A             N/A           N/A   \n",
       "\n",
       "                    a6    a7              a8            a9           a10  \\\n",
       "id_f                                                                       \n",
       "0     whole weat flour  yams  cottage cheese  energy drink  tomato juice   \n",
       "1                  N/A   N/A             N/A           N/A           N/A   \n",
       "2                  N/A   N/A             N/A           N/A           N/A   \n",
       "307       green grapes  rice       chocolate           N/A           N/A   \n",
       "3                  N/A   N/A             N/A           N/A           N/A   \n",
       "\n",
       "                 a11        a12    a13    a14            a15     a16  \\\n",
       "id_f                                                                   \n",
       "0     low fat yogurt  green tea  honey  salad  mineral water  salmon   \n",
       "1                N/A        N/A    N/A    N/A            N/A     N/A   \n",
       "2                N/A        N/A    N/A    N/A            N/A     N/A   \n",
       "307              N/A        N/A    N/A    N/A            N/A     N/A   \n",
       "3                N/A        N/A    N/A    N/A            N/A     N/A   \n",
       "\n",
       "                    a17              a18      a19        a20  \n",
       "id_f                                                          \n",
       "0     antioxydant juice  frozen smoothie  spinach  olive oil  \n",
       "1                   N/A              N/A      N/A        N/A  \n",
       "2                   N/A              N/A      N/A        N/A  \n",
       "307                 N/A              N/A      N/A        N/A  \n",
       "3                   N/A              N/A      N/A        N/A  "
      ]
     },
     "execution_count": 153,
     "metadata": {},
     "output_type": "execute_result"
    }
   ],
   "source": [
    "my_table.head()"
   ]
  },
  {
   "cell_type": "code",
   "execution_count": 154,
   "id": "aee1d80b-ee62-439a-99a0-c043cbb9be67",
   "metadata": {},
   "outputs": [],
   "source": [
    "cube = session.create_cube(my_table)"
   ]
  },
  {
   "cell_type": "code",
   "execution_count": 264,
   "id": "26290c39-60c6-4bef-9066-2b99c9986aca",
   "metadata": {},
   "outputs": [
    {
     "name": "stdout",
     "output_type": "stream",
     "text": [
      "['a1', 'a2', 'a3', 'a4', 'a5', 'a6', 'a7', 'a8', 'a9', 'a10', 'a11', 'a12', 'a13', 'a14', 'a15', 'a16', 'a17', 'a18', 'a19', 'a20']\n"
     ]
    }
   ],
   "source": [
    "lst_col = list()\n",
    "for i in range(1, 21):\n",
    "    lst_col.append(f\"a{i}\")\n",
    "print(lst_col)"
   ]
  },
  {
   "cell_type": "code",
   "execution_count": 332,
   "id": "faddc686-d13b-4809-934b-1acd2c1710fb",
   "metadata": {},
   "outputs": [
    {
     "data": {
      "text/plain": [
       "['Столбец a1: 7501',\n",
       " 'Столбец a2: 5747',\n",
       " 'Столбец a3: 4389',\n",
       " 'Столбец a4: 3345',\n",
       " 'Столбец a5: 2529',\n",
       " 'Столбец a6: 1864',\n",
       " 'Столбец a7: 1369',\n",
       " 'Столбец a8: 981',\n",
       " 'Столбец a9: 654',\n",
       " 'Столбец a10: 395',\n",
       " 'Столбец a11: 256',\n",
       " 'Столбец a12: 154',\n",
       " 'Столбец a13: 87',\n",
       " 'Столбец a14: 47',\n",
       " 'Столбец a15: 25',\n",
       " 'Столбец a16: 8',\n",
       " 'Столбец a17: 4',\n",
       " 'Столбец a18: 4',\n",
       " 'Столбец a19: 3',\n",
       " 'Столбец a20: 1']"
      ]
     },
     "execution_count": 332,
     "metadata": {},
     "output_type": "execute_result"
    }
   ],
   "source": [
    "task3_lst = list()\n",
    "for i in range(len(lst_col)):\n",
    "    cursor.execute(f\"SELECT COUNT({lst_col[i]}) FROM `my` WHERE {lst_col[i]} IS NOT NULL;\")\n",
    "    task3_lst.append(f\"Столбец {lst_col[i]}: {int(''.join(map(str,cursor.fetchone())))}\")\n",
    "task3_lst"
   ]
  },
  {
   "cell_type": "markdown",
   "id": "a9d1d887-657a-46ee-aed7-bd774ced3247",
   "metadata": {},
   "source": [
    "## Задание №4"
   ]
  },
  {
   "cell_type": "markdown",
   "id": "8210b704-fb1c-440f-bc3a-e174b89c9e8c",
   "metadata": {},
   "source": [
    "Скриншот созданного кластера закрепил в .docx файле."
   ]
  },
  {
   "cell_type": "markdown",
   "id": "50ca15ac-eb36-4f02-a05e-5a4ec6dd3600",
   "metadata": {},
   "source": [
    "## Задание №5"
   ]
  },
  {
   "cell_type": "code",
   "execution_count": 294,
   "id": "5b00e787-e84b-4189-8998-a97b69b33425",
   "metadata": {},
   "outputs": [],
   "source": [
    "import redis\n",
    "import rediscluster\n",
    "import uuid"
   ]
  },
  {
   "cell_type": "code",
   "execution_count": 295,
   "id": "7256f0e6-956c-4c80-8771-5eb89f0d467a",
   "metadata": {},
   "outputs": [
    {
     "name": "stdout",
     "output_type": "stream",
     "text": [
      "RedisCluster<localhost:7001>\n"
     ]
    }
   ],
   "source": [
    "redcon = rediscluster.RedisCluster(host = 'localhost', port = 7001)\n",
    "redcon.flushdb()\n",
    "print(redcon)"
   ]
  },
  {
   "cell_type": "code",
   "execution_count": 296,
   "id": "e249ed6f-627c-4f74-881e-ed03963e3296",
   "metadata": {},
   "outputs": [],
   "source": [
    "cursor.execute(\"SELECT * FROM `my`;\")\n",
    "num5_arr = cursor.fetchall()"
   ]
  },
  {
   "cell_type": "code",
   "execution_count": 297,
   "id": "57aed877-89ee-44e4-b4fc-d612568d7e73",
   "metadata": {},
   "outputs": [
    {
     "name": "stdout",
     "output_type": "stream",
     "text": [
      "(0, 'shrimp', 'almonds', 'avocado', 'vegetables mix', 'green grapes', 'whole weat flour', 'yams', 'cottage cheese', 'energy drink', 'tomato juice', 'low fat yogurt', 'green tea', 'honey', 'salad', 'mineral water', 'salmon', 'antioxydant juice', 'frozen smoothie', 'spinach', 'olive oil')\n"
     ]
    }
   ],
   "source": [
    "print(num5_arr[0])"
   ]
  },
  {
   "cell_type": "code",
   "execution_count": 298,
   "id": "668d370e-de16-47e3-96eb-76c6ee03b402",
   "metadata": {},
   "outputs": [],
   "source": [
    "for words in num5_arr[0:]:\n",
    "    arr_uuid = uuid.uuid4().hex\n",
    "    lst_witout_null = [i for i in words if i is not None]\n",
    "    for j in lst_witout_null:\n",
    "        redcon.rpush(arr_uuid, j)"
   ]
  },
  {
   "cell_type": "code",
   "execution_count": 299,
   "id": "90c93cc4-017f-48a6-ba74-395dd3b5f3f5",
   "metadata": {},
   "outputs": [
    {
     "name": "stdout",
     "output_type": "stream",
     "text": [
      "[b'8092e3b01872419f92b3e1c08192707b', b'a08c3cc9eb4f4f098924b51c81f3b17d', b'9b27e7f5bbc04cf58313c3039ee138b4', b'026f6d5d3ebd4f2ba7941535042c3eb9', b'bb49014be549406099f500607990dc5e', b'ee02c8d9e62241e1981fe55adf376f0a', b'c820f131d4154728be86515dcb466cf7', b'734d2f82c0e44109b6d3d0625d284ed3', b'4246804c7f7347e5992633909a56df26', b'a6645b4f605d42908bc31d010d888ead']\n"
     ]
    }
   ],
   "source": [
    "print(redcon.keys()[0: 10])"
   ]
  },
  {
   "cell_type": "code",
   "execution_count": 300,
   "id": "3a14bfbb-e002-4852-a829-c81ea72e7a72",
   "metadata": {},
   "outputs": [
    {
     "data": {
      "text/plain": [
       "[b'2466', b'chocolate', b'fresh bread', b'honey']"
      ]
     },
     "execution_count": 300,
     "metadata": {},
     "output_type": "execute_result"
    }
   ],
   "source": [
    "redcon.lrange('8092e3b01872419f92b3e1c08192707b', 0, -1)"
   ]
  },
  {
   "cell_type": "markdown",
   "id": "7b04009c-aae3-4e34-a333-04dbbee4ac44",
   "metadata": {},
   "source": [
    "## Задание №6"
   ]
  },
  {
   "cell_type": "code",
   "execution_count": 301,
   "id": "5d82ecb4-4f3a-43a7-a023-432f15434b71",
   "metadata": {},
   "outputs": [],
   "source": [
    "num6_dict = dict()\n",
    "# Считываю все ключи из Redis.\n",
    "arr_keys = redcon.keys()\n",
    "# В цикле сначала беру по ключу Reids'а список, который он хранит.\n",
    "# Далее устанавливаю значение ключа в словаре, оно идентично самому первому значение из списка Redis (так называемый id_f в моем случае).\n",
    "# Значением по данному ключу будет длина оставшегося списка temp, в который ранее я сохранил весь список по ключу i из Redis.\n",
    "for i in arr_keys:\n",
    "    temp = redcon.lrange(i, 0, -1)\n",
    "    num6_dict[temp[0].decode(\"utf-8\")] = len(temp[1:])"
   ]
  },
  {
   "cell_type": "code",
   "execution_count": 302,
   "id": "974084b3-5297-40de-aa61-db1d11998b03",
   "metadata": {},
   "outputs": [
    {
     "name": "stdout",
     "output_type": "stream",
     "text": [
      "('2466', 3)\n",
      "('1108', 2)\n",
      "('3100', 7)\n",
      "('3406', 3)\n",
      "('6763', 3)\n"
     ]
    }
   ],
   "source": [
    "for j in list(num6_dict.items())[0: 5]:\n",
    "    print(j)"
   ]
  },
  {
   "cell_type": "code",
   "execution_count": 303,
   "id": "ec780b53-e691-4a34-bb06-73a1d960ef7e",
   "metadata": {},
   "outputs": [],
   "source": [
    "hashTabName = \"Task6\"\n",
    "for key, val in zip(num6_dict.keys(), num6_dict.values()):\n",
    "    redcon.hset(hashTabName, mapping = {key: val})"
   ]
  },
  {
   "cell_type": "code",
   "execution_count": 318,
   "id": "ba5e533e-ced0-469e-acad-c36f8606e71f",
   "metadata": {},
   "outputs": [
    {
     "name": "stdout",
     "output_type": "stream",
     "text": [
      "b'6381' b'2'\n",
      "b'2655' b'1'\n",
      "b'5567' b'2'\n",
      "b'2562' b'2'\n",
      "b'7494' b'12'\n",
      "b'6874' b'6'\n",
      "b'7315' b'4'\n",
      "b'646' b'5'\n",
      "b'3608' b'7'\n",
      "b'4981' b'6'\n",
      "b'5139' b'3'\n",
      "b'1689' b'3'\n",
      "b'4089' b'7'\n",
      "b'337' b'3'\n",
      "b'3766' b'4'\n"
     ]
    }
   ],
   "source": [
    "arr_k = redcon.hkeys(hashTabName)[0: 15]\n",
    "for i in range(len(arr_k)):\n",
    "    print(arr_k[i], redcon.hget(hashTabName, arr_k[i]))"
   ]
  },
  {
   "cell_type": "markdown",
   "id": "61722c09-1c49-4fb3-9b84-0366d1d69a2e",
   "metadata": {},
   "source": [
    "## Задание №7"
   ]
  },
  {
   "cell_type": "code",
   "execution_count": 320,
   "id": "9c22f485-2f1d-47d1-8dc8-b324802ad198",
   "metadata": {},
   "outputs": [],
   "source": [
    "import random"
   ]
  },
  {
   "cell_type": "code",
   "execution_count": 328,
   "id": "e4452db6-b9df-4206-aed3-692758221117",
   "metadata": {},
   "outputs": [
    {
     "name": "stdout",
     "output_type": "stream",
     "text": [
      "Ключ  0  ...  [ eggs olive oil mineral water ]\n",
      "Ключ  1  ...  [ avocado milk spaghetti butter salmon eggs burgers milk mineral water soda meatballs spaghetti pet food green tea frozen smoothie french fries mushroom cream sauce french fries butter green beans ]\n",
      "Ключ  2  ...  [ eggs escalope blueberries pancakes burgers avocado ]\n",
      "Ключ  3  ...  [ red wine pasta ground beef hot dogs frozen smoothie french fries eggplant mushroom cream sauce mineral water salad chocolate yogurt cake milk vegetables mix mineral water honey escalope spaghetti pancakes ]\n",
      "Ключ  4  ...  [ french fries green tea red wine frozen vegetables cookies pasta milk ]\n",
      "Ключ  5  ...  [ cookies milk eggs eggs frozen smoothie turkey herb & pepper olive oil spaghetti green tea avocado spaghetti eggs spaghetti french fries burgers turkey cooking oil whole weat flour french fries ]\n",
      "Ключ  6  ...  [ frozen smoothie burgers mineral water pancakes brownies oil pancakes ]\n",
      "Ключ  7  ...  [ mayonnaise energy bar cider oil french fries flax seed french fries cottage cheese energy bar green tea green tea green tea yams escalope soup mineral water vegetables mix escalope ]\n",
      "Ключ  8  ...  [ chocolate ground beef grated cheese mineral water grated cheese ]\n",
      "Ключ  9  ...  [ mineral water french fries parmesan cheese ]\n"
     ]
    }
   ],
   "source": [
    "def rand_lst_word(rand_arr_key_word):\n",
    "    # Забираю все ключи из Redis. \n",
    "    arr_keys = redcon.keys()\n",
    "    # Рандомно выбирается число ключей равное аргументу функции.\n",
    "    rand_keys = random.choices(arr_keys, k = rand_arr_key_word)\n",
    "    # Отбор ключей, которых нет в hash-таблице.\n",
    "    while hashTabName in [key.decode(\"UTF-8\") for key in rand_keys]:\n",
    "        rand_keys = random.choices(arr_keys, k = rand_arr_key_word)\n",
    "    # Выбираю рандомное значение (слово) при каждой новой итерации цикла, ключи берутся из списка, в котором нет ключей из hash-таблицы.\n",
    "    # В lrange поиск значения начинаю с 1-го элемента, а не 0-го, т.к. 0-ой - номер строки.\n",
    "    arr_val = [random.choice(redcon.lrange(j, 1, -1)).decode(\"UTF-8\") for j in rand_keys]\n",
    "    # Конкатенация получившихся слов через символ пробела.\n",
    "    return ' '.join(arr_val)\n",
    "\n",
    "for i in range(10):\n",
    "    print(\"Ключ \", i, \" ... \", \"[\", rand_lst_word(random.randint(1, 20)), \"]\")\n",
    "    "
   ]
  },
  {
   "cell_type": "markdown",
   "id": "e3296b63-6473-4233-aadf-ee0b290b165f",
   "metadata": {},
   "source": [
    "## Задание №8"
   ]
  },
  {
   "cell_type": "markdown",
   "id": "1ddc77a7-ebb7-467c-8b0e-78cefd0a3f88",
   "metadata": {},
   "source": [
    "Скриншот созданного кластера в MongoDB закрепил в .docx файле."
   ]
  },
  {
   "cell_type": "markdown",
   "id": "12333abd-af3e-466e-9190-6e21ee6c2505",
   "metadata": {},
   "source": [
    "## Задание №9"
   ]
  },
  {
   "cell_type": "code",
   "execution_count": 395,
   "id": "d3092f41-ca6a-48b7-82e7-f2ecdf49fe04",
   "metadata": {},
   "outputs": [],
   "source": [
    "import pymongo as pm"
   ]
  },
  {
   "cell_type": "code",
   "execution_count": 438,
   "id": "e930a113-ef85-45eb-bf2f-4a3d46c94b2a",
   "metadata": {},
   "outputs": [],
   "source": [
    "# Подключение к серверу через один из маршрутизаторов\n",
    "client = pm.MongoClient('localhost', 40000)\n",
    "\n",
    "# Подключение к базе данных\n",
    "db = client['mongoTask']\n",
    "\n",
    "# Получение доступа к коллекции\n",
    "collection = db['mycollect']"
   ]
  },
  {
   "cell_type": "code",
   "execution_count": 440,
   "id": "4a2fc1b1-099d-46d0-841a-1ebfdafd1774",
   "metadata": {},
   "outputs": [],
   "source": [
    "collection.drop()"
   ]
  },
  {
   "cell_type": "code",
   "execution_count": 441,
   "id": "e4285020-9813-489e-b3dc-6270e4f12283",
   "metadata": {},
   "outputs": [],
   "source": [
    "for i in range(1000):\n",
    "    # Т.к. в 10-ом номере необходимо брать name1 и name2, значит, при вызове фукции из 7-го номера\n",
    "    # кол-во слов должно быть от 3-х минимум.\n",
    "    new_arr_words = rand_lst_word(random.randint(3, 20))\n",
    "    arr_num9 = new_arr_words.split(' ')\n",
    "    new_keys = [f\"name{j}\" for j in range(len(arr_num9))]\n",
    "    collection.insert_one({key: val for key, val in zip(new_keys, arr_num9)})"
   ]
  },
  {
   "cell_type": "code",
   "execution_count": 442,
   "id": "d9460cee-ef99-4883-8a8f-a5938faf4713",
   "metadata": {},
   "outputs": [
    {
     "name": "stdout",
     "output_type": "stream",
     "text": [
      "{'_id': ObjectId('62a378b6fccc6037c546d9a3'), 'name0': 'whole', 'name1': 'wheat', 'name2': 'rice', 'name3': 'chocolate', 'name4': 'french', 'name5': 'fries', 'name6': 'almonds', 'name7': 'escalope', 'name8': 'burgers', 'name9': 'grated', 'name10': 'cheese', 'name11': 'tomato', 'name12': 'juice', 'name13': 'mineral', 'name14': 'water', 'name15': 'strawberries', 'name16': 'energy', 'name17': 'drink', 'name18': 'mayonnaise', 'name19': 'cookies', 'name20': 'spaghetti', 'name21': 'olive', 'name22': 'oil', 'name23': 'white', 'name24': 'wine', 'name25': 'green', 'name26': 'tea'}\n",
      "{'_id': ObjectId('62a378b7fccc6037c546d9a4'), 'name0': 'low', 'name1': 'fat', 'name2': 'yogurt', 'name3': 'meatballs', 'name4': 'low', 'name5': 'fat', 'name6': 'yogurt', 'name7': 'low', 'name8': 'fat', 'name9': 'yogurt', 'name10': 'grated', 'name11': 'cheese', 'name12': 'frozen', 'name13': 'smoothie', 'name14': 'olive', 'name15': 'oil', 'name16': 'whole', 'name17': 'wheat', 'name18': 'rice', 'name19': 'cookies', 'name20': 'cottage', 'name21': 'cheese', 'name22': 'cooking', 'name23': 'oil', 'name24': 'magazines', 'name25': 'hot', 'name26': 'dogs', 'name27': 'shallot', 'name28': 'chicken', 'name29': 'hot', 'name30': 'dogs', 'name31': 'cake', 'name32': 'turkey', 'name33': 'mineral', 'name34': 'water', 'name35': 'cookies'}\n",
      "{'_id': ObjectId('62a378b7fccc6037c546d9a5'), 'name0': 'spaghetti', 'name1': 'brownies', 'name2': 'low', 'name3': 'fat', 'name4': 'yogurt', 'name5': 'frozen', 'name6': 'vegetables', 'name7': 'ground', 'name8': 'beef', 'name9': 'sandwich', 'name10': 'almonds', 'name11': 'yams', 'name12': 'gums', 'name13': 'escalope', 'name14': 'french', 'name15': 'fries', 'name16': 'spaghetti', 'name17': 'mineral', 'name18': 'water', 'name19': 'burgers', 'name20': 'french', 'name21': 'fries', 'name22': 'milk'}\n",
      "{'_id': ObjectId('62a378b7fccc6037c546d9a6'), 'name0': 'mineral', 'name1': 'water', 'name2': 'antioxydant', 'name3': 'juice', 'name4': 'grated', 'name5': 'cheese'}\n",
      "{'_id': ObjectId('62a378b7fccc6037c546d9a7'), 'name0': 'spaghetti', 'name1': 'escalope', 'name2': 'french', 'name3': 'fries', 'name4': 'champagne'}\n"
     ]
    }
   ],
   "source": [
    "mongoData = collection.find()\n",
    "for i in range(5):\n",
    "    print(mongoData[i])"
   ]
  },
  {
   "cell_type": "markdown",
   "id": "ef04500d-f371-4bb3-9ed1-2b97791c51be",
   "metadata": {},
   "source": [
    "## Задание №10"
   ]
  },
  {
   "cell_type": "code",
   "execution_count": 443,
   "id": "539094d9-366d-4363-8cb1-ba6bfbf8ba96",
   "metadata": {},
   "outputs": [],
   "source": [
    "need_record = list()\n",
    "for val in mongoData:\n",
    "    # Если функция find не нашла никаких записей, возвращает -1, поэтому условие !=. \n",
    "    if(val['name1'].find('a') != -1) and (val['name2'].find('m') != -1):\n",
    "        need_record.append(val)  "
   ]
  },
  {
   "cell_type": "code",
   "execution_count": 447,
   "id": "f33c7fef-98f2-4786-ba7d-cae09e662932",
   "metadata": {},
   "outputs": [
    {
     "name": "stdout",
     "output_type": "stream",
     "text": [
      "{'_id': ObjectId('62a378b7fccc6037c546d9a9'), 'name0': 'yogurt', 'name1': 'cake', 'name2': 'salmon', 'name3': 'nonfat', 'name4': 'milk', 'name5': 'chocolate', 'name6': 'mineral', 'name7': 'water', 'name8': 'turkey', 'name9': 'mineral', 'name10': 'water'} \n",
      "\n",
      "{'_id': ObjectId('62a378b9fccc6037c546d9c2'), 'name0': 'frozen', 'name1': 'vegetables', 'name2': 'milk', 'name3': 'chocolate', 'name4': 'mineral', 'name5': 'water', 'name6': 'spinach', 'name7': 'shrimp', 'name8': 'nonfat', 'name9': 'milk', 'name10': 'pickles', 'name11': 'brownies', 'name12': 'blueberries'} \n",
      "\n",
      "{'_id': ObjectId('62a378bcfccc6037c546d9db'), 'name0': 'protein', 'name1': 'bar', 'name2': 'tomatoes', 'name3': 'french', 'name4': 'wine', 'name5': 'fresh', 'name6': 'bread', 'name7': 'spaghetti', 'name8': 'eggs', 'name9': 'eggs', 'name10': 'avocado', 'name11': 'cake', 'name12': 'burgers', 'name13': 'salmon', 'name14': 'oil', 'name15': 'soup', 'name16': 'green', 'name17': 'tea', 'name18': 'soup', 'name19': 'light', 'name20': 'mayo', 'name21': 'pepper', 'name22': 'mineral', 'name23': 'water', 'name24': 'olive', 'name25': 'oil'} \n",
      "\n",
      "{'_id': ObjectId('62a378befccc6037c546d9ef'), 'name0': 'body', 'name1': 'spray', 'name2': 'fromage', 'name3': 'blanc', 'name4': 'chocolate', 'name5': 'cake', 'name6': 'whole', 'name7': 'wheat', 'name8': 'pasta', 'name9': 'melons', 'name10': 'salmon', 'name11': 'french', 'name12': 'fries', 'name13': 'eggs', 'name14': 'low', 'name15': 'fat', 'name16': 'yogurt', 'name17': 'energy', 'name18': 'drink', 'name19': 'eggs', 'name20': 'fromage', 'name21': 'blanc', 'name22': 'mint', 'name23': 'chocolate', 'name24': 'chocolate'} \n",
      "\n",
      "{'_id': ObjectId('62a378c3fccc6037c546da29'), 'name0': 'mineral', 'name1': 'water', 'name2': 'shrimp', 'name3': 'soup'} \n",
      "\n",
      "{'_id': ObjectId('62a378c5fccc6037c546da3a'), 'name0': 'escalope', 'name1': 'chocolate', 'name2': 'champagne', 'name3': 'french', 'name4': 'fries', 'name5': 'pancakes', 'name6': 'cookies', 'name7': 'whole', 'name8': 'wheat', 'name9': 'rice', 'name10': 'french', 'name11': 'fries', 'name12': 'spaghetti'} \n",
      "\n",
      "{'_id': ObjectId('62a378c7fccc6037c546da4c'), 'name0': 'pasta', 'name1': 'vegetables', 'name2': 'mix', 'name3': 'almonds', 'name4': 'pancakes', 'name5': 'whole', 'name6': 'wheat', 'name7': 'rice', 'name8': 'honey', 'name9': 'frozen', 'name10': 'smoothie', 'name11': 'brownies', 'name12': 'herb', 'name13': '&', 'name14': 'pepper', 'name15': 'burgers', 'name16': 'pancakes', 'name17': 'cookies'} \n",
      "\n",
      "{'_id': ObjectId('62a378c7fccc6037c546da4f'), 'name0': 'green', 'name1': 'tea', 'name2': 'milk', 'name3': 'light', 'name4': 'mayo', 'name5': 'escalope'} \n",
      "\n",
      "{'_id': ObjectId('62a378c8fccc6037c546da5e'), 'name0': 'fresh', 'name1': 'tuna', 'name2': 'mineral', 'name3': 'water', 'name4': 'eggs', 'name5': 'champagne', 'name6': 'turkey', 'name7': 'french', 'name8': 'fries', 'name9': 'escalope'} \n",
      "\n",
      "{'_id': ObjectId('62a378c9fccc6037c546da65'), 'name0': 'mineral', 'name1': 'water', 'name2': 'tomatoes', 'name3': 'flax', 'name4': 'seed', 'name5': 'cookies', 'name6': 'brownies', 'name7': 'tomatoes', 'name8': 'chocolate', 'name9': 'eggs', 'name10': 'mineral', 'name11': 'water', 'name12': 'milk', 'name13': 'mineral', 'name14': 'water', 'name15': 'cooking', 'name16': 'oil'} \n",
      "\n"
     ]
    }
   ],
   "source": [
    "for i in range(10):\n",
    "    print(need_record[i], '\\n')"
   ]
  },
  {
   "cell_type": "code",
   "execution_count": null,
   "id": "3b57ac44-0484-4278-a70a-56251b6b331e",
   "metadata": {},
   "outputs": [],
   "source": []
  }
 ],
 "metadata": {
  "kernelspec": {
   "display_name": "Python 3 (ipykernel)",
   "language": "python",
   "name": "python3"
  },
  "language_info": {
   "codemirror_mode": {
    "name": "ipython",
    "version": 3
   },
   "file_extension": ".py",
   "mimetype": "text/x-python",
   "name": "python",
   "nbconvert_exporter": "python",
   "pygments_lexer": "ipython3",
   "version": "3.10.2"
  }
 },
 "nbformat": 4,
 "nbformat_minor": 5
}
