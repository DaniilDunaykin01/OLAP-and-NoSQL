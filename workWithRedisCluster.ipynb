{
 "cells": [
  {
   "cell_type": "code",
   "execution_count": 2,
   "id": "eba84e0a-da1a-4899-8b8f-2c6c05f0e90c",
   "metadata": {},
   "outputs": [],
   "source": [
    "\n",
    "import time\n",
    "import re\n",
    "\n",
    "import rediscluster\n",
    "import pymysql\n",
    "\n",
    "import uuid\n",
    "\n",
    "from transliterate import translit\n",
    "\n",
    "import import_ipynb\n",
    "from EnableCluster import *"
   ]
  },
  {
   "cell_type": "code",
   "execution_count": 25,
   "id": "cdc56f20-6979-4745-a6c4-89e52631e4f1",
   "metadata": {},
   "outputs": [
    {
     "name": "stdout",
     "output_type": "stream",
     "text": [
      "<pymysql.connections.Connection object at 0x7f4be5c741f0>\n"
     ]
    }
   ],
   "source": [
    "\n",
    "sqlconn = pymysql.connect(host='localhost',user='root',password='password');\n",
    "sqlconn.query('use monitor_vuz_2014;')\n",
    "print(sqlconn)\n"
   ]
  },
  {
   "cell_type": "code",
   "execution_count": 26,
   "id": "ed39ec53-badd-46c1-a9f5-de54e9130cbb",
   "metadata": {},
   "outputs": [
    {
     "name": "stdout",
     "output_type": "stream",
     "text": [
      "RedisCluster<localhost:7000>\n"
     ]
    }
   ],
   "source": [
    "\n",
    "rconn = rediscluster.RedisCluster(host='localhost',port='7000')\n",
    "print(rconn)\n"
   ]
  },
  {
   "cell_type": "code",
   "execution_count": 28,
   "id": "d74d29e7-c0ab-4db1-8eb9-0eac9037dce4",
   "metadata": {},
   "outputs": [
    {
     "name": "stdout",
     "output_type": "stream",
     "text": [
      ">>> START\n",
      "<<< END : 28.907 sec.\n"
     ]
    }
   ],
   "source": [
    "\n",
    "crs = sqlconn.cursor()\n",
    "crs.execute('show tables;')\n",
    "tables = crs.fetchall()\n",
    "\n",
    "rconn.flushdb()\n",
    "\n",
    "startT = time.time()\n",
    "print(f'>>> START')\n",
    "\n",
    "for table in tables:\n",
    " \n",
    "    tabname = table[0]\n",
    "    crs.execute('select * from '+tabname)\n",
    "    tableRows = crs.fetchall()\n",
    "\n",
    "    crs.execute('describe '+tabname)\n",
    "    tableDescribe = crs.fetchall()\n",
    "    tableColsNames = [r[0] for r in tableDescribe]\n",
    "\n",
    "    for row in tableRows:\n",
    "        rowsHashTableUUID = uuid.uuid4().hex\n",
    "\n",
    "        keyVal = {}\n",
    "        keyVal['TableName']=tabname\n",
    "        for (n,d) in zip(tableColsNames,row):\n",
    "            if d is None:\n",
    "                d='None'\n",
    "            elif type(d) == str:\n",
    "                try:\n",
    "                    d = translit(d,reversed=True)\n",
    "                except:\n",
    "                    pass\n",
    "            keyVal[n]=d\n",
    "\n",
    "        rconn.hset(str(rowsHashTableUUID),mapping=keyVal)\n",
    "        rconn.rpush(tabname,rowsHashTableUUID)\n",
    "\n",
    "endT = time.time()\n",
    "print(f'<<< END : {(endT-startT):.3f} sec.')\n"
   ]
  },
  {
   "cell_type": "code",
   "execution_count": 29,
   "id": "3176f921-ce6c-4c8f-aa4a-274b8e4b6da6",
   "metadata": {},
   "outputs": [
    {
     "name": "stdout",
     "output_type": "stream",
     "text": [
      "okrug\n",
      "department\n",
      "ugs_vuz\n",
      "form_org\n",
      "stage\n",
      "vuz\n",
      "founder\n",
      "region\n",
      "effect\n",
      "type_org\n",
      "ugs\n",
      "indicators\n"
     ]
    }
   ],
   "source": [
    "keys = rconn.keys()\n",
    "for k in keys:\n",
    "    r = re.search(r'^.{1,15}$',k.decode('ASCII'))\n",
    "    if r != None:\n",
    "        print(r.group(0))"
   ]
  },
  {
   "cell_type": "code",
   "execution_count": 30,
   "id": "7795876c-f87c-4c98-8ce1-3baceca815c5",
   "metadata": {},
   "outputs": [
    {
     "name": "stdout",
     "output_type": "stream",
     "text": [
      "b'36b12f2c9cd242ad9eea833fd84383d2'\n",
      "b'276e361de9574ef49dd90a1a58e96f94'\n",
      "b'0204eb8807fb40a0b311a0323a64288c'\n",
      "b'ad348781f25d401d98fb2ee5c9ae347e'\n",
      "b'35c483d7d94f40ee892b2b2510067a8c'\n",
      "b'b4d3ec0efb6c4453ac3665690ba11a34'\n",
      "b'a1f1ed64c60641319479e5fbf5b4a4f2'\n",
      "b'6eeeb309fcfe4fbab28a451857087b6a'\n",
      "b'0d373722ddc742988d566d18f1cf8b5b'\n",
      "b'c1e6ef59154f4292a6f8ff21f85ca68a'\n",
      "b'7a8ab018aee74b438673e2902180b676'\n",
      "b'8de37c1bdbbd4f568b26da4b1cc088ed'\n",
      "b'dd8a93a4c2d440d89a920539fdcd2d4b'\n",
      "b'216c6242bc6047d9a0e1e0bf97cad725'\n",
      "b'96fa84de5bcb4063a64e9a82e1c6e133'\n",
      "b'3e9d8b2397464adbbe6e411c0ded9147'\n",
      "b'faf6c9863c334621a296e2bbc212054d'\n",
      "b'433d78130f2e4236af07144eac68f466'\n",
      "b'cb033fc85e184feda53fad464917642b'\n",
      "b'62d0bc1ecd444daf8bdd98ec11b46762'\n",
      "b'878932c7fc2f40eabfd1ed0fc8e29fd6'\n",
      "b'c8b4517a09204d77979cf40170e3264d'\n",
      "b'8866d62382bb47828c0f77bc1a12da23'\n",
      "b'e857c35909c54426866e7a3fc383b8d1'\n",
      "b'a490a7bbc57f406385c87de186b37677'\n",
      "b'9f46954afa0b49aab75a5cde8ddb692a'\n",
      "b'c43697b0a33b4918b37c070b9556d3cb'\n",
      "b'd354aae328ce4f8c96436e32bde1426b'\n"
     ]
    }
   ],
   "source": [
    "table_department = rconn.lrange('department',0,-1)\n",
    "for d in table_department:\n",
    "    print(d)"
   ]
  },
  {
   "cell_type": "code",
   "execution_count": 31,
   "id": "2be562a6-b854-421a-88b7-49ddb0b6b0de",
   "metadata": {},
   "outputs": [
    {
     "data": {
      "text/plain": [
       "[b'TableName', b'id', b'name']"
      ]
     },
     "execution_count": 31,
     "metadata": {},
     "output_type": "execute_result"
    }
   ],
   "source": [
    "rconn.hkeys(table_department[0])"
   ]
  },
  {
   "cell_type": "code",
   "execution_count": 32,
   "id": "13736078-76a7-484e-b9fd-1dde707e923e",
   "metadata": {},
   "outputs": [
    {
     "data": {
      "text/plain": [
       "b'department'"
      ]
     },
     "execution_count": 32,
     "metadata": {},
     "output_type": "execute_result"
    }
   ],
   "source": [
    "rconn.hget(table_department[0],'TableName')"
   ]
  },
  {
   "cell_type": "code",
   "execution_count": 33,
   "id": "4d8c59f5-d1b9-4b3c-abd7-762c5e459cfe",
   "metadata": {},
   "outputs": [
    {
     "data": {
      "text/plain": [
       "{b'TableName': b'department',\n",
       " b'id': b'1',\n",
       " b'name': b\"Federal'noe agentstvo zheleznodorozhnogo transporta \"}"
      ]
     },
     "execution_count": 33,
     "metadata": {},
     "output_type": "execute_result"
    }
   ],
   "source": [
    "rconn.hgetall(table_department[0])"
   ]
  },
  {
   "cell_type": "code",
   "execution_count": null,
   "id": "11ba2706-69e0-446d-8298-685fe9866496",
   "metadata": {},
   "outputs": [],
   "source": []
  }
 ],
 "metadata": {
  "kernelspec": {
   "display_name": "Python 3 (ipykernel)",
   "language": "python",
   "name": "python3"
  },
  "language_info": {
   "codemirror_mode": {
    "name": "ipython",
    "version": 3
   },
   "file_extension": ".py",
   "mimetype": "text/x-python",
   "name": "python",
   "nbconvert_exporter": "python",
   "pygments_lexer": "ipython3",
   "version": "3.10.2"
  }
 },
 "nbformat": 4,
 "nbformat_minor": 5
}
