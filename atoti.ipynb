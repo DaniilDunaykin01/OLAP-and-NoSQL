{
 "cells": [
  {
   "cell_type": "code",
   "execution_count": 1,
   "id": "1d818025-ec58-41fc-bd15-198cd59a2722",
   "metadata": {},
   "outputs": [
    {
     "name": "stdout",
     "output_type": "stream",
     "text": [
      "Welcome to atoti 0.6.5!\n",
      "\n",
      "By using this community edition, you agree with the license available at https://docs.atoti.io/latest/eula.html.\n",
      "Browse the official documentation at https://docs.atoti.io.\n",
      "Join the community at https://www.atoti.io/register.\n",
      "\n",
      "atoti collects telemetry data, which is used to help understand how to improve the product.\n",
      "If you don't wish to send usage data, set the ATOTI_DISABLE_TELEMETRY environment variable to True.\n",
      "\n",
      "You can hide this message by setting the ATOTI_HIDE_EULA_MESSAGE environment variable to True.\n"
     ]
    }
   ],
   "source": [
    "import atoti as tt\n",
    "import atoti_sql"
   ]
  },
  {
   "cell_type": "code",
   "execution_count": 2,
   "id": "0adb946d-b81d-419f-9180-1a8a57e8fa46",
   "metadata": {},
   "outputs": [],
   "source": [
    "session = tt.Session()"
   ]
  },
  {
   "cell_type": "code",
   "execution_count": 41,
   "id": "3db895e5-fc15-4c99-96e5-50e74b50128f",
   "metadata": {},
   "outputs": [],
   "source": [
    "lst_tab = [\"sp_vuz\", \"sp_city\", \"sp_region\", \"sp_fo\"]"
   ]
  },
  {
   "cell_type": "code",
   "execution_count": 94,
   "id": "ef1c5793-47ed-42ef-b8ab-3f9120f29920",
   "metadata": {},
   "outputs": [],
   "source": [
    "tab1 = session.read_sql(\n",
    "    query = 'SELECT * FROM sp_city;',\n",
    "    url = \"jdbc:mysql://localhost:3306/nanoedu2015?user=root&password=dan20111965\",\n",
    "    table_name = 'Города',\n",
    "    keys = ['id'],\n",
    "    driver = atoti_sql.drivers.MYSQL\n",
    ")"
   ]
  },
  {
   "cell_type": "code",
   "execution_count": 95,
   "id": "ed63d9c1-c1f7-413d-87ba-692672a65417",
   "metadata": {},
   "outputs": [
    {
     "data": {
      "text/html": [
       "<div>\n",
       "<style scoped>\n",
       "    .dataframe tbody tr th:only-of-type {\n",
       "        vertical-align: middle;\n",
       "    }\n",
       "\n",
       "    .dataframe tbody tr th {\n",
       "        vertical-align: top;\n",
       "    }\n",
       "\n",
       "    .dataframe thead th {\n",
       "        text-align: right;\n",
       "    }\n",
       "</style>\n",
       "<table border=\"1\" class=\"dataframe\">\n",
       "  <thead>\n",
       "    <tr style=\"text-align: right;\">\n",
       "      <th></th>\n",
       "      <th>name</th>\n",
       "      <th>sp_region_id</th>\n",
       "    </tr>\n",
       "    <tr>\n",
       "      <th>id</th>\n",
       "      <th></th>\n",
       "      <th></th>\n",
       "    </tr>\n",
       "  </thead>\n",
       "  <tbody>\n",
       "    <tr>\n",
       "      <th>1</th>\n",
       "      <td>Адыгейск</td>\n",
       "      <td>78</td>\n",
       "    </tr>\n",
       "    <tr>\n",
       "      <th>2</th>\n",
       "      <td>Майкоп</td>\n",
       "      <td>78</td>\n",
       "    </tr>\n",
       "    <tr>\n",
       "      <th>3</th>\n",
       "      <td>Горно-Алтайск</td>\n",
       "      <td>42</td>\n",
       "    </tr>\n",
       "    <tr>\n",
       "      <th>4</th>\n",
       "      <td>Алейск</td>\n",
       "      <td>43</td>\n",
       "    </tr>\n",
       "    <tr>\n",
       "      <th>5</th>\n",
       "      <td>Барнаул</td>\n",
       "      <td>43</td>\n",
       "    </tr>\n",
       "  </tbody>\n",
       "</table>\n",
       "</div>"
      ],
      "text/plain": [
       "             name  sp_region_id\n",
       "id                             \n",
       "1        Адыгейск            78\n",
       "2          Майкоп            78\n",
       "3   Горно-Алтайск            42\n",
       "4          Алейск            43\n",
       "5         Барнаул            43"
      ]
     },
     "execution_count": 95,
     "metadata": {},
     "output_type": "execute_result"
    }
   ],
   "source": [
    "tab1.head()"
   ]
  },
  {
   "cell_type": "code",
   "execution_count": 96,
   "id": "7e3336bc-a991-4646-92f8-a975c5a8552d",
   "metadata": {},
   "outputs": [],
   "source": [
    "cube = session.create_cube(tab1, name = 'test')"
   ]
  },
  {
   "cell_type": "code",
   "execution_count": 97,
   "id": "1e0b2681-3185-4444-8b9a-eed50a14a0ec",
   "metadata": {},
   "outputs": [
    {
     "ename": "ExpatError",
     "evalue": "no element found: line 1, column 0",
     "output_type": "error",
     "traceback": [
      "\u001b[1;31m---------------------------------------------------------------------------\u001b[0m",
      "\u001b[1;31mExpatError\u001b[0m                                Traceback (most recent call last)",
      "Input \u001b[1;32mIn [97]\u001b[0m, in \u001b[0;36m<cell line: 1>\u001b[1;34m()\u001b[0m\n\u001b[1;32m----> 1\u001b[0m cube\u001b[38;5;241m.\u001b[39mschema\n",
      "File \u001b[1;32m~\\AppData\\Local\\Programs\\Python\\Python310\\lib\\site-packages\\atoti\\cube.py:133\u001b[0m, in \u001b[0;36mCube.schema\u001b[1;34m(self)\u001b[0m\n\u001b[0;32m    130\u001b[0m     \u001b[38;5;28;01mif\u001b[39;00m running_in_ipython():\n\u001b[0;32m    131\u001b[0m         \u001b[38;5;28;01mfrom\u001b[39;00m \u001b[38;5;21;01mIPython\u001b[39;00m\u001b[38;5;21;01m.\u001b[39;00m\u001b[38;5;21;01mdisplay\u001b[39;00m \u001b[38;5;28;01mimport\u001b[39;00m SVG  \u001b[38;5;66;03m# pylint: disable=undeclared-dependency\u001b[39;00m\n\u001b[1;32m--> 133\u001b[0m         \u001b[38;5;28;01mreturn\u001b[39;00m \u001b[43mSVG\u001b[49m\u001b[43m(\u001b[49m\u001b[43mfilename\u001b[49m\u001b[38;5;241;43m=\u001b[39;49m\u001b[43mpath\u001b[49m\u001b[43m)\u001b[49m\n\u001b[0;32m    134\u001b[0m     \u001b[38;5;28;01mreturn\u001b[39;00m Path(path)\n\u001b[0;32m    135\u001b[0m \u001b[38;5;28;01mexcept\u001b[39;00m AtotiJavaException:\n",
      "File \u001b[1;32m~\\AppData\\Local\\Programs\\Python\\Python310\\lib\\site-packages\\IPython\\core\\display.py:327\u001b[0m, in \u001b[0;36mDisplayObject.__init__\u001b[1;34m(self, data, url, filename, metadata)\u001b[0m\n\u001b[0;32m    324\u001b[0m \u001b[38;5;28;01melif\u001b[39;00m \u001b[38;5;28mself\u001b[39m\u001b[38;5;241m.\u001b[39mmetadata \u001b[38;5;129;01mis\u001b[39;00m \u001b[38;5;28;01mNone\u001b[39;00m:\n\u001b[0;32m    325\u001b[0m     \u001b[38;5;28mself\u001b[39m\u001b[38;5;241m.\u001b[39mmetadata \u001b[38;5;241m=\u001b[39m {}\n\u001b[1;32m--> 327\u001b[0m \u001b[38;5;28;43mself\u001b[39;49m\u001b[38;5;241;43m.\u001b[39;49m\u001b[43mreload\u001b[49m\u001b[43m(\u001b[49m\u001b[43m)\u001b[49m\n\u001b[0;32m    328\u001b[0m \u001b[38;5;28mself\u001b[39m\u001b[38;5;241m.\u001b[39m_check_data()\n",
      "File \u001b[1;32m~\\AppData\\Local\\Programs\\Python\\Python310\\lib\\site-packages\\IPython\\core\\display.py:354\u001b[0m, in \u001b[0;36mDisplayObject.reload\u001b[1;34m(self)\u001b[0m\n\u001b[0;32m    352\u001b[0m     encoding \u001b[38;5;241m=\u001b[39m \u001b[38;5;28;01mNone\u001b[39;00m \u001b[38;5;28;01mif\u001b[39;00m \u001b[38;5;124m\"\u001b[39m\u001b[38;5;124mb\u001b[39m\u001b[38;5;124m\"\u001b[39m \u001b[38;5;129;01min\u001b[39;00m \u001b[38;5;28mself\u001b[39m\u001b[38;5;241m.\u001b[39m_read_flags \u001b[38;5;28;01melse\u001b[39;00m \u001b[38;5;124m\"\u001b[39m\u001b[38;5;124mutf-8\u001b[39m\u001b[38;5;124m\"\u001b[39m\n\u001b[0;32m    353\u001b[0m     \u001b[38;5;28;01mwith\u001b[39;00m \u001b[38;5;28mopen\u001b[39m(\u001b[38;5;28mself\u001b[39m\u001b[38;5;241m.\u001b[39mfilename, \u001b[38;5;28mself\u001b[39m\u001b[38;5;241m.\u001b[39m_read_flags, encoding\u001b[38;5;241m=\u001b[39mencoding) \u001b[38;5;28;01mas\u001b[39;00m f:\n\u001b[1;32m--> 354\u001b[0m         \u001b[38;5;28mself\u001b[39m\u001b[38;5;241m.\u001b[39mdata \u001b[38;5;241m=\u001b[39m f\u001b[38;5;241m.\u001b[39mread()\n\u001b[0;32m    355\u001b[0m \u001b[38;5;28;01melif\u001b[39;00m \u001b[38;5;28mself\u001b[39m\u001b[38;5;241m.\u001b[39murl \u001b[38;5;129;01mis\u001b[39;00m \u001b[38;5;129;01mnot\u001b[39;00m \u001b[38;5;28;01mNone\u001b[39;00m:\n\u001b[0;32m    356\u001b[0m     \u001b[38;5;66;03m# Deferred import\u001b[39;00m\n\u001b[0;32m    357\u001b[0m     \u001b[38;5;28;01mfrom\u001b[39;00m \u001b[38;5;21;01murllib\u001b[39;00m\u001b[38;5;21;01m.\u001b[39;00m\u001b[38;5;21;01mrequest\u001b[39;00m \u001b[38;5;28;01mimport\u001b[39;00m urlopen\n",
      "File \u001b[1;32m~\\AppData\\Local\\Programs\\Python\\Python310\\lib\\site-packages\\IPython\\core\\display.py:479\u001b[0m, in \u001b[0;36mSVG.data\u001b[1;34m(self, svg)\u001b[0m\n\u001b[0;32m    477\u001b[0m \u001b[38;5;66;03m# parse into dom object\u001b[39;00m\n\u001b[0;32m    478\u001b[0m \u001b[38;5;28;01mfrom\u001b[39;00m \u001b[38;5;21;01mxml\u001b[39;00m\u001b[38;5;21;01m.\u001b[39;00m\u001b[38;5;21;01mdom\u001b[39;00m \u001b[38;5;28;01mimport\u001b[39;00m minidom\n\u001b[1;32m--> 479\u001b[0m x \u001b[38;5;241m=\u001b[39m \u001b[43mminidom\u001b[49m\u001b[38;5;241;43m.\u001b[39;49m\u001b[43mparseString\u001b[49m\u001b[43m(\u001b[49m\u001b[43msvg\u001b[49m\u001b[43m)\u001b[49m\n\u001b[0;32m    480\u001b[0m \u001b[38;5;66;03m# get svg tag (should be 1)\u001b[39;00m\n\u001b[0;32m    481\u001b[0m found_svg \u001b[38;5;241m=\u001b[39m x\u001b[38;5;241m.\u001b[39mgetElementsByTagName(\u001b[38;5;124m'\u001b[39m\u001b[38;5;124msvg\u001b[39m\u001b[38;5;124m'\u001b[39m)\n",
      "File \u001b[1;32m~\\AppData\\Local\\Programs\\Python\\Python310\\lib\\xml\\dom\\minidom.py:1998\u001b[0m, in \u001b[0;36mparseString\u001b[1;34m(string, parser)\u001b[0m\n\u001b[0;32m   1996\u001b[0m \u001b[38;5;28;01mif\u001b[39;00m parser \u001b[38;5;129;01mis\u001b[39;00m \u001b[38;5;28;01mNone\u001b[39;00m:\n\u001b[0;32m   1997\u001b[0m     \u001b[38;5;28;01mfrom\u001b[39;00m \u001b[38;5;21;01mxml\u001b[39;00m\u001b[38;5;21;01m.\u001b[39;00m\u001b[38;5;21;01mdom\u001b[39;00m \u001b[38;5;28;01mimport\u001b[39;00m expatbuilder\n\u001b[1;32m-> 1998\u001b[0m     \u001b[38;5;28;01mreturn\u001b[39;00m \u001b[43mexpatbuilder\u001b[49m\u001b[38;5;241;43m.\u001b[39;49m\u001b[43mparseString\u001b[49m\u001b[43m(\u001b[49m\u001b[43mstring\u001b[49m\u001b[43m)\u001b[49m\n\u001b[0;32m   1999\u001b[0m \u001b[38;5;28;01melse\u001b[39;00m:\n\u001b[0;32m   2000\u001b[0m     \u001b[38;5;28;01mfrom\u001b[39;00m \u001b[38;5;21;01mxml\u001b[39;00m\u001b[38;5;21;01m.\u001b[39;00m\u001b[38;5;21;01mdom\u001b[39;00m \u001b[38;5;28;01mimport\u001b[39;00m pulldom\n",
      "File \u001b[1;32m~\\AppData\\Local\\Programs\\Python\\Python310\\lib\\xml\\dom\\expatbuilder.py:925\u001b[0m, in \u001b[0;36mparseString\u001b[1;34m(string, namespaces)\u001b[0m\n\u001b[0;32m    923\u001b[0m \u001b[38;5;28;01melse\u001b[39;00m:\n\u001b[0;32m    924\u001b[0m     builder \u001b[38;5;241m=\u001b[39m ExpatBuilder()\n\u001b[1;32m--> 925\u001b[0m \u001b[38;5;28;01mreturn\u001b[39;00m \u001b[43mbuilder\u001b[49m\u001b[38;5;241;43m.\u001b[39;49m\u001b[43mparseString\u001b[49m\u001b[43m(\u001b[49m\u001b[43mstring\u001b[49m\u001b[43m)\u001b[49m\n",
      "File \u001b[1;32m~\\AppData\\Local\\Programs\\Python\\Python310\\lib\\xml\\dom\\expatbuilder.py:223\u001b[0m, in \u001b[0;36mExpatBuilder.parseString\u001b[1;34m(self, string)\u001b[0m\n\u001b[0;32m    221\u001b[0m parser \u001b[38;5;241m=\u001b[39m \u001b[38;5;28mself\u001b[39m\u001b[38;5;241m.\u001b[39mgetParser()\n\u001b[0;32m    222\u001b[0m \u001b[38;5;28;01mtry\u001b[39;00m:\n\u001b[1;32m--> 223\u001b[0m     \u001b[43mparser\u001b[49m\u001b[38;5;241;43m.\u001b[39;49m\u001b[43mParse\u001b[49m\u001b[43m(\u001b[49m\u001b[43mstring\u001b[49m\u001b[43m,\u001b[49m\u001b[43m \u001b[49m\u001b[38;5;28;43;01mTrue\u001b[39;49;00m\u001b[43m)\u001b[49m\n\u001b[0;32m    224\u001b[0m     \u001b[38;5;28mself\u001b[39m\u001b[38;5;241m.\u001b[39m_setup_subset(string)\n\u001b[0;32m    225\u001b[0m \u001b[38;5;28;01mexcept\u001b[39;00m ParseEscape:\n",
      "\u001b[1;31mExpatError\u001b[0m: no element found: line 1, column 0"
     ]
    }
   ],
   "source": [
    "cube.schema"
   ]
  },
  {
   "cell_type": "code",
   "execution_count": 3,
   "id": "87e11d03-51ed-4ecd-a95a-5c763deff703",
   "metadata": {},
   "outputs": [],
   "source": [
    "tab_shops = session.read_csv('shops.csv', keys = ['Shop ID'])"
   ]
  },
  {
   "cell_type": "code",
   "execution_count": 4,
   "id": "f19b993e-559c-485a-aea2-51ed824204a3",
   "metadata": {},
   "outputs": [
    {
     "data": {
      "text/html": [
       "<div>\n",
       "<style scoped>\n",
       "    .dataframe tbody tr th:only-of-type {\n",
       "        vertical-align: middle;\n",
       "    }\n",
       "\n",
       "    .dataframe tbody tr th {\n",
       "        vertical-align: top;\n",
       "    }\n",
       "\n",
       "    .dataframe thead th {\n",
       "        text-align: right;\n",
       "    }\n",
       "</style>\n",
       "<table border=\"1\" class=\"dataframe\">\n",
       "  <thead>\n",
       "    <tr style=\"text-align: right;\">\n",
       "      <th></th>\n",
       "      <th>City</th>\n",
       "      <th>State or region</th>\n",
       "      <th>Country</th>\n",
       "      <th>Shop size</th>\n",
       "    </tr>\n",
       "    <tr>\n",
       "      <th>Shop ID</th>\n",
       "      <th></th>\n",
       "      <th></th>\n",
       "      <th></th>\n",
       "      <th></th>\n",
       "    </tr>\n",
       "  </thead>\n",
       "  <tbody>\n",
       "    <tr>\n",
       "      <th>shop_0</th>\n",
       "      <td>New York</td>\n",
       "      <td>New York</td>\n",
       "      <td>USA</td>\n",
       "      <td>big</td>\n",
       "    </tr>\n",
       "    <tr>\n",
       "      <th>shop_1</th>\n",
       "      <td>Los Angeles</td>\n",
       "      <td>California</td>\n",
       "      <td>USA</td>\n",
       "      <td>medium</td>\n",
       "    </tr>\n",
       "    <tr>\n",
       "      <th>shop_2</th>\n",
       "      <td>San Diego</td>\n",
       "      <td>California</td>\n",
       "      <td>USA</td>\n",
       "      <td>medium</td>\n",
       "    </tr>\n",
       "    <tr>\n",
       "      <th>shop_3</th>\n",
       "      <td>San Jose</td>\n",
       "      <td>California</td>\n",
       "      <td>USA</td>\n",
       "      <td>medium</td>\n",
       "    </tr>\n",
       "    <tr>\n",
       "      <th>shop_4</th>\n",
       "      <td>San Francisco</td>\n",
       "      <td>California</td>\n",
       "      <td>USA</td>\n",
       "      <td>small</td>\n",
       "    </tr>\n",
       "  </tbody>\n",
       "</table>\n",
       "</div>"
      ],
      "text/plain": [
       "                  City State or region Country Shop size\n",
       "Shop ID                                                 \n",
       "shop_0        New York        New York     USA       big\n",
       "shop_1     Los Angeles      California     USA    medium\n",
       "shop_2       San Diego      California     USA    medium\n",
       "shop_3        San Jose      California     USA    medium\n",
       "shop_4   San Francisco      California     USA     small"
      ]
     },
     "execution_count": 4,
     "metadata": {},
     "output_type": "execute_result"
    }
   ],
   "source": [
    "tab_shops.head()"
   ]
  },
  {
   "cell_type": "code",
   "execution_count": 5,
   "id": "4a3ca93b-6e69-41de-98ca-8247b38c8bc0",
   "metadata": {},
   "outputs": [],
   "source": [
    "tab_sales = session.read_csv('sales.csv', keys = ['Sale ID']) "
   ]
  },
  {
   "cell_type": "code",
   "execution_count": 6,
   "id": "5b4df8e5-ba06-4560-9fe2-7f0191aab37c",
   "metadata": {},
   "outputs": [
    {
     "data": {
      "text/html": [
       "<div>\n",
       "<style scoped>\n",
       "    .dataframe tbody tr th:only-of-type {\n",
       "        vertical-align: middle;\n",
       "    }\n",
       "\n",
       "    .dataframe tbody tr th {\n",
       "        vertical-align: top;\n",
       "    }\n",
       "\n",
       "    .dataframe thead th {\n",
       "        text-align: right;\n",
       "    }\n",
       "</style>\n",
       "<table border=\"1\" class=\"dataframe\">\n",
       "  <thead>\n",
       "    <tr style=\"text-align: right;\">\n",
       "      <th></th>\n",
       "      <th>Date</th>\n",
       "      <th>Shop</th>\n",
       "      <th>Product</th>\n",
       "      <th>Quantity</th>\n",
       "      <th>Unit price</th>\n",
       "    </tr>\n",
       "    <tr>\n",
       "      <th>Sale ID</th>\n",
       "      <th></th>\n",
       "      <th></th>\n",
       "      <th></th>\n",
       "      <th></th>\n",
       "      <th></th>\n",
       "    </tr>\n",
       "  </thead>\n",
       "  <tbody>\n",
       "    <tr>\n",
       "      <th>S000000000</th>\n",
       "      <td>2021-02-04</td>\n",
       "      <td>shop_0</td>\n",
       "      <td>TAB_0</td>\n",
       "      <td>1.0</td>\n",
       "      <td>210.0</td>\n",
       "    </tr>\n",
       "    <tr>\n",
       "      <th>S000000001</th>\n",
       "      <td>2021-02-03</td>\n",
       "      <td>shop_1</td>\n",
       "      <td>TAB_1</td>\n",
       "      <td>1.0</td>\n",
       "      <td>300.0</td>\n",
       "    </tr>\n",
       "    <tr>\n",
       "      <th>S000000002</th>\n",
       "      <td>2021-02-02</td>\n",
       "      <td>shop_2</td>\n",
       "      <td>CHA_2</td>\n",
       "      <td>2.0</td>\n",
       "      <td>60.0</td>\n",
       "    </tr>\n",
       "    <tr>\n",
       "      <th>S000000003</th>\n",
       "      <td>2021-02-01</td>\n",
       "      <td>shop_3</td>\n",
       "      <td>BED_3</td>\n",
       "      <td>1.0</td>\n",
       "      <td>150.0</td>\n",
       "    </tr>\n",
       "    <tr>\n",
       "      <th>S000000004</th>\n",
       "      <td>2021-01-31</td>\n",
       "      <td>shop_4</td>\n",
       "      <td>BED_4</td>\n",
       "      <td>3.0</td>\n",
       "      <td>300.0</td>\n",
       "    </tr>\n",
       "  </tbody>\n",
       "</table>\n",
       "</div>"
      ],
      "text/plain": [
       "                 Date    Shop Product  Quantity  Unit price\n",
       "Sale ID                                                    \n",
       "S000000000 2021-02-04  shop_0   TAB_0       1.0       210.0\n",
       "S000000001 2021-02-03  shop_1   TAB_1       1.0       300.0\n",
       "S000000002 2021-02-02  shop_2   CHA_2       2.0        60.0\n",
       "S000000003 2021-02-01  shop_3   BED_3       1.0       150.0\n",
       "S000000004 2021-01-31  shop_4   BED_4       3.0       300.0"
      ]
     },
     "execution_count": 6,
     "metadata": {},
     "output_type": "execute_result"
    }
   ],
   "source": [
    "tab_sales.head()"
   ]
  },
  {
   "cell_type": "code",
   "execution_count": 7,
   "id": "67bc2ee2-53a8-4fe2-baf4-ae91e4f2b17d",
   "metadata": {},
   "outputs": [],
   "source": [
    "cube = session.create_cube(tab_shops)"
   ]
  },
  {
   "cell_type": "code",
   "execution_count": 15,
   "id": "8f10e85d-f9ca-46a4-88ab-815faaae71ad",
   "metadata": {},
   "outputs": [
    {
     "ename": "ExpatError",
     "evalue": "no element found: line 1, column 0",
     "output_type": "error",
     "traceback": [
      "\u001b[1;31m---------------------------------------------------------------------------\u001b[0m",
      "\u001b[1;31mExpatError\u001b[0m                                Traceback (most recent call last)",
      "Input \u001b[1;32mIn [15]\u001b[0m, in \u001b[0;36m<cell line: 1>\u001b[1;34m()\u001b[0m\n\u001b[1;32m----> 1\u001b[0m cube\u001b[38;5;241m.\u001b[39mschema()\n",
      "File \u001b[1;32m~\\AppData\\Local\\Programs\\Python\\Python310\\lib\\site-packages\\atoti\\cube.py:133\u001b[0m, in \u001b[0;36mCube.schema\u001b[1;34m(self)\u001b[0m\n\u001b[0;32m    130\u001b[0m     \u001b[38;5;28;01mif\u001b[39;00m running_in_ipython():\n\u001b[0;32m    131\u001b[0m         \u001b[38;5;28;01mfrom\u001b[39;00m \u001b[38;5;21;01mIPython\u001b[39;00m\u001b[38;5;21;01m.\u001b[39;00m\u001b[38;5;21;01mdisplay\u001b[39;00m \u001b[38;5;28;01mimport\u001b[39;00m SVG  \u001b[38;5;66;03m# pylint: disable=undeclared-dependency\u001b[39;00m\n\u001b[1;32m--> 133\u001b[0m         \u001b[38;5;28;01mreturn\u001b[39;00m \u001b[43mSVG\u001b[49m\u001b[43m(\u001b[49m\u001b[43mfilename\u001b[49m\u001b[38;5;241;43m=\u001b[39;49m\u001b[43mpath\u001b[49m\u001b[43m)\u001b[49m\n\u001b[0;32m    134\u001b[0m     \u001b[38;5;28;01mreturn\u001b[39;00m Path(path)\n\u001b[0;32m    135\u001b[0m \u001b[38;5;28;01mexcept\u001b[39;00m AtotiJavaException:\n",
      "File \u001b[1;32m~\\AppData\\Local\\Programs\\Python\\Python310\\lib\\site-packages\\IPython\\core\\display.py:327\u001b[0m, in \u001b[0;36mDisplayObject.__init__\u001b[1;34m(self, data, url, filename, metadata)\u001b[0m\n\u001b[0;32m    324\u001b[0m \u001b[38;5;28;01melif\u001b[39;00m \u001b[38;5;28mself\u001b[39m\u001b[38;5;241m.\u001b[39mmetadata \u001b[38;5;129;01mis\u001b[39;00m \u001b[38;5;28;01mNone\u001b[39;00m:\n\u001b[0;32m    325\u001b[0m     \u001b[38;5;28mself\u001b[39m\u001b[38;5;241m.\u001b[39mmetadata \u001b[38;5;241m=\u001b[39m {}\n\u001b[1;32m--> 327\u001b[0m \u001b[38;5;28;43mself\u001b[39;49m\u001b[38;5;241;43m.\u001b[39;49m\u001b[43mreload\u001b[49m\u001b[43m(\u001b[49m\u001b[43m)\u001b[49m\n\u001b[0;32m    328\u001b[0m \u001b[38;5;28mself\u001b[39m\u001b[38;5;241m.\u001b[39m_check_data()\n",
      "File \u001b[1;32m~\\AppData\\Local\\Programs\\Python\\Python310\\lib\\site-packages\\IPython\\core\\display.py:354\u001b[0m, in \u001b[0;36mDisplayObject.reload\u001b[1;34m(self)\u001b[0m\n\u001b[0;32m    352\u001b[0m     encoding \u001b[38;5;241m=\u001b[39m \u001b[38;5;28;01mNone\u001b[39;00m \u001b[38;5;28;01mif\u001b[39;00m \u001b[38;5;124m\"\u001b[39m\u001b[38;5;124mb\u001b[39m\u001b[38;5;124m\"\u001b[39m \u001b[38;5;129;01min\u001b[39;00m \u001b[38;5;28mself\u001b[39m\u001b[38;5;241m.\u001b[39m_read_flags \u001b[38;5;28;01melse\u001b[39;00m \u001b[38;5;124m\"\u001b[39m\u001b[38;5;124mutf-8\u001b[39m\u001b[38;5;124m\"\u001b[39m\n\u001b[0;32m    353\u001b[0m     \u001b[38;5;28;01mwith\u001b[39;00m \u001b[38;5;28mopen\u001b[39m(\u001b[38;5;28mself\u001b[39m\u001b[38;5;241m.\u001b[39mfilename, \u001b[38;5;28mself\u001b[39m\u001b[38;5;241m.\u001b[39m_read_flags, encoding\u001b[38;5;241m=\u001b[39mencoding) \u001b[38;5;28;01mas\u001b[39;00m f:\n\u001b[1;32m--> 354\u001b[0m         \u001b[38;5;28mself\u001b[39m\u001b[38;5;241m.\u001b[39mdata \u001b[38;5;241m=\u001b[39m f\u001b[38;5;241m.\u001b[39mread()\n\u001b[0;32m    355\u001b[0m \u001b[38;5;28;01melif\u001b[39;00m \u001b[38;5;28mself\u001b[39m\u001b[38;5;241m.\u001b[39murl \u001b[38;5;129;01mis\u001b[39;00m \u001b[38;5;129;01mnot\u001b[39;00m \u001b[38;5;28;01mNone\u001b[39;00m:\n\u001b[0;32m    356\u001b[0m     \u001b[38;5;66;03m# Deferred import\u001b[39;00m\n\u001b[0;32m    357\u001b[0m     \u001b[38;5;28;01mfrom\u001b[39;00m \u001b[38;5;21;01murllib\u001b[39;00m\u001b[38;5;21;01m.\u001b[39;00m\u001b[38;5;21;01mrequest\u001b[39;00m \u001b[38;5;28;01mimport\u001b[39;00m urlopen\n",
      "File \u001b[1;32m~\\AppData\\Local\\Programs\\Python\\Python310\\lib\\site-packages\\IPython\\core\\display.py:479\u001b[0m, in \u001b[0;36mSVG.data\u001b[1;34m(self, svg)\u001b[0m\n\u001b[0;32m    477\u001b[0m \u001b[38;5;66;03m# parse into dom object\u001b[39;00m\n\u001b[0;32m    478\u001b[0m \u001b[38;5;28;01mfrom\u001b[39;00m \u001b[38;5;21;01mxml\u001b[39;00m\u001b[38;5;21;01m.\u001b[39;00m\u001b[38;5;21;01mdom\u001b[39;00m \u001b[38;5;28;01mimport\u001b[39;00m minidom\n\u001b[1;32m--> 479\u001b[0m x \u001b[38;5;241m=\u001b[39m \u001b[43mminidom\u001b[49m\u001b[38;5;241;43m.\u001b[39;49m\u001b[43mparseString\u001b[49m\u001b[43m(\u001b[49m\u001b[43msvg\u001b[49m\u001b[43m)\u001b[49m\n\u001b[0;32m    480\u001b[0m \u001b[38;5;66;03m# get svg tag (should be 1)\u001b[39;00m\n\u001b[0;32m    481\u001b[0m found_svg \u001b[38;5;241m=\u001b[39m x\u001b[38;5;241m.\u001b[39mgetElementsByTagName(\u001b[38;5;124m'\u001b[39m\u001b[38;5;124msvg\u001b[39m\u001b[38;5;124m'\u001b[39m)\n",
      "File \u001b[1;32m~\\AppData\\Local\\Programs\\Python\\Python310\\lib\\xml\\dom\\minidom.py:1998\u001b[0m, in \u001b[0;36mparseString\u001b[1;34m(string, parser)\u001b[0m\n\u001b[0;32m   1996\u001b[0m \u001b[38;5;28;01mif\u001b[39;00m parser \u001b[38;5;129;01mis\u001b[39;00m \u001b[38;5;28;01mNone\u001b[39;00m:\n\u001b[0;32m   1997\u001b[0m     \u001b[38;5;28;01mfrom\u001b[39;00m \u001b[38;5;21;01mxml\u001b[39;00m\u001b[38;5;21;01m.\u001b[39;00m\u001b[38;5;21;01mdom\u001b[39;00m \u001b[38;5;28;01mimport\u001b[39;00m expatbuilder\n\u001b[1;32m-> 1998\u001b[0m     \u001b[38;5;28;01mreturn\u001b[39;00m \u001b[43mexpatbuilder\u001b[49m\u001b[38;5;241;43m.\u001b[39;49m\u001b[43mparseString\u001b[49m\u001b[43m(\u001b[49m\u001b[43mstring\u001b[49m\u001b[43m)\u001b[49m\n\u001b[0;32m   1999\u001b[0m \u001b[38;5;28;01melse\u001b[39;00m:\n\u001b[0;32m   2000\u001b[0m     \u001b[38;5;28;01mfrom\u001b[39;00m \u001b[38;5;21;01mxml\u001b[39;00m\u001b[38;5;21;01m.\u001b[39;00m\u001b[38;5;21;01mdom\u001b[39;00m \u001b[38;5;28;01mimport\u001b[39;00m pulldom\n",
      "File \u001b[1;32m~\\AppData\\Local\\Programs\\Python\\Python310\\lib\\xml\\dom\\expatbuilder.py:925\u001b[0m, in \u001b[0;36mparseString\u001b[1;34m(string, namespaces)\u001b[0m\n\u001b[0;32m    923\u001b[0m \u001b[38;5;28;01melse\u001b[39;00m:\n\u001b[0;32m    924\u001b[0m     builder \u001b[38;5;241m=\u001b[39m ExpatBuilder()\n\u001b[1;32m--> 925\u001b[0m \u001b[38;5;28;01mreturn\u001b[39;00m \u001b[43mbuilder\u001b[49m\u001b[38;5;241;43m.\u001b[39;49m\u001b[43mparseString\u001b[49m\u001b[43m(\u001b[49m\u001b[43mstring\u001b[49m\u001b[43m)\u001b[49m\n",
      "File \u001b[1;32m~\\AppData\\Local\\Programs\\Python\\Python310\\lib\\xml\\dom\\expatbuilder.py:223\u001b[0m, in \u001b[0;36mExpatBuilder.parseString\u001b[1;34m(self, string)\u001b[0m\n\u001b[0;32m    221\u001b[0m parser \u001b[38;5;241m=\u001b[39m \u001b[38;5;28mself\u001b[39m\u001b[38;5;241m.\u001b[39mgetParser()\n\u001b[0;32m    222\u001b[0m \u001b[38;5;28;01mtry\u001b[39;00m:\n\u001b[1;32m--> 223\u001b[0m     \u001b[43mparser\u001b[49m\u001b[38;5;241;43m.\u001b[39;49m\u001b[43mParse\u001b[49m\u001b[43m(\u001b[49m\u001b[43mstring\u001b[49m\u001b[43m,\u001b[49m\u001b[43m \u001b[49m\u001b[38;5;28;43;01mTrue\u001b[39;49;00m\u001b[43m)\u001b[49m\n\u001b[0;32m    224\u001b[0m     \u001b[38;5;28mself\u001b[39m\u001b[38;5;241m.\u001b[39m_setup_subset(string)\n\u001b[0;32m    225\u001b[0m \u001b[38;5;28;01mexcept\u001b[39;00m ParseEscape:\n",
      "\u001b[1;31mExpatError\u001b[0m: no element found: line 1, column 0"
     ]
    }
   ],
   "source": [
    "cube.schema()"
   ]
  },
  {
   "cell_type": "code",
   "execution_count": 8,
   "id": "f776cf36-e59a-444f-b76a-8d6cb7b9ecb5",
   "metadata": {},
   "outputs": [],
   "source": [
    "tab_shops.join(tab_sales, mapping = {\"Shop ID\" : \"Shop\"})"
   ]
  },
  {
   "cell_type": "code",
   "execution_count": 19,
   "id": "b78d96a2-a13b-4a63-91c9-38e56bb0a3ea",
   "metadata": {},
   "outputs": [
    {
     "ename": "ExpatError",
     "evalue": "no element found: line 1, column 0",
     "output_type": "error",
     "traceback": [
      "\u001b[1;31m---------------------------------------------------------------------------\u001b[0m",
      "\u001b[1;31mExpatError\u001b[0m                                Traceback (most recent call last)",
      "Input \u001b[1;32mIn [19]\u001b[0m, in \u001b[0;36m<cell line: 1>\u001b[1;34m()\u001b[0m\n\u001b[1;32m----> 1\u001b[0m cube\u001b[38;5;241m.\u001b[39mschema\n",
      "File \u001b[1;32m~\\AppData\\Local\\Programs\\Python\\Python310\\lib\\site-packages\\atoti\\cube.py:133\u001b[0m, in \u001b[0;36mCube.schema\u001b[1;34m(self)\u001b[0m\n\u001b[0;32m    130\u001b[0m     \u001b[38;5;28;01mif\u001b[39;00m running_in_ipython():\n\u001b[0;32m    131\u001b[0m         \u001b[38;5;28;01mfrom\u001b[39;00m \u001b[38;5;21;01mIPython\u001b[39;00m\u001b[38;5;21;01m.\u001b[39;00m\u001b[38;5;21;01mdisplay\u001b[39;00m \u001b[38;5;28;01mimport\u001b[39;00m SVG  \u001b[38;5;66;03m# pylint: disable=undeclared-dependency\u001b[39;00m\n\u001b[1;32m--> 133\u001b[0m         \u001b[38;5;28;01mreturn\u001b[39;00m \u001b[43mSVG\u001b[49m\u001b[43m(\u001b[49m\u001b[43mfilename\u001b[49m\u001b[38;5;241;43m=\u001b[39;49m\u001b[43mpath\u001b[49m\u001b[43m)\u001b[49m\n\u001b[0;32m    134\u001b[0m     \u001b[38;5;28;01mreturn\u001b[39;00m Path(path)\n\u001b[0;32m    135\u001b[0m \u001b[38;5;28;01mexcept\u001b[39;00m AtotiJavaException:\n",
      "File \u001b[1;32m~\\AppData\\Local\\Programs\\Python\\Python310\\lib\\site-packages\\IPython\\core\\display.py:327\u001b[0m, in \u001b[0;36mDisplayObject.__init__\u001b[1;34m(self, data, url, filename, metadata)\u001b[0m\n\u001b[0;32m    324\u001b[0m \u001b[38;5;28;01melif\u001b[39;00m \u001b[38;5;28mself\u001b[39m\u001b[38;5;241m.\u001b[39mmetadata \u001b[38;5;129;01mis\u001b[39;00m \u001b[38;5;28;01mNone\u001b[39;00m:\n\u001b[0;32m    325\u001b[0m     \u001b[38;5;28mself\u001b[39m\u001b[38;5;241m.\u001b[39mmetadata \u001b[38;5;241m=\u001b[39m {}\n\u001b[1;32m--> 327\u001b[0m \u001b[38;5;28;43mself\u001b[39;49m\u001b[38;5;241;43m.\u001b[39;49m\u001b[43mreload\u001b[49m\u001b[43m(\u001b[49m\u001b[43m)\u001b[49m\n\u001b[0;32m    328\u001b[0m \u001b[38;5;28mself\u001b[39m\u001b[38;5;241m.\u001b[39m_check_data()\n",
      "File \u001b[1;32m~\\AppData\\Local\\Programs\\Python\\Python310\\lib\\site-packages\\IPython\\core\\display.py:354\u001b[0m, in \u001b[0;36mDisplayObject.reload\u001b[1;34m(self)\u001b[0m\n\u001b[0;32m    352\u001b[0m     encoding \u001b[38;5;241m=\u001b[39m \u001b[38;5;28;01mNone\u001b[39;00m \u001b[38;5;28;01mif\u001b[39;00m \u001b[38;5;124m\"\u001b[39m\u001b[38;5;124mb\u001b[39m\u001b[38;5;124m\"\u001b[39m \u001b[38;5;129;01min\u001b[39;00m \u001b[38;5;28mself\u001b[39m\u001b[38;5;241m.\u001b[39m_read_flags \u001b[38;5;28;01melse\u001b[39;00m \u001b[38;5;124m\"\u001b[39m\u001b[38;5;124mutf-8\u001b[39m\u001b[38;5;124m\"\u001b[39m\n\u001b[0;32m    353\u001b[0m     \u001b[38;5;28;01mwith\u001b[39;00m \u001b[38;5;28mopen\u001b[39m(\u001b[38;5;28mself\u001b[39m\u001b[38;5;241m.\u001b[39mfilename, \u001b[38;5;28mself\u001b[39m\u001b[38;5;241m.\u001b[39m_read_flags, encoding\u001b[38;5;241m=\u001b[39mencoding) \u001b[38;5;28;01mas\u001b[39;00m f:\n\u001b[1;32m--> 354\u001b[0m         \u001b[38;5;28mself\u001b[39m\u001b[38;5;241m.\u001b[39mdata \u001b[38;5;241m=\u001b[39m f\u001b[38;5;241m.\u001b[39mread()\n\u001b[0;32m    355\u001b[0m \u001b[38;5;28;01melif\u001b[39;00m \u001b[38;5;28mself\u001b[39m\u001b[38;5;241m.\u001b[39murl \u001b[38;5;129;01mis\u001b[39;00m \u001b[38;5;129;01mnot\u001b[39;00m \u001b[38;5;28;01mNone\u001b[39;00m:\n\u001b[0;32m    356\u001b[0m     \u001b[38;5;66;03m# Deferred import\u001b[39;00m\n\u001b[0;32m    357\u001b[0m     \u001b[38;5;28;01mfrom\u001b[39;00m \u001b[38;5;21;01murllib\u001b[39;00m\u001b[38;5;21;01m.\u001b[39;00m\u001b[38;5;21;01mrequest\u001b[39;00m \u001b[38;5;28;01mimport\u001b[39;00m urlopen\n",
      "File \u001b[1;32m~\\AppData\\Local\\Programs\\Python\\Python310\\lib\\site-packages\\IPython\\core\\display.py:479\u001b[0m, in \u001b[0;36mSVG.data\u001b[1;34m(self, svg)\u001b[0m\n\u001b[0;32m    477\u001b[0m \u001b[38;5;66;03m# parse into dom object\u001b[39;00m\n\u001b[0;32m    478\u001b[0m \u001b[38;5;28;01mfrom\u001b[39;00m \u001b[38;5;21;01mxml\u001b[39;00m\u001b[38;5;21;01m.\u001b[39;00m\u001b[38;5;21;01mdom\u001b[39;00m \u001b[38;5;28;01mimport\u001b[39;00m minidom\n\u001b[1;32m--> 479\u001b[0m x \u001b[38;5;241m=\u001b[39m \u001b[43mminidom\u001b[49m\u001b[38;5;241;43m.\u001b[39;49m\u001b[43mparseString\u001b[49m\u001b[43m(\u001b[49m\u001b[43msvg\u001b[49m\u001b[43m)\u001b[49m\n\u001b[0;32m    480\u001b[0m \u001b[38;5;66;03m# get svg tag (should be 1)\u001b[39;00m\n\u001b[0;32m    481\u001b[0m found_svg \u001b[38;5;241m=\u001b[39m x\u001b[38;5;241m.\u001b[39mgetElementsByTagName(\u001b[38;5;124m'\u001b[39m\u001b[38;5;124msvg\u001b[39m\u001b[38;5;124m'\u001b[39m)\n",
      "File \u001b[1;32m~\\AppData\\Local\\Programs\\Python\\Python310\\lib\\xml\\dom\\minidom.py:1998\u001b[0m, in \u001b[0;36mparseString\u001b[1;34m(string, parser)\u001b[0m\n\u001b[0;32m   1996\u001b[0m \u001b[38;5;28;01mif\u001b[39;00m parser \u001b[38;5;129;01mis\u001b[39;00m \u001b[38;5;28;01mNone\u001b[39;00m:\n\u001b[0;32m   1997\u001b[0m     \u001b[38;5;28;01mfrom\u001b[39;00m \u001b[38;5;21;01mxml\u001b[39;00m\u001b[38;5;21;01m.\u001b[39;00m\u001b[38;5;21;01mdom\u001b[39;00m \u001b[38;5;28;01mimport\u001b[39;00m expatbuilder\n\u001b[1;32m-> 1998\u001b[0m     \u001b[38;5;28;01mreturn\u001b[39;00m \u001b[43mexpatbuilder\u001b[49m\u001b[38;5;241;43m.\u001b[39;49m\u001b[43mparseString\u001b[49m\u001b[43m(\u001b[49m\u001b[43mstring\u001b[49m\u001b[43m)\u001b[49m\n\u001b[0;32m   1999\u001b[0m \u001b[38;5;28;01melse\u001b[39;00m:\n\u001b[0;32m   2000\u001b[0m     \u001b[38;5;28;01mfrom\u001b[39;00m \u001b[38;5;21;01mxml\u001b[39;00m\u001b[38;5;21;01m.\u001b[39;00m\u001b[38;5;21;01mdom\u001b[39;00m \u001b[38;5;28;01mimport\u001b[39;00m pulldom\n",
      "File \u001b[1;32m~\\AppData\\Local\\Programs\\Python\\Python310\\lib\\xml\\dom\\expatbuilder.py:925\u001b[0m, in \u001b[0;36mparseString\u001b[1;34m(string, namespaces)\u001b[0m\n\u001b[0;32m    923\u001b[0m \u001b[38;5;28;01melse\u001b[39;00m:\n\u001b[0;32m    924\u001b[0m     builder \u001b[38;5;241m=\u001b[39m ExpatBuilder()\n\u001b[1;32m--> 925\u001b[0m \u001b[38;5;28;01mreturn\u001b[39;00m \u001b[43mbuilder\u001b[49m\u001b[38;5;241;43m.\u001b[39;49m\u001b[43mparseString\u001b[49m\u001b[43m(\u001b[49m\u001b[43mstring\u001b[49m\u001b[43m)\u001b[49m\n",
      "File \u001b[1;32m~\\AppData\\Local\\Programs\\Python\\Python310\\lib\\xml\\dom\\expatbuilder.py:223\u001b[0m, in \u001b[0;36mExpatBuilder.parseString\u001b[1;34m(self, string)\u001b[0m\n\u001b[0;32m    221\u001b[0m parser \u001b[38;5;241m=\u001b[39m \u001b[38;5;28mself\u001b[39m\u001b[38;5;241m.\u001b[39mgetParser()\n\u001b[0;32m    222\u001b[0m \u001b[38;5;28;01mtry\u001b[39;00m:\n\u001b[1;32m--> 223\u001b[0m     \u001b[43mparser\u001b[49m\u001b[38;5;241;43m.\u001b[39;49m\u001b[43mParse\u001b[49m\u001b[43m(\u001b[49m\u001b[43mstring\u001b[49m\u001b[43m,\u001b[49m\u001b[43m \u001b[49m\u001b[38;5;28;43;01mTrue\u001b[39;49;00m\u001b[43m)\u001b[49m\n\u001b[0;32m    224\u001b[0m     \u001b[38;5;28mself\u001b[39m\u001b[38;5;241m.\u001b[39m_setup_subset(string)\n\u001b[0;32m    225\u001b[0m \u001b[38;5;28;01mexcept\u001b[39;00m ParseEscape:\n",
      "\u001b[1;31mExpatError\u001b[0m: no element found: line 1, column 0"
     ]
    }
   ],
   "source": [
    "cube.schema"
   ]
  },
  {
   "cell_type": "code",
   "execution_count": 9,
   "id": "1581b92e-a4d4-4a55-b69d-aacb1a9c46e1",
   "metadata": {},
   "outputs": [
    {
     "data": {
      "application/json": {
       "Sales": {
        "Date": [
         "Date"
        ],
        "Product": [
         "Product"
        ],
        "Sale ID": [
         "Sale ID"
        ]
       },
       "Shops": {
        "City": [
         "City"
        ],
        "Country": [
         "Country"
        ],
        "Shop ID": [
         "Shop ID"
        ],
        "Shop size": [
         "Shop size"
        ],
        "State or region": [
         "State or region"
        ]
       }
      },
      "text/html": [
       "<ul>\n",
       "<li>Dimensions\n",
       "  <ul>\n",
       "  <li>Sales\n",
       "    <ul>\n",
       "    <li>Date\n",
       "      <ol>\n",
       "      <li>Date</li>\n",
       "      </ol>    </li>\n",
       "    <li>Product\n",
       "      <ol>\n",
       "      <li>Product</li>\n",
       "      </ol>    </li>\n",
       "    <li>Sale ID\n",
       "      <ol>\n",
       "      <li>Sale ID</li>\n",
       "      </ol>    </li>\n",
       "    </ul>\n",
       "  </li>\n",
       "  <li>Shops\n",
       "    <ul>\n",
       "    <li>City\n",
       "      <ol>\n",
       "      <li>City</li>\n",
       "      </ol>    </li>\n",
       "    <li>Country\n",
       "      <ol>\n",
       "      <li>Country</li>\n",
       "      </ol>    </li>\n",
       "    <li>Shop ID\n",
       "      <ol>\n",
       "      <li>Shop ID</li>\n",
       "      </ol>    </li>\n",
       "    <li>Shop size\n",
       "      <ol>\n",
       "      <li>Shop size</li>\n",
       "      </ol>    </li>\n",
       "    <li>State or region\n",
       "      <ol>\n",
       "      <li>State or region</li>\n",
       "      </ol>    </li>\n",
       "    </ul>\n",
       "  </li>\n",
       "  </ul>\n",
       "</li>\n",
       "</ul>\n"
      ],
      "text/plain": [
       "Hierarchies(_create_hierarchy_from_arguments=<bound method Cube._create_hierarchy_from_arguments of Cube(_name='Shops', _hierarchies=..., _measures=Measures())>, _cube_name='Shops')"
      ]
     },
     "execution_count": 9,
     "metadata": {
      "application/json": {
       "expanded": true,
       "root": "Dimensions"
      }
     },
     "output_type": "execute_result"
    }
   ],
   "source": [
    "h = cube.hierarchies\n",
    "h"
   ]
  },
  {
   "cell_type": "code",
   "execution_count": 10,
   "id": "1b56a331-6f13-4c64-b4ab-0c621fecead8",
   "metadata": {},
   "outputs": [
    {
     "data": {
      "application/json": {
       "City (Shops/City/City)": {
        "dimension": "Shops",
        "hierarchy": "City",
        "order": "NaturalOrder",
        "type": "string"
       },
       "Country (Shops/Country/Country)": {
        "dimension": "Shops",
        "hierarchy": "Country",
        "order": "NaturalOrder",
        "type": "string"
       },
       "Date (Sales/Date/Date)": {
        "dimension": "Sales",
        "hierarchy": "Date",
        "order": "NaturalOrder",
        "type": "LocalDate"
       },
       "Product (Sales/Product/Product)": {
        "dimension": "Sales",
        "hierarchy": "Product",
        "order": "NaturalOrder",
        "type": "string"
       },
       "Sale ID (Sales/Sale ID/Sale ID)": {
        "dimension": "Sales",
        "hierarchy": "Sale ID",
        "order": "NaturalOrder",
        "type": "string"
       },
       "Shop ID (Shops/Shop ID/Shop ID)": {
        "dimension": "Shops",
        "hierarchy": "Shop ID",
        "order": "NaturalOrder",
        "type": "string"
       },
       "Shop size (Shops/Shop size/Shop size)": {
        "dimension": "Shops",
        "hierarchy": "Shop size",
        "order": "NaturalOrder",
        "type": "string"
       },
       "State or region (Shops/State or region/State or region)": {
        "dimension": "Shops",
        "hierarchy": "State or region",
        "order": "NaturalOrder",
        "type": "string"
       }
      },
      "text/html": [
       "<ul>\n",
       "<li>Levels\n",
       "  <ul>\n",
       "  <li>City (Shops/City/City)\n",
       "    <ul>\n",
       "    <li>dimension: Shops</li>\n",
       "    <li>hierarchy: City</li>\n",
       "    <li>type: string</li>\n",
       "    <li>order: NaturalOrder</li>\n",
       "    </ul>\n",
       "  </li>\n",
       "  <li>Country (Shops/Country/Country)\n",
       "    <ul>\n",
       "    <li>dimension: Shops</li>\n",
       "    <li>hierarchy: Country</li>\n",
       "    <li>type: string</li>\n",
       "    <li>order: NaturalOrder</li>\n",
       "    </ul>\n",
       "  </li>\n",
       "  <li>Date (Sales/Date/Date)\n",
       "    <ul>\n",
       "    <li>dimension: Sales</li>\n",
       "    <li>hierarchy: Date</li>\n",
       "    <li>type: LocalDate</li>\n",
       "    <li>order: NaturalOrder</li>\n",
       "    </ul>\n",
       "  </li>\n",
       "  <li>Product (Sales/Product/Product)\n",
       "    <ul>\n",
       "    <li>dimension: Sales</li>\n",
       "    <li>hierarchy: Product</li>\n",
       "    <li>type: string</li>\n",
       "    <li>order: NaturalOrder</li>\n",
       "    </ul>\n",
       "  </li>\n",
       "  <li>Sale ID (Sales/Sale ID/Sale ID)\n",
       "    <ul>\n",
       "    <li>dimension: Sales</li>\n",
       "    <li>hierarchy: Sale ID</li>\n",
       "    <li>type: string</li>\n",
       "    <li>order: NaturalOrder</li>\n",
       "    </ul>\n",
       "  </li>\n",
       "  <li>Shop ID (Shops/Shop ID/Shop ID)\n",
       "    <ul>\n",
       "    <li>dimension: Shops</li>\n",
       "    <li>hierarchy: Shop ID</li>\n",
       "    <li>type: string</li>\n",
       "    <li>order: NaturalOrder</li>\n",
       "    </ul>\n",
       "  </li>\n",
       "  <li>Shop size (Shops/Shop size/Shop size)\n",
       "    <ul>\n",
       "    <li>dimension: Shops</li>\n",
       "    <li>hierarchy: Shop size</li>\n",
       "    <li>type: string</li>\n",
       "    <li>order: NaturalOrder</li>\n",
       "    </ul>\n",
       "  </li>\n",
       "  <li>State or region (Shops/State or region/State or region)\n",
       "    <ul>\n",
       "    <li>dimension: Shops</li>\n",
       "    <li>hierarchy: State or region</li>\n",
       "    <li>type: string</li>\n",
       "    <li>order: NaturalOrder</li>\n",
       "    </ul>\n",
       "  </li>\n",
       "  </ul>\n",
       "</li>\n",
       "</ul>\n"
      ],
      "text/plain": [
       "Levels()"
      ]
     },
     "execution_count": 10,
     "metadata": {
      "application/json": {
       "expanded": true,
       "root": "Levels"
      }
     },
     "output_type": "execute_result"
    }
   ],
   "source": [
    "l = cube.levels\n",
    "l"
   ]
  },
  {
   "cell_type": "code",
   "execution_count": 11,
   "id": "f0ced1a3-9114-431e-bccc-2ce9008660fa",
   "metadata": {},
   "outputs": [
    {
     "data": {
      "application/json": {
       "contributors.COUNT": {
        "formatter": "INT[#,###]"
       }
      },
      "text/html": [
       "<ul>\n",
       "<li>Measures\n",
       "  <ul>\n",
       "  <li>contributors.COUNT\n",
       "    <ul>\n",
       "    <li>formatter: INT[#,###]</li>\n",
       "    </ul>\n",
       "  </li>\n",
       "  </ul>\n",
       "</li>\n",
       "</ul>\n"
      ],
      "text/plain": [
       "Measures()"
      ]
     },
     "execution_count": 11,
     "metadata": {
      "application/json": {
       "expanded": false,
       "root": "Measures"
      }
     },
     "output_type": "execute_result"
    }
   ],
   "source": [
    "m = cube.measures\n",
    "m"
   ]
  },
  {
   "cell_type": "code",
   "execution_count": 12,
   "id": "fbadae48-702e-4f86-a0de-3354f7a5f7df",
   "metadata": {},
   "outputs": [
    {
     "data": {
      "application/vnd.atoti.widget.v0+json": {
       "name": null,
       "sessionId": "1654775476_G5Y9H9",
       "sessionLocation": {
        "https": null,
        "port": 49635
       },
       "widgetCreationCode": "session.visualize()"
      },
      "text/html": [
       "<img src=\"data:image/svg+xml;charset=utf8,%3C%3Fxml%20version%3D%221.0%22%20standalone%3D%22no%22%3F%3E%3Csvg%20xmlns%3D%22http%3A%2F%2Fwww.w3.org%2F2000%2Fsvg%22%20height%3D%22352%22%20width%3D%221168%22%3E%3CforeignObject%20width%3D%22100%25%22%20height%3D%22100%25%22%20x%3D%220%22%20y%3D%220%22%3E%3Cstyle%20xmlns%3D%22http%3A%2F%2Fwww.w3.org%2F1999%2Fxhtml%22%20type%3D%22text%2Fcss%22%3E*%2C%20%3A%3Abefore%2C%20%3A%3Aafter%20%7Bbox-sizing%3A%20unset%7D%0A.ant-root%20%5Bclass%5E%3D%22ant-%22%5D%2C%20.ant-root%20%5Bclass*%3D%22ant-%22%5D%2C%20.ant-root%20%5Bclass%5E%3D%22ant-%22%5D%20*%2C%20.ant-root%20%5Bclass*%3D%22ant-%22%5D%20*%2C%20.ant-root%20%5Bclass%5E%3D%22ant-%22%5D%20%3A%3Abefore%2C%20.ant-root%20%5Bclass*%3D%22ant-%22%5D%20%3A%3Abefore%2C%20.ant-root%20%5Bclass%5E%3D%22ant-%22%5D%20%3A%3Aafter%2C%20.ant-root%20%5Bclass*%3D%22ant-%22%5D%20%3A%3Aafter%20%7Bbox-sizing%3A%20border-box%7D%0A.ant-root%20html%2C%20.ant-root%20%7Bwidth%3A%20100%25%3B%20height%3A%20100%25%7D%0A.ant-root%20*%2C%20.ant-root%20%3A%3Abefore%2C%20.ant-root%20%3A%3Aafter%20%7Bbox-sizing%3A%20border-box%7D%0A.ant-root%20%7Bmargin-top%3A%200px%3B%20margin-right%3A%200px%3B%20margin-bottom%3A%200px%3B%20margin-left%3A%200px%3B%20color%3A%20rgb(89%2C%2089%2C%2089)%3B%20font-size%3A%2012px%3B%20font-family%3A%20-apple-system%2C%20BlinkMacSystemFont%2C%20%22Segoe%20UI%22%2C%20Roboto%2C%20%22Helvetica%20Neue%22%2C%20Arial%2C%20%22Noto%20Sans%22%2C%20sans-serif%2C%20%22Apple%20Color%20Emoji%22%2C%20%22Segoe%20UI%20Emoji%22%2C%20%22Segoe%20UI%20Symbol%22%2C%20%22Noto%20Color%20Emoji%22%3B%20font-variant-ligatures%3A%20normal%3B%20font-variant-numeric%3A%20tabular-nums%3B%20font-variant-east-asian%3A%20normal%3B%20font-variant-caps%3A%20normal%3B%20line-height%3A%201.66667%3B%20background-color%3A%20rgb(255%2C%20255%2C%20255)%3B%20--antd-wave-shadow-color%3A%20%20%231890FF%3B%20--scroll-bar%3A%20%200%7D%0A.css-12ebr42-AWidget%20%7Bheight%3A%20100%25%7D%0A.css-10y4rp7-PivotTableSkeleton%20%7Bdisplay%3A%20flex%3B%20overflow-x%3A%20hidden%3B%20overflow-y%3A%20hidden%7D%0A.css-l9stdl-PivotTableSkeleton%20%7Bheight%3A%2028px%3B%20overflow-x%3A%20hidden%3B%20overflow-y%3A%20hidden%3B%20position%3A%20relative%3B%20width%3A%20120px%3B%20border-right-width%3A%202px%3B%20border-right-style%3A%20solid%3B%20border-right-color%3A%20rgb(233%2C%20233%2C%20233)%7D%0A.css-vlvbho-PivotTableSkeleton%20%7Bpadding-top%3A%204px%3B%20padding-right%3A%204px%3B%20padding-bottom%3A%203px%3B%20padding-left%3A%204px%7D%0A.css-wd4jqf-PivotTableSkeleton%20%7Bheight%3A%20196px%3B%20position%3A%20relative%3B%20border-top-width%3A%202px%3B%20border-top-style%3A%20solid%3B%20border-top-color%3A%20rgb(233%2C%20233%2C%20233)%3B%20border-right-width%3A%202px%3B%20border-right-style%3A%20solid%3B%20border-right-color%3A%20rgb(233%2C%20233%2C%20233)%7D%0A.css-xod72v-PivotTableSkeleton%20%7Bfont-size%3A%2012px%3B%20height%3A%2028px%3B%20left%3A%200px%3B%20padding-top%3A%204px%3B%20padding-right%3A%204px%3B%20padding-bottom%3A%203px%3B%20padding-left%3A%204px%3B%20position%3A%20absolute%3B%20top%3A%200px%3B%20width%3A%20120px%3B%20overflow-x%3A%20hidden%3B%20overflow-y%3A%20hidden%3B%20background-color%3A%20transparent%3B%20border-right-width%3A%202px%3B%20border-right-style%3A%20solid%3B%20border-right-color%3A%20rgb(233%2C%20233%2C%20233)%7D%0A.css-102j3jy-PivotTableSkeleton%20%7Bfont-size%3A%2012px%3B%20height%3A%2028px%3B%20left%3A%200px%3B%20padding-top%3A%204px%3B%20padding-right%3A%204px%3B%20padding-bottom%3A%203px%3B%20padding-left%3A%204px%3B%20position%3A%20absolute%3B%20top%3A%2028px%3B%20width%3A%20120px%3B%20overflow-x%3A%20hidden%3B%20overflow-y%3A%20hidden%3B%20background-color%3A%20rgb(250%2C%20250%2C%20250)%3B%20border-right-width%3A%202px%3B%20border-right-style%3A%20solid%3B%20border-right-color%3A%20rgb(233%2C%20233%2C%20233)%7D%0A.css-10lsmvy-PivotTableSkeleton%20%7Bfont-size%3A%2012px%3B%20height%3A%2028px%3B%20left%3A%200px%3B%20padding-top%3A%204px%3B%20padding-right%3A%204px%3B%20padding-bottom%3A%203px%3B%20padding-left%3A%204px%3B%20position%3A%20absolute%3B%20top%3A%2056px%3B%20width%3A%20120px%3B%20overflow-x%3A%20hidden%3B%20overflow-y%3A%20hidden%3B%20background-color%3A%20transparent%3B%20border-right-width%3A%202px%3B%20border-right-style%3A%20solid%3B%20border-right-color%3A%20rgb(233%2C%20233%2C%20233)%7D%0A.css-8bb9d0-PivotTableSkeleton%20%7Bfont-size%3A%2012px%3B%20height%3A%2028px%3B%20left%3A%200px%3B%20padding-top%3A%204px%3B%20padding-right%3A%204px%3B%20padding-bottom%3A%203px%3B%20padding-left%3A%204px%3B%20position%3A%20absolute%3B%20top%3A%2084px%3B%20width%3A%20120px%3B%20overflow-x%3A%20hidden%3B%20overflow-y%3A%20hidden%3B%20background-color%3A%20rgb(250%2C%20250%2C%20250)%3B%20border-right-width%3A%202px%3B%20border-right-style%3A%20solid%3B%20border-right-color%3A%20rgb(233%2C%20233%2C%20233)%7D%0A.css-1j0ml73-PivotTableSkeleton%20%7Bfont-size%3A%2012px%3B%20height%3A%2028px%3B%20left%3A%200px%3B%20padding-top%3A%204px%3B%20padding-right%3A%204px%3B%20padding-bottom%3A%203px%3B%20padding-left%3A%204px%3B%20position%3A%20absolute%3B%20top%3A%20112px%3B%20width%3A%20120px%3B%20overflow-x%3A%20hidden%3B%20overflow-y%3A%20hidden%3B%20background-color%3A%20transparent%3B%20border-right-width%3A%202px%3B%20border-right-style%3A%20solid%3B%20border-right-color%3A%20rgb(233%2C%20233%2C%20233)%7D%0A.css-hlc0en-PivotTableSkeleton%20%7Bfont-size%3A%2012px%3B%20height%3A%2028px%3B%20left%3A%200px%3B%20padding-top%3A%204px%3B%20padding-right%3A%204px%3B%20padding-bottom%3A%203px%3B%20padding-left%3A%204px%3B%20position%3A%20absolute%3B%20top%3A%20140px%3B%20width%3A%20120px%3B%20overflow-x%3A%20hidden%3B%20overflow-y%3A%20hidden%3B%20background-color%3A%20rgb(250%2C%20250%2C%20250)%3B%20border-right-width%3A%202px%3B%20border-right-style%3A%20solid%3B%20border-right-color%3A%20rgb(233%2C%20233%2C%20233)%7D%0A.css-1ldkvja-PivotTableSkeleton%20%7Bfont-size%3A%2012px%3B%20height%3A%2028px%3B%20left%3A%200px%3B%20padding-top%3A%204px%3B%20padding-right%3A%204px%3B%20padding-bottom%3A%203px%3B%20padding-left%3A%204px%3B%20position%3A%20absolute%3B%20top%3A%20168px%3B%20width%3A%20120px%3B%20overflow-x%3A%20hidden%3B%20overflow-y%3A%20hidden%3B%20background-color%3A%20transparent%3B%20border-right-width%3A%202px%3B%20border-right-style%3A%20solid%3B%20border-right-color%3A%20rgb(233%2C%20233%2C%20233)%7D%0A.css-1t96e2l-PivotTableSkeleton%20%7Bheight%3A%2028px%7D%0A.css-1edqi56-PivotTableSkeleton%20%7Bfont-size%3A%2012px%3B%20height%3A%2028px%3B%20left%3A%200px%3B%20padding-top%3A%204px%3B%20padding-right%3A%204px%3B%20padding-bottom%3A%203px%3B%20padding-left%3A%204px%3B%20position%3A%20absolute%3B%20top%3A%200px%3B%20width%3A%20120px%3B%20overflow-x%3A%20hidden%3B%20overflow-y%3A%20hidden%3B%20font-weight%3A%20600%7D%0A.css-1axe9lj-PivotTableSkeleton%20%7Bfont-size%3A%2012px%3B%20height%3A%2028px%3B%20left%3A%20120px%3B%20padding-top%3A%204px%3B%20padding-right%3A%204px%3B%20padding-bottom%3A%203px%3B%20padding-left%3A%204px%3B%20position%3A%20absolute%3B%20top%3A%200px%3B%20width%3A%20120px%3B%20overflow-x%3A%20hidden%3B%20overflow-y%3A%20hidden%3B%20font-weight%3A%20600%7D%0A.css-acwxn9-PivotTableSkeleton%20%7Bheight%3A%20196px%3B%20position%3A%20relative%3B%20width%3A%20360px%3B%20border-top-width%3A%202px%3B%20border-top-style%3A%20solid%3B%20border-top-color%3A%20rgb(233%2C%20233%2C%20233)%7D%0A.css-17630mm-PivotTableSkeleton%20%7Bfont-size%3A%2012px%3B%20height%3A%2028px%3B%20left%3A%200px%3B%20padding-top%3A%204px%3B%20padding-right%3A%204px%3B%20padding-bottom%3A%203px%3B%20padding-left%3A%204px%3B%20position%3A%20absolute%3B%20top%3A%200px%3B%20width%3A%20120px%3B%20text-align%3A%20right%3B%20background-color%3A%20transparent%3B%20border-right-width%3A%201px%3B%20border-right-style%3A%20solid%3B%20border-right-color%3A%20rgb(233%2C%20233%2C%20233)%7D%0A.css-pybx3g-PivotTableSkeleton%20%7Bfont-size%3A%2012px%3B%20height%3A%2028px%3B%20left%3A%20120px%3B%20padding-top%3A%204px%3B%20padding-right%3A%204px%3B%20padding-bottom%3A%203px%3B%20padding-left%3A%204px%3B%20position%3A%20absolute%3B%20top%3A%200px%3B%20width%3A%20120px%3B%20text-align%3A%20right%3B%20background-color%3A%20transparent%3B%20border-right-width%3A%201px%3B%20border-right-style%3A%20solid%3B%20border-right-color%3A%20rgb(233%2C%20233%2C%20233)%7D%0A.css-2tdf63-PivotTableSkeleton%20%7Bfont-size%3A%2012px%3B%20height%3A%2028px%3B%20left%3A%20240px%3B%20padding-top%3A%204px%3B%20padding-right%3A%204px%3B%20padding-bottom%3A%203px%3B%20padding-left%3A%204px%3B%20position%3A%20absolute%3B%20top%3A%200px%3B%20width%3A%20120px%3B%20text-align%3A%20right%3B%20background-color%3A%20transparent%3B%20border-right-width%3A%201px%3B%20border-right-style%3A%20solid%3B%20border-right-color%3A%20rgb(233%2C%20233%2C%20233)%7D%0A.css-2b6qvh-PivotTableSkeleton%20%7Bfont-size%3A%2012px%3B%20height%3A%2028px%3B%20left%3A%200px%3B%20padding-top%3A%204px%3B%20padding-right%3A%204px%3B%20padding-bottom%3A%203px%3B%20padding-left%3A%204px%3B%20position%3A%20absolute%3B%20top%3A%2028px%3B%20width%3A%20120px%3B%20text-align%3A%20right%3B%20background-color%3A%20rgb(250%2C%20250%2C%20250)%3B%20border-right-width%3A%201px%3B%20border-right-style%3A%20solid%3B%20border-right-color%3A%20rgb(233%2C%20233%2C%20233)%7D%0A.css-1u7fez1-PivotTableSkeleton%20%7Bfont-size%3A%2012px%3B%20height%3A%2028px%3B%20left%3A%20120px%3B%20padding-top%3A%204px%3B%20padding-right%3A%204px%3B%20padding-bottom%3A%203px%3B%20padding-left%3A%204px%3B%20position%3A%20absolute%3B%20top%3A%2028px%3B%20width%3A%20120px%3B%20text-align%3A%20right%3B%20background-color%3A%20rgb(250%2C%20250%2C%20250)%3B%20border-right-width%3A%201px%3B%20border-right-style%3A%20solid%3B%20border-right-color%3A%20rgb(233%2C%20233%2C%20233)%7D%0A.css-15g1t0-PivotTableSkeleton%20%7Bfont-size%3A%2012px%3B%20height%3A%2028px%3B%20left%3A%20240px%3B%20padding-top%3A%204px%3B%20padding-right%3A%204px%3B%20padding-bottom%3A%203px%3B%20padding-left%3A%204px%3B%20position%3A%20absolute%3B%20top%3A%2028px%3B%20width%3A%20120px%3B%20text-align%3A%20right%3B%20background-color%3A%20rgb(250%2C%20250%2C%20250)%3B%20border-right-width%3A%201px%3B%20border-right-style%3A%20solid%3B%20border-right-color%3A%20rgb(233%2C%20233%2C%20233)%7D%0A.css-1vah17m-PivotTableSkeleton%20%7Bfont-size%3A%2012px%3B%20height%3A%2028px%3B%20left%3A%200px%3B%20padding-top%3A%204px%3B%20padding-right%3A%204px%3B%20padding-bottom%3A%203px%3B%20padding-left%3A%204px%3B%20position%3A%20absolute%3B%20top%3A%2056px%3B%20width%3A%20120px%3B%20text-align%3A%20right%3B%20background-color%3A%20transparent%3B%20border-right-width%3A%201px%3B%20border-right-style%3A%20solid%3B%20border-right-color%3A%20rgb(233%2C%20233%2C%20233)%7D%0A.css-98oxix-PivotTableSkeleton%20%7Bfont-size%3A%2012px%3B%20height%3A%2028px%3B%20left%3A%20120px%3B%20padding-top%3A%204px%3B%20padding-right%3A%204px%3B%20padding-bottom%3A%203px%3B%20padding-left%3A%204px%3B%20position%3A%20absolute%3B%20top%3A%2056px%3B%20width%3A%20120px%3B%20text-align%3A%20right%3B%20background-color%3A%20transparent%3B%20border-right-width%3A%201px%3B%20border-right-style%3A%20solid%3B%20border-right-color%3A%20rgb(233%2C%20233%2C%20233)%7D%0A.css-jbwpya-PivotTableSkeleton%20%7Bfont-size%3A%2012px%3B%20height%3A%2028px%3B%20left%3A%20240px%3B%20padding-top%3A%204px%3B%20padding-right%3A%204px%3B%20padding-bottom%3A%203px%3B%20padding-left%3A%204px%3B%20position%3A%20absolute%3B%20top%3A%2056px%3B%20width%3A%20120px%3B%20text-align%3A%20right%3B%20background-color%3A%20transparent%3B%20border-right-width%3A%201px%3B%20border-right-style%3A%20solid%3B%20border-right-color%3A%20rgb(233%2C%20233%2C%20233)%7D%0A.css-1jofmop-PivotTableSkeleton%20%7Bfont-size%3A%2012px%3B%20height%3A%2028px%3B%20left%3A%200px%3B%20padding-top%3A%204px%3B%20padding-right%3A%204px%3B%20padding-bottom%3A%203px%3B%20padding-left%3A%204px%3B%20position%3A%20absolute%3B%20top%3A%2084px%3B%20width%3A%20120px%3B%20text-align%3A%20right%3B%20background-color%3A%20rgb(250%2C%20250%2C%20250)%3B%20border-right-width%3A%201px%3B%20border-right-style%3A%20solid%3B%20border-right-color%3A%20rgb(233%2C%20233%2C%20233)%7D%0A.css-ydun0r-PivotTableSkeleton%20%7Bfont-size%3A%2012px%3B%20height%3A%2028px%3B%20left%3A%20120px%3B%20padding-top%3A%204px%3B%20padding-right%3A%204px%3B%20padding-bottom%3A%203px%3B%20padding-left%3A%204px%3B%20position%3A%20absolute%3B%20top%3A%2084px%3B%20width%3A%20120px%3B%20text-align%3A%20right%3B%20background-color%3A%20rgb(250%2C%20250%2C%20250)%3B%20border-right-width%3A%201px%3B%20border-right-style%3A%20solid%3B%20border-right-color%3A%20rgb(233%2C%20233%2C%20233)%7D%0A.css-470xm9-PivotTableSkeleton%20%7Bfont-size%3A%2012px%3B%20height%3A%2028px%3B%20left%3A%20240px%3B%20padding-top%3A%204px%3B%20padding-right%3A%204px%3B%20padding-bottom%3A%203px%3B%20padding-left%3A%204px%3B%20position%3A%20absolute%3B%20top%3A%2084px%3B%20width%3A%20120px%3B%20text-align%3A%20right%3B%20background-color%3A%20rgb(250%2C%20250%2C%20250)%3B%20border-right-width%3A%201px%3B%20border-right-style%3A%20solid%3B%20border-right-color%3A%20rgb(233%2C%20233%2C%20233)%7D%0A.css-vz0ocg-PivotTableSkeleton%20%7Bfont-size%3A%2012px%3B%20height%3A%2028px%3B%20left%3A%200px%3B%20padding-top%3A%204px%3B%20padding-right%3A%204px%3B%20padding-bottom%3A%203px%3B%20padding-left%3A%204px%3B%20position%3A%20absolute%3B%20top%3A%20112px%3B%20width%3A%20120px%3B%20text-align%3A%20right%3B%20background-color%3A%20transparent%3B%20border-right-width%3A%201px%3B%20border-right-style%3A%20solid%3B%20border-right-color%3A%20rgb(233%2C%20233%2C%20233)%7D%0A.css-38isqx-PivotTableSkeleton%20%7Bfont-size%3A%2012px%3B%20height%3A%2028px%3B%20left%3A%20120px%3B%20padding-top%3A%204px%3B%20padding-right%3A%204px%3B%20padding-bottom%3A%203px%3B%20padding-left%3A%204px%3B%20position%3A%20absolute%3B%20top%3A%20112px%3B%20width%3A%20120px%3B%20text-align%3A%20right%3B%20background-color%3A%20transparent%3B%20border-right-width%3A%201px%3B%20border-right-style%3A%20solid%3B%20border-right-color%3A%20rgb(233%2C%20233%2C%20233)%7D%0A.css-1dz7td4-PivotTableSkeleton%20%7Bfont-size%3A%2012px%3B%20height%3A%2028px%3B%20left%3A%20240px%3B%20padding-top%3A%204px%3B%20padding-right%3A%204px%3B%20padding-bottom%3A%203px%3B%20padding-left%3A%204px%3B%20position%3A%20absolute%3B%20top%3A%20112px%3B%20width%3A%20120px%3B%20text-align%3A%20right%3B%20background-color%3A%20transparent%3B%20border-right-width%3A%201px%3B%20border-right-style%3A%20solid%3B%20border-right-color%3A%20rgb(233%2C%20233%2C%20233)%7D%0A.css-muqvat-PivotTableSkeleton%20%7Bfont-size%3A%2012px%3B%20height%3A%2028px%3B%20left%3A%200px%3B%20padding-top%3A%204px%3B%20padding-right%3A%204px%3B%20padding-bottom%3A%203px%3B%20padding-left%3A%204px%3B%20position%3A%20absolute%3B%20top%3A%20140px%3B%20width%3A%20120px%3B%20text-align%3A%20right%3B%20background-color%3A%20rgb(250%2C%20250%2C%20250)%3B%20border-right-width%3A%201px%3B%20border-right-style%3A%20solid%3B%20border-right-color%3A%20rgb(233%2C%20233%2C%20233)%7D%0A.css-n2g4so-PivotTableSkeleton%20%7Bfont-size%3A%2012px%3B%20height%3A%2028px%3B%20left%3A%20120px%3B%20padding-top%3A%204px%3B%20padding-right%3A%204px%3B%20padding-bottom%3A%203px%3B%20padding-left%3A%204px%3B%20position%3A%20absolute%3B%20top%3A%20140px%3B%20width%3A%20120px%3B%20text-align%3A%20right%3B%20background-color%3A%20rgb(250%2C%20250%2C%20250)%3B%20border-right-width%3A%201px%3B%20border-right-style%3A%20solid%3B%20border-right-color%3A%20rgb(233%2C%20233%2C%20233)%7D%0A.css-1twvtro-PivotTableSkeleton%20%7Bfont-size%3A%2012px%3B%20height%3A%2028px%3B%20left%3A%20240px%3B%20padding-top%3A%204px%3B%20padding-right%3A%204px%3B%20padding-bottom%3A%203px%3B%20padding-left%3A%204px%3B%20position%3A%20absolute%3B%20top%3A%20140px%3B%20width%3A%20120px%3B%20text-align%3A%20right%3B%20background-color%3A%20rgb(250%2C%20250%2C%20250)%3B%20border-right-width%3A%201px%3B%20border-right-style%3A%20solid%3B%20border-right-color%3A%20rgb(233%2C%20233%2C%20233)%7D%0A.css-xut3is-PivotTableSkeleton%20%7Bfont-size%3A%2012px%3B%20height%3A%2028px%3B%20left%3A%200px%3B%20padding-top%3A%204px%3B%20padding-right%3A%204px%3B%20padding-bottom%3A%203px%3B%20padding-left%3A%204px%3B%20position%3A%20absolute%3B%20top%3A%20168px%3B%20width%3A%20120px%3B%20text-align%3A%20right%3B%20background-color%3A%20transparent%3B%20border-right-width%3A%201px%3B%20border-right-style%3A%20solid%3B%20border-right-color%3A%20rgb(233%2C%20233%2C%20233)%7D%0A.css-qzbqn9-PivotTableSkeleton%20%7Bfont-size%3A%2012px%3B%20height%3A%2028px%3B%20left%3A%20120px%3B%20padding-top%3A%204px%3B%20padding-right%3A%204px%3B%20padding-bottom%3A%203px%3B%20padding-left%3A%204px%3B%20position%3A%20absolute%3B%20top%3A%20168px%3B%20width%3A%20120px%3B%20text-align%3A%20right%3B%20background-color%3A%20transparent%3B%20border-right-width%3A%201px%3B%20border-right-style%3A%20solid%3B%20border-right-color%3A%20rgb(233%2C%20233%2C%20233)%7D%0A.css-4iy435-PivotTableSkeleton%20%7Bfont-size%3A%2012px%3B%20height%3A%2028px%3B%20left%3A%20240px%3B%20padding-top%3A%204px%3B%20padding-right%3A%204px%3B%20padding-bottom%3A%203px%3B%20padding-left%3A%204px%3B%20position%3A%20absolute%3B%20top%3A%20168px%3B%20width%3A%20120px%3B%20text-align%3A%20right%3B%20background-color%3A%20transparent%3B%20border-right-width%3A%201px%3B%20border-right-style%3A%20solid%3B%20border-right-color%3A%20rgb(233%2C%20233%2C%20233)%7D%0A*%20%7B-ms-overflow-style%3A%20none%3B%20scrollbar-width%3A%20none%7D%0A*%3A%3A-webkit-scrollbar%20%7Bdisplay%3A%20none%7D%0A.atoti-hidden-in-snapshot%20%7Bdisplay%3A%20none%7D%3C%2Fstyle%3E%3Cdiv%20xmlns%3D%22http%3A%2F%2Fwww.w3.org%2F1999%2Fxhtml%22%20style%3D%22height%3A%20352px%3B%20width%3A%201168px%3B%22%3E%3Cdiv%20class%3D%22ant-root%20css-0%22%3E%3Cdiv%20class%3D%22ant-dropdown-trigger%20css-12ebr42-AWidget%22%3E%3Cdiv%20data-testid%3D%22pivot-table-skeleton%22%20class%3D%22css-10oheb9-PivotTableSkeleton%22%3E%3Cdiv%20class%3D%22css-10y4rp7-PivotTableSkeleton%22%3E%3Cdiv%3E%3Cdiv%20class%3D%22css-l9stdl-PivotTableSkeleton%22%3E%3Cdiv%20class%3D%22css-vlvbho-PivotTableSkeleton%22%3E%3C%2Fdiv%3E%3C%2Fdiv%3E%3Cdiv%20class%3D%22css-wd4jqf-PivotTableSkeleton%22%3E%3Cdiv%20class%3D%22css-xod72v-PivotTableSkeleton%22%3E%3C%2Fdiv%3E%3Cdiv%20class%3D%22css-102j3jy-PivotTableSkeleton%22%3E%3C%2Fdiv%3E%3Cdiv%20class%3D%22css-10lsmvy-PivotTableSkeleton%22%3E%3C%2Fdiv%3E%3Cdiv%20class%3D%22css-8bb9d0-PivotTableSkeleton%22%3E%3C%2Fdiv%3E%3Cdiv%20class%3D%22css-1j0ml73-PivotTableSkeleton%22%3E%3C%2Fdiv%3E%3Cdiv%20class%3D%22css-hlc0en-PivotTableSkeleton%22%3E%3C%2Fdiv%3E%3Cdiv%20class%3D%22css-1ldkvja-PivotTableSkeleton%22%3E%3C%2Fdiv%3E%3C%2Fdiv%3E%3C%2Fdiv%3E%3Cdiv%3E%3Cdiv%20class%3D%22css-1t96e2l-PivotTableSkeleton%22%3E%3Cdiv%20class%3D%22css-1edqi56-PivotTableSkeleton%22%3E%3C%2Fdiv%3E%3Cdiv%20class%3D%22css-1axe9lj-PivotTableSkeleton%22%3E%3C%2Fdiv%3E%3C%2Fdiv%3E%3Cdiv%20class%3D%22css-acwxn9-PivotTableSkeleton%22%3E%3Cdiv%20class%3D%22css-17630mm-PivotTableSkeleton%22%3E%3C%2Fdiv%3E%3Cdiv%20class%3D%22css-pybx3g-PivotTableSkeleton%22%3E%3C%2Fdiv%3E%3Cdiv%20class%3D%22css-2tdf63-PivotTableSkeleton%22%3E%3C%2Fdiv%3E%3Cdiv%20class%3D%22css-2b6qvh-PivotTableSkeleton%22%3E%3C%2Fdiv%3E%3Cdiv%20class%3D%22css-1u7fez1-PivotTableSkeleton%22%3E%3C%2Fdiv%3E%3Cdiv%20class%3D%22css-15g1t0-PivotTableSkeleton%22%3E%3C%2Fdiv%3E%3Cdiv%20class%3D%22css-1vah17m-PivotTableSkeleton%22%3E%3C%2Fdiv%3E%3Cdiv%20class%3D%22css-98oxix-PivotTableSkeleton%22%3E%3C%2Fdiv%3E%3Cdiv%20class%3D%22css-jbwpya-PivotTableSkeleton%22%3E%3C%2Fdiv%3E%3Cdiv%20class%3D%22css-1jofmop-PivotTableSkeleton%22%3E%3C%2Fdiv%3E%3Cdiv%20class%3D%22css-ydun0r-PivotTableSkeleton%22%3E%3C%2Fdiv%3E%3Cdiv%20class%3D%22css-470xm9-PivotTableSkeleton%22%3E%3C%2Fdiv%3E%3Cdiv%20class%3D%22css-vz0ocg-PivotTableSkeleton%22%3E%3C%2Fdiv%3E%3Cdiv%20class%3D%22css-38isqx-PivotTableSkeleton%22%3E%3C%2Fdiv%3E%3Cdiv%20class%3D%22css-1dz7td4-PivotTableSkeleton%22%3E%3C%2Fdiv%3E%3Cdiv%20class%3D%22css-muqvat-PivotTableSkeleton%22%3E%3C%2Fdiv%3E%3Cdiv%20class%3D%22css-n2g4so-PivotTableSkeleton%22%3E%3C%2Fdiv%3E%3Cdiv%20class%3D%22css-1twvtro-PivotTableSkeleton%22%3E%3C%2Fdiv%3E%3Cdiv%20class%3D%22css-xut3is-PivotTableSkeleton%22%3E%3C%2Fdiv%3E%3Cdiv%20class%3D%22css-qzbqn9-PivotTableSkeleton%22%3E%3C%2Fdiv%3E%3Cdiv%20class%3D%22css-4iy435-PivotTableSkeleton%22%3E%3C%2Fdiv%3E%3C%2Fdiv%3E%3C%2Fdiv%3E%3C%2Fdiv%3E%3C%2Fdiv%3E%3C%2Fdiv%3E%3C%2Fdiv%3E%3C%2Fdiv%3E%3C%2FforeignObject%3E%3C%2Fsvg%3E\">"
      ],
      "text/plain": [
       "Open the notebook in JupyterLab with the atoti extension enabled to build this widget."
      ]
     },
     "metadata": {},
     "output_type": "display_data"
    }
   ],
   "source": [
    "session.visualize()"
   ]
  },
  {
   "cell_type": "code",
   "execution_count": 25,
   "id": "b3f88873-7b76-4138-a613-c6367007bd04",
   "metadata": {},
   "outputs": [],
   "source": [
    "m[\"Price.Mean\"] = tt.agg.mean(tab_sales[\"Unit price\"])"
   ]
  },
  {
   "cell_type": "code",
   "execution_count": 26,
   "id": "df6c6e22-a85b-4e59-900e-1a773a06bab9",
   "metadata": {},
   "outputs": [
    {
     "data": {
      "application/json": {
       "Price.Mean": {
        "formatter": "DOUBLE[#,###.00]"
       },
       "contributors.COUNT": {
        "formatter": "INT[#,###]"
       }
      },
      "text/html": [
       "<ul>\n",
       "<li>Measures\n",
       "  <ul>\n",
       "  <li>Price.Mean\n",
       "    <ul>\n",
       "    <li>formatter: DOUBLE[#,###.00]</li>\n",
       "    </ul>\n",
       "  </li>\n",
       "  <li>contributors.COUNT\n",
       "    <ul>\n",
       "    <li>formatter: INT[#,###]</li>\n",
       "    </ul>\n",
       "  </li>\n",
       "  </ul>\n",
       "</li>\n",
       "</ul>\n"
      ],
      "text/plain": [
       "Measures()"
      ]
     },
     "execution_count": 26,
     "metadata": {
      "application/json": {
       "expanded": false,
       "root": "Measures"
      }
     },
     "output_type": "execute_result"
    }
   ],
   "source": [
    "m"
   ]
  },
  {
   "cell_type": "code",
   "execution_count": 27,
   "id": "40617767-769f-462d-9f66-0feee6900226",
   "metadata": {},
   "outputs": [],
   "source": [
    "m[\"Price.Sum\"] = tt.agg.sum(tab_sales[\"Unit price\"])"
   ]
  },
  {
   "cell_type": "code",
   "execution_count": 28,
   "id": "b5c4b282-6251-4821-a369-7c6e954dbc06",
   "metadata": {},
   "outputs": [
    {
     "data": {
      "application/json": {
       "Price.Mean": {
        "formatter": "DOUBLE[#,###.00]"
       },
       "Price.Sum": {
        "formatter": "DOUBLE[#,###.00]"
       },
       "contributors.COUNT": {
        "formatter": "INT[#,###]"
       }
      },
      "text/html": [
       "<ul>\n",
       "<li>Measures\n",
       "  <ul>\n",
       "  <li>Price.Mean\n",
       "    <ul>\n",
       "    <li>formatter: DOUBLE[#,###.00]</li>\n",
       "    </ul>\n",
       "  </li>\n",
       "  <li>Price.Sum\n",
       "    <ul>\n",
       "    <li>formatter: DOUBLE[#,###.00]</li>\n",
       "    </ul>\n",
       "  </li>\n",
       "  <li>contributors.COUNT\n",
       "    <ul>\n",
       "    <li>formatter: INT[#,###]</li>\n",
       "    </ul>\n",
       "  </li>\n",
       "  </ul>\n",
       "</li>\n",
       "</ul>\n"
      ],
      "text/plain": [
       "Measures()"
      ]
     },
     "execution_count": 28,
     "metadata": {
      "application/json": {
       "expanded": false,
       "root": "Measures"
      }
     },
     "output_type": "execute_result"
    }
   ],
   "source": [
    "m"
   ]
  },
  {
   "cell_type": "code",
   "execution_count": 29,
   "id": "0a63e848-54bf-4a8d-b764-450e8d524324",
   "metadata": {},
   "outputs": [],
   "source": [
    "m[\"Price.Std\"] = tt.agg.std(tab_sales[\"Unit price\"])"
   ]
  },
  {
   "cell_type": "code",
   "execution_count": 30,
   "id": "772c575e-ac13-4391-8985-196616ccb3ab",
   "metadata": {},
   "outputs": [
    {
     "data": {
      "application/json": {
       "Price.Mean": {
        "formatter": "DOUBLE[#,###.00]"
       },
       "Price.Std": {
        "formatter": "DOUBLE[#,###.00]"
       },
       "Price.Sum": {
        "formatter": "DOUBLE[#,###.00]"
       },
       "contributors.COUNT": {
        "formatter": "INT[#,###]"
       }
      },
      "text/html": [
       "<ul>\n",
       "<li>Measures\n",
       "  <ul>\n",
       "  <li>Price.Mean\n",
       "    <ul>\n",
       "    <li>formatter: DOUBLE[#,###.00]</li>\n",
       "    </ul>\n",
       "  </li>\n",
       "  <li>Price.Std\n",
       "    <ul>\n",
       "    <li>formatter: DOUBLE[#,###.00]</li>\n",
       "    </ul>\n",
       "  </li>\n",
       "  <li>Price.Sum\n",
       "    <ul>\n",
       "    <li>formatter: DOUBLE[#,###.00]</li>\n",
       "    </ul>\n",
       "  </li>\n",
       "  <li>contributors.COUNT\n",
       "    <ul>\n",
       "    <li>formatter: INT[#,###]</li>\n",
       "    </ul>\n",
       "  </li>\n",
       "  </ul>\n",
       "</li>\n",
       "</ul>\n"
      ],
      "text/plain": [
       "Measures()"
      ]
     },
     "execution_count": 30,
     "metadata": {
      "application/json": {
       "expanded": false,
       "root": "Measures"
      }
     },
     "output_type": "execute_result"
    }
   ],
   "source": [
    "m"
   ]
  },
  {
   "cell_type": "code",
   "execution_count": 31,
   "id": "87bbce04-e459-487f-ba8e-c7bd5ca801bd",
   "metadata": {},
   "outputs": [
    {
     "data": {
      "application/vnd.atoti.widget.v0+json": {
       "name": null,
       "sessionId": "1651825885_XY3KBX",
       "sessionLocation": {
        "https": null,
        "port": 55460
       },
       "widgetCreationCode": "session.visualize()"
      },
      "text/html": [
       "<img src=\"data:image/svg+xml;charset=utf8,%3C%3Fxml%20version%3D%221.0%22%20standalone%3D%22no%22%3F%3E%3Csvg%20xmlns%3D%22http%3A%2F%2Fwww.w3.org%2F2000%2Fsvg%22%20height%3D%22352%22%20width%3D%221169%22%3E%3CforeignObject%20width%3D%22100%25%22%20height%3D%22100%25%22%20x%3D%220%22%20y%3D%220%22%3E%3Cstyle%20xmlns%3D%22http%3A%2F%2Fwww.w3.org%2F1999%2Fxhtml%22%20type%3D%22text%2Fcss%22%3E*%2C%20%3A%3Abefore%2C%20%3A%3Aafter%20%7Bbox-sizing%3A%20unset%7D%0A.ant-root%20%5Bclass%5E%3D%22ant-%22%5D%2C%20.ant-root%20%5Bclass*%3D%22ant-%22%5D%2C%20.ant-root%20%5Bclass%5E%3D%22ant-%22%5D%20*%2C%20.ant-root%20%5Bclass*%3D%22ant-%22%5D%20*%2C%20.ant-root%20%5Bclass%5E%3D%22ant-%22%5D%20%3A%3Abefore%2C%20.ant-root%20%5Bclass*%3D%22ant-%22%5D%20%3A%3Abefore%2C%20.ant-root%20%5Bclass%5E%3D%22ant-%22%5D%20%3A%3Aafter%2C%20.ant-root%20%5Bclass*%3D%22ant-%22%5D%20%3A%3Aafter%20%7Bbox-sizing%3A%20border-box%7D%0A.ant-root%20html%2C%20.ant-root%20%7Bwidth%3A%20100%25%3B%20height%3A%20100%25%7D%0A.ant-root%20*%2C%20.ant-root%20%3A%3Abefore%2C%20.ant-root%20%3A%3Aafter%20%7Bbox-sizing%3A%20border-box%7D%0A.ant-root%20%7Bmargin-top%3A%200px%3B%20margin-right%3A%200px%3B%20margin-bottom%3A%200px%3B%20margin-left%3A%200px%3B%20color%3A%20rgb(89%2C%2089%2C%2089)%3B%20font-size%3A%2012px%3B%20font-family%3A%20-apple-system%2C%20BlinkMacSystemFont%2C%20%22Segoe%20UI%22%2C%20Roboto%2C%20%22Helvetica%20Neue%22%2C%20Arial%2C%20%22Noto%20Sans%22%2C%20sans-serif%2C%20%22Apple%20Color%20Emoji%22%2C%20%22Segoe%20UI%20Emoji%22%2C%20%22Segoe%20UI%20Symbol%22%2C%20%22Noto%20Color%20Emoji%22%3B%20font-variant-ligatures%3A%20normal%3B%20font-variant-numeric%3A%20tabular-nums%3B%20font-variant-east-asian%3A%20normal%3B%20font-variant-caps%3A%20normal%3B%20line-height%3A%201.66667%3B%20background-color%3A%20rgb(255%2C%20255%2C%20255)%3B%20--antd-wave-shadow-color%3A%20%20%231890FF%3B%20--scroll-bar%3A%20%200%7D%0A.css-12ebr42-AWidget%20%7Bheight%3A%20100%25%7D%0A.css-10y4rp7-PivotTableSkeleton%20%7Bdisplay%3A%20flex%3B%20overflow-x%3A%20hidden%3B%20overflow-y%3A%20hidden%7D%0A.css-l9stdl-PivotTableSkeleton%20%7Bheight%3A%2028px%3B%20overflow-x%3A%20hidden%3B%20overflow-y%3A%20hidden%3B%20position%3A%20relative%3B%20width%3A%20120px%3B%20border-right-width%3A%202px%3B%20border-right-style%3A%20solid%3B%20border-right-color%3A%20rgb(233%2C%20233%2C%20233)%7D%0A.css-vlvbho-PivotTableSkeleton%20%7Bpadding-top%3A%204px%3B%20padding-right%3A%204px%3B%20padding-bottom%3A%203px%3B%20padding-left%3A%204px%7D%0A.css-wd4jqf-PivotTableSkeleton%20%7Bheight%3A%20196px%3B%20position%3A%20relative%3B%20border-top-width%3A%202px%3B%20border-top-style%3A%20solid%3B%20border-top-color%3A%20rgb(233%2C%20233%2C%20233)%3B%20border-right-width%3A%202px%3B%20border-right-style%3A%20solid%3B%20border-right-color%3A%20rgb(233%2C%20233%2C%20233)%7D%0A.css-xod72v-PivotTableSkeleton%20%7Bfont-size%3A%2012px%3B%20height%3A%2028px%3B%20left%3A%200px%3B%20padding-top%3A%204px%3B%20padding-right%3A%204px%3B%20padding-bottom%3A%203px%3B%20padding-left%3A%204px%3B%20position%3A%20absolute%3B%20top%3A%200px%3B%20width%3A%20120px%3B%20overflow-x%3A%20hidden%3B%20overflow-y%3A%20hidden%3B%20background-color%3A%20transparent%3B%20border-right-width%3A%202px%3B%20border-right-style%3A%20solid%3B%20border-right-color%3A%20rgb(233%2C%20233%2C%20233)%7D%0A.css-102j3jy-PivotTableSkeleton%20%7Bfont-size%3A%2012px%3B%20height%3A%2028px%3B%20left%3A%200px%3B%20padding-top%3A%204px%3B%20padding-right%3A%204px%3B%20padding-bottom%3A%203px%3B%20padding-left%3A%204px%3B%20position%3A%20absolute%3B%20top%3A%2028px%3B%20width%3A%20120px%3B%20overflow-x%3A%20hidden%3B%20overflow-y%3A%20hidden%3B%20background-color%3A%20rgb(250%2C%20250%2C%20250)%3B%20border-right-width%3A%202px%3B%20border-right-style%3A%20solid%3B%20border-right-color%3A%20rgb(233%2C%20233%2C%20233)%7D%0A.css-10lsmvy-PivotTableSkeleton%20%7Bfont-size%3A%2012px%3B%20height%3A%2028px%3B%20left%3A%200px%3B%20padding-top%3A%204px%3B%20padding-right%3A%204px%3B%20padding-bottom%3A%203px%3B%20padding-left%3A%204px%3B%20position%3A%20absolute%3B%20top%3A%2056px%3B%20width%3A%20120px%3B%20overflow-x%3A%20hidden%3B%20overflow-y%3A%20hidden%3B%20background-color%3A%20transparent%3B%20border-right-width%3A%202px%3B%20border-right-style%3A%20solid%3B%20border-right-color%3A%20rgb(233%2C%20233%2C%20233)%7D%0A.css-8bb9d0-PivotTableSkeleton%20%7Bfont-size%3A%2012px%3B%20height%3A%2028px%3B%20left%3A%200px%3B%20padding-top%3A%204px%3B%20padding-right%3A%204px%3B%20padding-bottom%3A%203px%3B%20padding-left%3A%204px%3B%20position%3A%20absolute%3B%20top%3A%2084px%3B%20width%3A%20120px%3B%20overflow-x%3A%20hidden%3B%20overflow-y%3A%20hidden%3B%20background-color%3A%20rgb(250%2C%20250%2C%20250)%3B%20border-right-width%3A%202px%3B%20border-right-style%3A%20solid%3B%20border-right-color%3A%20rgb(233%2C%20233%2C%20233)%7D%0A.css-1j0ml73-PivotTableSkeleton%20%7Bfont-size%3A%2012px%3B%20height%3A%2028px%3B%20left%3A%200px%3B%20padding-top%3A%204px%3B%20padding-right%3A%204px%3B%20padding-bottom%3A%203px%3B%20padding-left%3A%204px%3B%20position%3A%20absolute%3B%20top%3A%20112px%3B%20width%3A%20120px%3B%20overflow-x%3A%20hidden%3B%20overflow-y%3A%20hidden%3B%20background-color%3A%20transparent%3B%20border-right-width%3A%202px%3B%20border-right-style%3A%20solid%3B%20border-right-color%3A%20rgb(233%2C%20233%2C%20233)%7D%0A.css-hlc0en-PivotTableSkeleton%20%7Bfont-size%3A%2012px%3B%20height%3A%2028px%3B%20left%3A%200px%3B%20padding-top%3A%204px%3B%20padding-right%3A%204px%3B%20padding-bottom%3A%203px%3B%20padding-left%3A%204px%3B%20position%3A%20absolute%3B%20top%3A%20140px%3B%20width%3A%20120px%3B%20overflow-x%3A%20hidden%3B%20overflow-y%3A%20hidden%3B%20background-color%3A%20rgb(250%2C%20250%2C%20250)%3B%20border-right-width%3A%202px%3B%20border-right-style%3A%20solid%3B%20border-right-color%3A%20rgb(233%2C%20233%2C%20233)%7D%0A.css-1ldkvja-PivotTableSkeleton%20%7Bfont-size%3A%2012px%3B%20height%3A%2028px%3B%20left%3A%200px%3B%20padding-top%3A%204px%3B%20padding-right%3A%204px%3B%20padding-bottom%3A%203px%3B%20padding-left%3A%204px%3B%20position%3A%20absolute%3B%20top%3A%20168px%3B%20width%3A%20120px%3B%20overflow-x%3A%20hidden%3B%20overflow-y%3A%20hidden%3B%20background-color%3A%20transparent%3B%20border-right-width%3A%202px%3B%20border-right-style%3A%20solid%3B%20border-right-color%3A%20rgb(233%2C%20233%2C%20233)%7D%0A.css-1t96e2l-PivotTableSkeleton%20%7Bheight%3A%2028px%7D%0A.css-1edqi56-PivotTableSkeleton%20%7Bfont-size%3A%2012px%3B%20height%3A%2028px%3B%20left%3A%200px%3B%20padding-top%3A%204px%3B%20padding-right%3A%204px%3B%20padding-bottom%3A%203px%3B%20padding-left%3A%204px%3B%20position%3A%20absolute%3B%20top%3A%200px%3B%20width%3A%20120px%3B%20overflow-x%3A%20hidden%3B%20overflow-y%3A%20hidden%3B%20font-weight%3A%20600%7D%0A.css-1axe9lj-PivotTableSkeleton%20%7Bfont-size%3A%2012px%3B%20height%3A%2028px%3B%20left%3A%20120px%3B%20padding-top%3A%204px%3B%20padding-right%3A%204px%3B%20padding-bottom%3A%203px%3B%20padding-left%3A%204px%3B%20position%3A%20absolute%3B%20top%3A%200px%3B%20width%3A%20120px%3B%20overflow-x%3A%20hidden%3B%20overflow-y%3A%20hidden%3B%20font-weight%3A%20600%7D%0A.css-acwxn9-PivotTableSkeleton%20%7Bheight%3A%20196px%3B%20position%3A%20relative%3B%20width%3A%20360px%3B%20border-top-width%3A%202px%3B%20border-top-style%3A%20solid%3B%20border-top-color%3A%20rgb(233%2C%20233%2C%20233)%7D%0A.css-17630mm-PivotTableSkeleton%20%7Bfont-size%3A%2012px%3B%20height%3A%2028px%3B%20left%3A%200px%3B%20padding-top%3A%204px%3B%20padding-right%3A%204px%3B%20padding-bottom%3A%203px%3B%20padding-left%3A%204px%3B%20position%3A%20absolute%3B%20top%3A%200px%3B%20width%3A%20120px%3B%20text-align%3A%20right%3B%20background-color%3A%20transparent%3B%20border-right-width%3A%201px%3B%20border-right-style%3A%20solid%3B%20border-right-color%3A%20rgb(233%2C%20233%2C%20233)%7D%0A.css-pybx3g-PivotTableSkeleton%20%7Bfont-size%3A%2012px%3B%20height%3A%2028px%3B%20left%3A%20120px%3B%20padding-top%3A%204px%3B%20padding-right%3A%204px%3B%20padding-bottom%3A%203px%3B%20padding-left%3A%204px%3B%20position%3A%20absolute%3B%20top%3A%200px%3B%20width%3A%20120px%3B%20text-align%3A%20right%3B%20background-color%3A%20transparent%3B%20border-right-width%3A%201px%3B%20border-right-style%3A%20solid%3B%20border-right-color%3A%20rgb(233%2C%20233%2C%20233)%7D%0A.css-2tdf63-PivotTableSkeleton%20%7Bfont-size%3A%2012px%3B%20height%3A%2028px%3B%20left%3A%20240px%3B%20padding-top%3A%204px%3B%20padding-right%3A%204px%3B%20padding-bottom%3A%203px%3B%20padding-left%3A%204px%3B%20position%3A%20absolute%3B%20top%3A%200px%3B%20width%3A%20120px%3B%20text-align%3A%20right%3B%20background-color%3A%20transparent%3B%20border-right-width%3A%201px%3B%20border-right-style%3A%20solid%3B%20border-right-color%3A%20rgb(233%2C%20233%2C%20233)%7D%0A.css-2b6qvh-PivotTableSkeleton%20%7Bfont-size%3A%2012px%3B%20height%3A%2028px%3B%20left%3A%200px%3B%20padding-top%3A%204px%3B%20padding-right%3A%204px%3B%20padding-bottom%3A%203px%3B%20padding-left%3A%204px%3B%20position%3A%20absolute%3B%20top%3A%2028px%3B%20width%3A%20120px%3B%20text-align%3A%20right%3B%20background-color%3A%20rgb(250%2C%20250%2C%20250)%3B%20border-right-width%3A%201px%3B%20border-right-style%3A%20solid%3B%20border-right-color%3A%20rgb(233%2C%20233%2C%20233)%7D%0A.css-1u7fez1-PivotTableSkeleton%20%7Bfont-size%3A%2012px%3B%20height%3A%2028px%3B%20left%3A%20120px%3B%20padding-top%3A%204px%3B%20padding-right%3A%204px%3B%20padding-bottom%3A%203px%3B%20padding-left%3A%204px%3B%20position%3A%20absolute%3B%20top%3A%2028px%3B%20width%3A%20120px%3B%20text-align%3A%20right%3B%20background-color%3A%20rgb(250%2C%20250%2C%20250)%3B%20border-right-width%3A%201px%3B%20border-right-style%3A%20solid%3B%20border-right-color%3A%20rgb(233%2C%20233%2C%20233)%7D%0A.css-15g1t0-PivotTableSkeleton%20%7Bfont-size%3A%2012px%3B%20height%3A%2028px%3B%20left%3A%20240px%3B%20padding-top%3A%204px%3B%20padding-right%3A%204px%3B%20padding-bottom%3A%203px%3B%20padding-left%3A%204px%3B%20position%3A%20absolute%3B%20top%3A%2028px%3B%20width%3A%20120px%3B%20text-align%3A%20right%3B%20background-color%3A%20rgb(250%2C%20250%2C%20250)%3B%20border-right-width%3A%201px%3B%20border-right-style%3A%20solid%3B%20border-right-color%3A%20rgb(233%2C%20233%2C%20233)%7D%0A.css-1vah17m-PivotTableSkeleton%20%7Bfont-size%3A%2012px%3B%20height%3A%2028px%3B%20left%3A%200px%3B%20padding-top%3A%204px%3B%20padding-right%3A%204px%3B%20padding-bottom%3A%203px%3B%20padding-left%3A%204px%3B%20position%3A%20absolute%3B%20top%3A%2056px%3B%20width%3A%20120px%3B%20text-align%3A%20right%3B%20background-color%3A%20transparent%3B%20border-right-width%3A%201px%3B%20border-right-style%3A%20solid%3B%20border-right-color%3A%20rgb(233%2C%20233%2C%20233)%7D%0A.css-98oxix-PivotTableSkeleton%20%7Bfont-size%3A%2012px%3B%20height%3A%2028px%3B%20left%3A%20120px%3B%20padding-top%3A%204px%3B%20padding-right%3A%204px%3B%20padding-bottom%3A%203px%3B%20padding-left%3A%204px%3B%20position%3A%20absolute%3B%20top%3A%2056px%3B%20width%3A%20120px%3B%20text-align%3A%20right%3B%20background-color%3A%20transparent%3B%20border-right-width%3A%201px%3B%20border-right-style%3A%20solid%3B%20border-right-color%3A%20rgb(233%2C%20233%2C%20233)%7D%0A.css-jbwpya-PivotTableSkeleton%20%7Bfont-size%3A%2012px%3B%20height%3A%2028px%3B%20left%3A%20240px%3B%20padding-top%3A%204px%3B%20padding-right%3A%204px%3B%20padding-bottom%3A%203px%3B%20padding-left%3A%204px%3B%20position%3A%20absolute%3B%20top%3A%2056px%3B%20width%3A%20120px%3B%20text-align%3A%20right%3B%20background-color%3A%20transparent%3B%20border-right-width%3A%201px%3B%20border-right-style%3A%20solid%3B%20border-right-color%3A%20rgb(233%2C%20233%2C%20233)%7D%0A.css-1jofmop-PivotTableSkeleton%20%7Bfont-size%3A%2012px%3B%20height%3A%2028px%3B%20left%3A%200px%3B%20padding-top%3A%204px%3B%20padding-right%3A%204px%3B%20padding-bottom%3A%203px%3B%20padding-left%3A%204px%3B%20position%3A%20absolute%3B%20top%3A%2084px%3B%20width%3A%20120px%3B%20text-align%3A%20right%3B%20background-color%3A%20rgb(250%2C%20250%2C%20250)%3B%20border-right-width%3A%201px%3B%20border-right-style%3A%20solid%3B%20border-right-color%3A%20rgb(233%2C%20233%2C%20233)%7D%0A.css-ydun0r-PivotTableSkeleton%20%7Bfont-size%3A%2012px%3B%20height%3A%2028px%3B%20left%3A%20120px%3B%20padding-top%3A%204px%3B%20padding-right%3A%204px%3B%20padding-bottom%3A%203px%3B%20padding-left%3A%204px%3B%20position%3A%20absolute%3B%20top%3A%2084px%3B%20width%3A%20120px%3B%20text-align%3A%20right%3B%20background-color%3A%20rgb(250%2C%20250%2C%20250)%3B%20border-right-width%3A%201px%3B%20border-right-style%3A%20solid%3B%20border-right-color%3A%20rgb(233%2C%20233%2C%20233)%7D%0A.css-470xm9-PivotTableSkeleton%20%7Bfont-size%3A%2012px%3B%20height%3A%2028px%3B%20left%3A%20240px%3B%20padding-top%3A%204px%3B%20padding-right%3A%204px%3B%20padding-bottom%3A%203px%3B%20padding-left%3A%204px%3B%20position%3A%20absolute%3B%20top%3A%2084px%3B%20width%3A%20120px%3B%20text-align%3A%20right%3B%20background-color%3A%20rgb(250%2C%20250%2C%20250)%3B%20border-right-width%3A%201px%3B%20border-right-style%3A%20solid%3B%20border-right-color%3A%20rgb(233%2C%20233%2C%20233)%7D%0A.css-vz0ocg-PivotTableSkeleton%20%7Bfont-size%3A%2012px%3B%20height%3A%2028px%3B%20left%3A%200px%3B%20padding-top%3A%204px%3B%20padding-right%3A%204px%3B%20padding-bottom%3A%203px%3B%20padding-left%3A%204px%3B%20position%3A%20absolute%3B%20top%3A%20112px%3B%20width%3A%20120px%3B%20text-align%3A%20right%3B%20background-color%3A%20transparent%3B%20border-right-width%3A%201px%3B%20border-right-style%3A%20solid%3B%20border-right-color%3A%20rgb(233%2C%20233%2C%20233)%7D%0A.css-38isqx-PivotTableSkeleton%20%7Bfont-size%3A%2012px%3B%20height%3A%2028px%3B%20left%3A%20120px%3B%20padding-top%3A%204px%3B%20padding-right%3A%204px%3B%20padding-bottom%3A%203px%3B%20padding-left%3A%204px%3B%20position%3A%20absolute%3B%20top%3A%20112px%3B%20width%3A%20120px%3B%20text-align%3A%20right%3B%20background-color%3A%20transparent%3B%20border-right-width%3A%201px%3B%20border-right-style%3A%20solid%3B%20border-right-color%3A%20rgb(233%2C%20233%2C%20233)%7D%0A.css-1dz7td4-PivotTableSkeleton%20%7Bfont-size%3A%2012px%3B%20height%3A%2028px%3B%20left%3A%20240px%3B%20padding-top%3A%204px%3B%20padding-right%3A%204px%3B%20padding-bottom%3A%203px%3B%20padding-left%3A%204px%3B%20position%3A%20absolute%3B%20top%3A%20112px%3B%20width%3A%20120px%3B%20text-align%3A%20right%3B%20background-color%3A%20transparent%3B%20border-right-width%3A%201px%3B%20border-right-style%3A%20solid%3B%20border-right-color%3A%20rgb(233%2C%20233%2C%20233)%7D%0A.css-muqvat-PivotTableSkeleton%20%7Bfont-size%3A%2012px%3B%20height%3A%2028px%3B%20left%3A%200px%3B%20padding-top%3A%204px%3B%20padding-right%3A%204px%3B%20padding-bottom%3A%203px%3B%20padding-left%3A%204px%3B%20position%3A%20absolute%3B%20top%3A%20140px%3B%20width%3A%20120px%3B%20text-align%3A%20right%3B%20background-color%3A%20rgb(250%2C%20250%2C%20250)%3B%20border-right-width%3A%201px%3B%20border-right-style%3A%20solid%3B%20border-right-color%3A%20rgb(233%2C%20233%2C%20233)%7D%0A.css-n2g4so-PivotTableSkeleton%20%7Bfont-size%3A%2012px%3B%20height%3A%2028px%3B%20left%3A%20120px%3B%20padding-top%3A%204px%3B%20padding-right%3A%204px%3B%20padding-bottom%3A%203px%3B%20padding-left%3A%204px%3B%20position%3A%20absolute%3B%20top%3A%20140px%3B%20width%3A%20120px%3B%20text-align%3A%20right%3B%20background-color%3A%20rgb(250%2C%20250%2C%20250)%3B%20border-right-width%3A%201px%3B%20border-right-style%3A%20solid%3B%20border-right-color%3A%20rgb(233%2C%20233%2C%20233)%7D%0A.css-1twvtro-PivotTableSkeleton%20%7Bfont-size%3A%2012px%3B%20height%3A%2028px%3B%20left%3A%20240px%3B%20padding-top%3A%204px%3B%20padding-right%3A%204px%3B%20padding-bottom%3A%203px%3B%20padding-left%3A%204px%3B%20position%3A%20absolute%3B%20top%3A%20140px%3B%20width%3A%20120px%3B%20text-align%3A%20right%3B%20background-color%3A%20rgb(250%2C%20250%2C%20250)%3B%20border-right-width%3A%201px%3B%20border-right-style%3A%20solid%3B%20border-right-color%3A%20rgb(233%2C%20233%2C%20233)%7D%0A.css-xut3is-PivotTableSkeleton%20%7Bfont-size%3A%2012px%3B%20height%3A%2028px%3B%20left%3A%200px%3B%20padding-top%3A%204px%3B%20padding-right%3A%204px%3B%20padding-bottom%3A%203px%3B%20padding-left%3A%204px%3B%20position%3A%20absolute%3B%20top%3A%20168px%3B%20width%3A%20120px%3B%20text-align%3A%20right%3B%20background-color%3A%20transparent%3B%20border-right-width%3A%201px%3B%20border-right-style%3A%20solid%3B%20border-right-color%3A%20rgb(233%2C%20233%2C%20233)%7D%0A.css-qzbqn9-PivotTableSkeleton%20%7Bfont-size%3A%2012px%3B%20height%3A%2028px%3B%20left%3A%20120px%3B%20padding-top%3A%204px%3B%20padding-right%3A%204px%3B%20padding-bottom%3A%203px%3B%20padding-left%3A%204px%3B%20position%3A%20absolute%3B%20top%3A%20168px%3B%20width%3A%20120px%3B%20text-align%3A%20right%3B%20background-color%3A%20transparent%3B%20border-right-width%3A%201px%3B%20border-right-style%3A%20solid%3B%20border-right-color%3A%20rgb(233%2C%20233%2C%20233)%7D%0A.css-4iy435-PivotTableSkeleton%20%7Bfont-size%3A%2012px%3B%20height%3A%2028px%3B%20left%3A%20240px%3B%20padding-top%3A%204px%3B%20padding-right%3A%204px%3B%20padding-bottom%3A%203px%3B%20padding-left%3A%204px%3B%20position%3A%20absolute%3B%20top%3A%20168px%3B%20width%3A%20120px%3B%20text-align%3A%20right%3B%20background-color%3A%20transparent%3B%20border-right-width%3A%201px%3B%20border-right-style%3A%20solid%3B%20border-right-color%3A%20rgb(233%2C%20233%2C%20233)%7D%0A*%20%7B-ms-overflow-style%3A%20none%3B%20scrollbar-width%3A%20none%7D%0A*%3A%3A-webkit-scrollbar%20%7Bdisplay%3A%20none%7D%0A.atoti-hidden-in-snapshot%20%7Bdisplay%3A%20none%7D%3C%2Fstyle%3E%3Cdiv%20xmlns%3D%22http%3A%2F%2Fwww.w3.org%2F1999%2Fxhtml%22%20style%3D%22height%3A%20352px%3B%20width%3A%201169px%3B%22%3E%3Cdiv%20class%3D%22ant-root%20css-0%22%3E%3Cdiv%20class%3D%22ant-dropdown-trigger%20css-12ebr42-AWidget%22%3E%3Cdiv%20data-testid%3D%22pivot-table-skeleton%22%20class%3D%22css-10oheb9-PivotTableSkeleton%22%3E%3Cdiv%20class%3D%22css-10y4rp7-PivotTableSkeleton%22%3E%3Cdiv%3E%3Cdiv%20class%3D%22css-l9stdl-PivotTableSkeleton%22%3E%3Cdiv%20class%3D%22css-vlvbho-PivotTableSkeleton%22%3E%3C%2Fdiv%3E%3C%2Fdiv%3E%3Cdiv%20class%3D%22css-wd4jqf-PivotTableSkeleton%22%3E%3Cdiv%20class%3D%22css-xod72v-PivotTableSkeleton%22%3E%3C%2Fdiv%3E%3Cdiv%20class%3D%22css-102j3jy-PivotTableSkeleton%22%3E%3C%2Fdiv%3E%3Cdiv%20class%3D%22css-10lsmvy-PivotTableSkeleton%22%3E%3C%2Fdiv%3E%3Cdiv%20class%3D%22css-8bb9d0-PivotTableSkeleton%22%3E%3C%2Fdiv%3E%3Cdiv%20class%3D%22css-1j0ml73-PivotTableSkeleton%22%3E%3C%2Fdiv%3E%3Cdiv%20class%3D%22css-hlc0en-PivotTableSkeleton%22%3E%3C%2Fdiv%3E%3Cdiv%20class%3D%22css-1ldkvja-PivotTableSkeleton%22%3E%3C%2Fdiv%3E%3C%2Fdiv%3E%3C%2Fdiv%3E%3Cdiv%3E%3Cdiv%20class%3D%22css-1t96e2l-PivotTableSkeleton%22%3E%3Cdiv%20class%3D%22css-1edqi56-PivotTableSkeleton%22%3E%3C%2Fdiv%3E%3Cdiv%20class%3D%22css-1axe9lj-PivotTableSkeleton%22%3E%3C%2Fdiv%3E%3C%2Fdiv%3E%3Cdiv%20class%3D%22css-acwxn9-PivotTableSkeleton%22%3E%3Cdiv%20class%3D%22css-17630mm-PivotTableSkeleton%22%3E%3C%2Fdiv%3E%3Cdiv%20class%3D%22css-pybx3g-PivotTableSkeleton%22%3E%3C%2Fdiv%3E%3Cdiv%20class%3D%22css-2tdf63-PivotTableSkeleton%22%3E%3C%2Fdiv%3E%3Cdiv%20class%3D%22css-2b6qvh-PivotTableSkeleton%22%3E%3C%2Fdiv%3E%3Cdiv%20class%3D%22css-1u7fez1-PivotTableSkeleton%22%3E%3C%2Fdiv%3E%3Cdiv%20class%3D%22css-15g1t0-PivotTableSkeleton%22%3E%3C%2Fdiv%3E%3Cdiv%20class%3D%22css-1vah17m-PivotTableSkeleton%22%3E%3C%2Fdiv%3E%3Cdiv%20class%3D%22css-98oxix-PivotTableSkeleton%22%3E%3C%2Fdiv%3E%3Cdiv%20class%3D%22css-jbwpya-PivotTableSkeleton%22%3E%3C%2Fdiv%3E%3Cdiv%20class%3D%22css-1jofmop-PivotTableSkeleton%22%3E%3C%2Fdiv%3E%3Cdiv%20class%3D%22css-ydun0r-PivotTableSkeleton%22%3E%3C%2Fdiv%3E%3Cdiv%20class%3D%22css-470xm9-PivotTableSkeleton%22%3E%3C%2Fdiv%3E%3Cdiv%20class%3D%22css-vz0ocg-PivotTableSkeleton%22%3E%3C%2Fdiv%3E%3Cdiv%20class%3D%22css-38isqx-PivotTableSkeleton%22%3E%3C%2Fdiv%3E%3Cdiv%20class%3D%22css-1dz7td4-PivotTableSkeleton%22%3E%3C%2Fdiv%3E%3Cdiv%20class%3D%22css-muqvat-PivotTableSkeleton%22%3E%3C%2Fdiv%3E%3Cdiv%20class%3D%22css-n2g4so-PivotTableSkeleton%22%3E%3C%2Fdiv%3E%3Cdiv%20class%3D%22css-1twvtro-PivotTableSkeleton%22%3E%3C%2Fdiv%3E%3Cdiv%20class%3D%22css-xut3is-PivotTableSkeleton%22%3E%3C%2Fdiv%3E%3Cdiv%20class%3D%22css-qzbqn9-PivotTableSkeleton%22%3E%3C%2Fdiv%3E%3Cdiv%20class%3D%22css-4iy435-PivotTableSkeleton%22%3E%3C%2Fdiv%3E%3C%2Fdiv%3E%3C%2Fdiv%3E%3C%2Fdiv%3E%3C%2Fdiv%3E%3C%2Fdiv%3E%3C%2Fdiv%3E%3C%2Fdiv%3E%3C%2FforeignObject%3E%3C%2Fsvg%3E\">"
      ],
      "text/plain": [
       "Open the notebook in JupyterLab with the atoti extension enabled to build this widget."
      ]
     },
     "metadata": {},
     "output_type": "display_data"
    }
   ],
   "source": [
    "session.visualize()"
   ]
  },
  {
   "cell_type": "code",
   "execution_count": null,
   "id": "43a56bdf-fe1a-4204-9ac4-23b39462fb7b",
   "metadata": {},
   "outputs": [],
   "source": []
  }
 ],
 "metadata": {
  "kernelspec": {
   "display_name": "Python 3 (ipykernel)",
   "language": "python",
   "name": "python3"
  },
  "language_info": {
   "codemirror_mode": {
    "name": "ipython",
    "version": 3
   },
   "file_extension": ".py",
   "mimetype": "text/x-python",
   "name": "python",
   "nbconvert_exporter": "python",
   "pygments_lexer": "ipython3",
   "version": "3.10.2"
  }
 },
 "nbformat": 4,
 "nbformat_minor": 5
}
